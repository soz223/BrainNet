{
 "cells": [
  {
   "cell_type": "code",
   "execution_count": 1,
   "metadata": {},
   "outputs": [],
   "source": [
    "import os\n",
    "import numpy as np\n",
    "import pandas as pd\n",
    "import pingouin as pg\n",
    "from utils import *\n",
    "\n",
    "\n",
    "# Directory where the data files are located\n",
    "directory = '../data/ADNI/data_normalized/'\n",
    "file_prefix = 'data_'\n",
    "file_suffix = '.csv'\n",
    "\n",
    "functions = [\n",
    "    # coherence_matrix,\n",
    "    # generalised_synchronisation_matrix,\n",
    "    # patels_conditional_dependence_measures,\n",
    "    # patels_conditional_dependence_measures_kappa,\n",
    "    # patels_conditional_dependence_measures_tau,\n",
    "    lingam,\n",
    "\n",
    "    # pearson_correlation,\n",
    "    # cosine_similarity,\n",
    "    # partial_correlation,\n",
    "    # correlations_correlation,\n",
    "    # associated_high_order_fc,\n",
    "    # euclidean_distance,\n",
    "    # knn_graph,\n",
    "    # spearman_correlation,\n",
    "    # kendall_correlation,\n",
    "    # mutual_information,\n",
    "    # cross_correlation,\n",
    "    # granger_causality,\n",
    "]"
   ]
  },
  {
   "cell_type": "code",
   "execution_count": 2,
   "metadata": {},
   "outputs": [
    {
     "name": "stdout",
     "output_type": "stream",
     "text": [
      "Performing LiNGAM causal analysis...\n",
      "Processed file ../data/ADNI/data_normalized/data_1.csv\n",
      "Performing LiNGAM causal analysis...\n"
     ]
    },
    {
     "ename": "KeyboardInterrupt",
     "evalue": "",
     "output_type": "error",
     "traceback": [
      "\u001b[0;31m---------------------------------------------------------------------------\u001b[0m",
      "\u001b[0;31mKeyboardInterrupt\u001b[0m                         Traceback (most recent call last)",
      "Cell \u001b[0;32mIn[2], line 16\u001b[0m\n\u001b[1;32m     13\u001b[0m data \u001b[38;5;241m=\u001b[39m pd\u001b[38;5;241m.\u001b[39mread_csv(file_path, header\u001b[38;5;241m=\u001b[39m\u001b[38;5;28;01mNone\u001b[39;00m)\n\u001b[1;32m     15\u001b[0m \u001b[38;5;66;03m# Calculate the  correlation matrix\u001b[39;00m\n\u001b[0;32m---> 16\u001b[0m corr_matrix \u001b[38;5;241m=\u001b[39m \u001b[43mfunction\u001b[49m\u001b[43m(\u001b[49m\u001b[43mdata\u001b[49m\u001b[43m)\u001b[49m\n\u001b[1;32m     19\u001b[0m corr_df \u001b[38;5;241m=\u001b[39m pd\u001b[38;5;241m.\u001b[39mDataFrame(corr_matrix)\n\u001b[1;32m     21\u001b[0m \u001b[38;5;66;03m# plot_correlation_matrix(corr_df, f\"Correlation matrix for {file_path}\")\u001b[39;00m\n\u001b[1;32m     22\u001b[0m \n\u001b[1;32m     23\u001b[0m \u001b[38;5;66;03m# visualize the correlation matrix\u001b[39;00m\n\u001b[1;32m     24\u001b[0m \n\u001b[1;32m     25\u001b[0m \u001b[38;5;66;03m# get the name of the function in str\u001b[39;00m\n",
      "File \u001b[0;32m/data/soz223/BrainNet/graph_construction/utils.py:456\u001b[0m, in \u001b[0;36mlingam_causal_analysis\u001b[0;34m(data)\u001b[0m\n\u001b[1;32m    454\u001b[0m \u001b[38;5;66;03m# Create a DirectLiNGAM model and fit the data\u001b[39;00m\n\u001b[1;32m    455\u001b[0m model \u001b[38;5;241m=\u001b[39m DirectLiNGAM()\n\u001b[0;32m--> 456\u001b[0m \u001b[43mmodel\u001b[49m\u001b[38;5;241;43m.\u001b[39;49m\u001b[43mfit\u001b[49m\u001b[43m(\u001b[49m\u001b[43mdata\u001b[49m\u001b[43m)\u001b[49m\n\u001b[1;32m    458\u001b[0m \u001b[38;5;66;03m# Get the causal matrix and causal order\u001b[39;00m\n\u001b[1;32m    459\u001b[0m causal_matrix \u001b[38;5;241m=\u001b[39m model\u001b[38;5;241m.\u001b[39madjacency_matrix_\n",
      "File \u001b[0;32m~/anaconda3/envs/brainnet/lib/python3.12/site-packages/lingam/direct_lingam.py:103\u001b[0m, in \u001b[0;36mDirectLiNGAM.fit\u001b[0;34m(self, X)\u001b[0m\n\u001b[1;32m    101\u001b[0m     m \u001b[38;5;241m=\u001b[39m \u001b[38;5;28mself\u001b[39m\u001b[38;5;241m.\u001b[39m_search_causal_order_gpu(X_\u001b[38;5;241m.\u001b[39mastype(np\u001b[38;5;241m.\u001b[39mfloat64), U\u001b[38;5;241m.\u001b[39mastype(np\u001b[38;5;241m.\u001b[39mint32))\n\u001b[1;32m    102\u001b[0m \u001b[38;5;28;01melse\u001b[39;00m:\n\u001b[0;32m--> 103\u001b[0m     m \u001b[38;5;241m=\u001b[39m \u001b[38;5;28;43mself\u001b[39;49m\u001b[38;5;241;43m.\u001b[39;49m\u001b[43m_search_causal_order\u001b[49m\u001b[43m(\u001b[49m\u001b[43mX_\u001b[49m\u001b[43m,\u001b[49m\u001b[43m \u001b[49m\u001b[43mU\u001b[49m\u001b[43m)\u001b[49m\n\u001b[1;32m    104\u001b[0m \u001b[38;5;28;01mfor\u001b[39;00m i \u001b[38;5;129;01min\u001b[39;00m U:\n\u001b[1;32m    105\u001b[0m     \u001b[38;5;28;01mif\u001b[39;00m i \u001b[38;5;241m!=\u001b[39m m:\n",
      "File \u001b[0;32m~/anaconda3/envs/brainnet/lib/python3.12/site-packages/lingam/direct_lingam.py:228\u001b[0m, in \u001b[0;36mDirectLiNGAM._search_causal_order\u001b[0;34m(self, X, U)\u001b[0m\n\u001b[1;32m    223\u001b[0m xi_std \u001b[38;5;241m=\u001b[39m (X[:, i] \u001b[38;5;241m-\u001b[39m np\u001b[38;5;241m.\u001b[39mmean(X[:, i])) \u001b[38;5;241m/\u001b[39m np\u001b[38;5;241m.\u001b[39mstd(X[:, i])\n\u001b[1;32m    224\u001b[0m xj_std \u001b[38;5;241m=\u001b[39m (X[:, j] \u001b[38;5;241m-\u001b[39m np\u001b[38;5;241m.\u001b[39mmean(X[:, j])) \u001b[38;5;241m/\u001b[39m np\u001b[38;5;241m.\u001b[39mstd(X[:, j])\n\u001b[1;32m    225\u001b[0m ri_j \u001b[38;5;241m=\u001b[39m (\n\u001b[1;32m    226\u001b[0m     xi_std\n\u001b[1;32m    227\u001b[0m     \u001b[38;5;28;01mif\u001b[39;00m i \u001b[38;5;129;01min\u001b[39;00m Vj \u001b[38;5;129;01mand\u001b[39;00m j \u001b[38;5;129;01min\u001b[39;00m Uc\n\u001b[0;32m--> 228\u001b[0m     \u001b[38;5;28;01melse\u001b[39;00m \u001b[38;5;28;43mself\u001b[39;49m\u001b[38;5;241;43m.\u001b[39;49m\u001b[43m_residual\u001b[49m\u001b[43m(\u001b[49m\u001b[43mxi_std\u001b[49m\u001b[43m,\u001b[49m\u001b[43m \u001b[49m\u001b[43mxj_std\u001b[49m\u001b[43m)\u001b[49m\n\u001b[1;32m    229\u001b[0m )\n\u001b[1;32m    230\u001b[0m rj_i \u001b[38;5;241m=\u001b[39m (\n\u001b[1;32m    231\u001b[0m     xj_std\n\u001b[1;32m    232\u001b[0m     \u001b[38;5;28;01mif\u001b[39;00m j \u001b[38;5;129;01min\u001b[39;00m Vj \u001b[38;5;129;01mand\u001b[39;00m i \u001b[38;5;129;01min\u001b[39;00m Uc\n\u001b[1;32m    233\u001b[0m     \u001b[38;5;28;01melse\u001b[39;00m \u001b[38;5;28mself\u001b[39m\u001b[38;5;241m.\u001b[39m_residual(xj_std, xi_std)\n\u001b[1;32m    234\u001b[0m )\n\u001b[1;32m    235\u001b[0m M \u001b[38;5;241m+\u001b[39m\u001b[38;5;241m=\u001b[39m np\u001b[38;5;241m.\u001b[39mmin([\u001b[38;5;241m0\u001b[39m, \u001b[38;5;28mself\u001b[39m\u001b[38;5;241m.\u001b[39m_diff_mutual_info(xi_std, xj_std, ri_j, rj_i)]) \u001b[38;5;241m*\u001b[39m\u001b[38;5;241m*\u001b[39m \u001b[38;5;241m2\u001b[39m\n",
      "File \u001b[0;32m~/anaconda3/envs/brainnet/lib/python3.12/site-packages/lingam/direct_lingam.py:151\u001b[0m, in \u001b[0;36mDirectLiNGAM._residual\u001b[0;34m(self, xi, xj)\u001b[0m\n\u001b[1;32m    149\u001b[0m \u001b[38;5;28;01mdef\u001b[39;00m \u001b[38;5;21m_residual\u001b[39m(\u001b[38;5;28mself\u001b[39m, xi, xj):\n\u001b[1;32m    150\u001b[0m \u001b[38;5;250m    \u001b[39m\u001b[38;5;124;03m\"\"\"The residual when xi is regressed on xj.\"\"\"\u001b[39;00m\n\u001b[0;32m--> 151\u001b[0m     \u001b[38;5;28;01mreturn\u001b[39;00m xi \u001b[38;5;241m-\u001b[39m (\u001b[43mnp\u001b[49m\u001b[38;5;241;43m.\u001b[39;49m\u001b[43mcov\u001b[49m\u001b[43m(\u001b[49m\u001b[43mxi\u001b[49m\u001b[43m,\u001b[49m\u001b[43m \u001b[49m\u001b[43mxj\u001b[49m\u001b[43m,\u001b[49m\u001b[43m \u001b[49m\u001b[43mbias\u001b[49m\u001b[38;5;241;43m=\u001b[39;49m\u001b[38;5;28;43;01mTrue\u001b[39;49;00m\u001b[43m)\u001b[49m[\u001b[38;5;241m0\u001b[39m, \u001b[38;5;241m1\u001b[39m] \u001b[38;5;241m/\u001b[39m np\u001b[38;5;241m.\u001b[39mvar(xj)) \u001b[38;5;241m*\u001b[39m xj\n",
      "File \u001b[0;32m~/anaconda3/envs/brainnet/lib/python3.12/site-packages/numpy/lib/function_base.py:2749\u001b[0m, in \u001b[0;36mcov\u001b[0;34m(m, y, rowvar, bias, ddof, fweights, aweights, dtype)\u001b[0m\n\u001b[1;32m   2747\u001b[0m c \u001b[38;5;241m=\u001b[39m dot(X, X_T\u001b[38;5;241m.\u001b[39mconj())\n\u001b[1;32m   2748\u001b[0m c \u001b[38;5;241m*\u001b[39m\u001b[38;5;241m=\u001b[39m np\u001b[38;5;241m.\u001b[39mtrue_divide(\u001b[38;5;241m1\u001b[39m, fact)\n\u001b[0;32m-> 2749\u001b[0m \u001b[38;5;28;01mreturn\u001b[39;00m \u001b[43mc\u001b[49m\u001b[38;5;241;43m.\u001b[39;49m\u001b[43msqueeze\u001b[49m\u001b[43m(\u001b[49m\u001b[43m)\u001b[49m\n",
      "\u001b[0;31mKeyboardInterrupt\u001b[0m: "
     ]
    }
   ],
   "source": [
    "\n",
    "# Iterate through files from 1 to 1306\n",
    "\n",
    "for function in functions:\n",
    "    for i in range(1, 1306):\n",
    "        file_path = os.path.join(directory, f\"{file_prefix}{i}{file_suffix}\")\n",
    "        \n",
    "        # Check if the file exists\n",
    "        if not os.path.exists(file_path):\n",
    "            print(f\"File {file_path} does not exist. Skipping.\")\n",
    "            continue\n",
    "        \n",
    "        # Read the data\n",
    "        data = pd.read_csv(file_path, header=None)\n",
    "        \n",
    "        # Calculate the  correlation matrix\n",
    "        corr_matrix = function(data)\n",
    "\n",
    "        \n",
    "        corr_df = pd.DataFrame(corr_matrix)\n",
    "\n",
    "        # plot_correlation_matrix(corr_df, f\"Correlation matrix for {file_path}\")\n",
    "\n",
    "        # visualize the correlation matrix\n",
    "\n",
    "        # get the name of the function in str\n",
    "        function_name = function.__name__\n",
    "\n",
    "        # save the correlation matrix\n",
    "        # save the name of the file\n",
    "        path_of_folder = f'../data/ADNI/fmri_edge/{function_name}/'\n",
    "        if not os.path.exists(path_of_folder):\n",
    "            os.makedirs(path_of_folder)\n",
    "        corr_df.to_csv(path_of_folder + f\"{function_name}{i}{file_suffix}\", index=False)\n",
    "        print(f\"Processed file {file_path}\")\n",
    "\n",
    "print(\"Processing complete.\")"
   ]
  },
  {
   "cell_type": "markdown",
   "metadata": {},
   "source": [
    "Dynamic graph\n"
   ]
  },
  {
   "cell_type": "code",
   "execution_count": 3,
   "metadata": {},
   "outputs": [],
   "source": [
    "functions = [\n",
    "    # pearson_correlation,\n",
    "    # cosine_similarity,\n",
    "    # partial_correlation,\n",
    "    # correlations_correlation,\n",
    "    # associated_high_order_fc,\n",
    "    # knn_graph,\n",
    "    # spearman_correlation,\n",
    "    # kendall_correlation,\n",
    "    # mutual_information,\n",
    "    # cross_correlation,\n",
    "    # granger_causality,\n",
    "    # euclidean_distance,\n",
    "]"
   ]
  },
  {
   "cell_type": "code",
   "execution_count": 4,
   "metadata": {},
   "outputs": [],
   "source": [
    "correlation_dyn_graphs = []\n",
    "for function in functions:\n",
    "    for subject_order in range(1, 1306):\n",
    "        dynamic_correlation_matrixes = []\n",
    "        # calculate the dynamic graph metrics\n",
    "        time_window = 50\n",
    "        stride = 3\n",
    "        file_path = os.path.join(directory, f\"{file_prefix}{subject_order}{file_suffix}\")\n",
    "        data = pd.read_csv(file_path)\n",
    "        for i in range(0, data.shape[0] - time_window, stride):\n",
    "            window_data = data[i:i+time_window]\n",
    "            correlation_matrix = function(window_data)\n",
    "            dynamic_correlation_matrixes.append(correlation_matrix)\n",
    "        # Convert each dynamic Pearson correlation matrix into a Data object\n",
    "        data_list = [correlation_matrix_to_graph_data(matrix) for matrix in dynamic_correlation_matrixes]\n",
    "        data_batch = Batch.from_data_list(data_list)\n",
    "        correlation_dyn_graphs.append(data_batch)\n",
    "        function_name = function.__name__\n",
    "        path_of_folder = f'../data/ADNI/fmri_edge/{function_name}_dynamic/'\n",
    "        if not os.path.exists(path_of_folder):\n",
    "            os.makedirs(path_of_folder)\n",
    "        torch.save(data_batch, path_of_folder + f\"{function_name}_dynamic{subject_order}.pt\")\n",
    "        print(f\"method {function_name} {subject_order} processed\")"
   ]
  }
 ],
 "metadata": {
  "kernelspec": {
   "display_name": "Python 3 (ipykernel)",
   "language": "python",
   "name": "python3"
  },
  "language_info": {
   "codemirror_mode": {
    "name": "ipython",
    "version": 3
   },
   "file_extension": ".py",
   "mimetype": "text/x-python",
   "name": "python",
   "nbconvert_exporter": "python",
   "pygments_lexer": "ipython3",
   "version": "3.12.3"
  }
 },
 "nbformat": 4,
 "nbformat_minor": 4
}
