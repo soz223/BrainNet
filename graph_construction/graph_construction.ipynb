{
 "cells": [
  {
   "cell_type": "code",
   "execution_count": 1,
   "metadata": {},
   "outputs": [],
   "source": [
    "import os\n",
    "import numpy as np\n",
    "import pandas as pd\n",
    "import pingouin as pg\n",
    "from utils import *\n",
    "\n",
    "\n",
    "# Directory where the data files are located\n",
    "directory = '../data/ADNI/data_normalized/'\n",
    "file_prefix = 'data_'\n",
    "file_suffix = '.csv'\n",
    "\n",
    "functions = [\n",
    "    # pearson_correlation,\n",
    "    # cosine_similarity,\n",
    "    # partial_correlation,\n",
    "    # correlations_correlation,\n",
    "    # associated_high_order_fc,\n",
    "    # euclidean_distance,\n",
    "    # knn_graph,\n",
    "    # spearman_correlation,\n",
    "    # kendall_correlation,\n",
    "    # mutual_information,\n",
    "    # cross_correlation,\n",
    "    # granger_causality,\n",
    "]\n"
   ]
  },
  {
   "cell_type": "code",
   "execution_count": 2,
   "metadata": {},
   "outputs": [
    {
     "name": "stdout",
     "output_type": "stream",
     "text": [
      "Processing complete.\n"
     ]
    }
   ],
   "source": [
    "\n",
    "# Iterate through files from 1 to 1306\n",
    "\n",
    "for function in functions:\n",
    "    for i in range(1, 1306):\n",
    "        file_path = os.path.join(directory, f\"{file_prefix}{i}{file_suffix}\")\n",
    "        \n",
    "        # Check if the file exists\n",
    "        if not os.path.exists(file_path):\n",
    "            print(f\"File {file_path} does not exist. Skipping.\")\n",
    "            continue\n",
    "        \n",
    "        # Read the data\n",
    "        data = pd.read_csv(file_path, header=None)\n",
    "        \n",
    "        # Calculate the  correlation matrix\n",
    "\n",
    "\n",
    "\n",
    "        # corr_matrix = mutual_information(data)\n",
    "        corr_matrix = function(data)\n",
    "\n",
    "        \n",
    "        corr_df = pd.DataFrame(corr_matrix)\n",
    "\n",
    "        # plot_correlation_matrix(corr_df, f\"Correlation matrix for {file_path}\")\n",
    "\n",
    "        # visualize the correlation matrix\n",
    "\n",
    "        # get the name of the function in str\n",
    "        function_name = function.__name__\n",
    "\n",
    "        # save the correlation matrix\n",
    "        # save the name of the file\n",
    "        path_of_folder = f'../data/ADNI/fmri_edge/{function_name}/'\n",
    "        if not os.path.exists(path_of_folder):\n",
    "            os.makedirs(path_of_folder)\n",
    "        corr_df.to_csv(path_of_folder + f\"{function_name}{i}{file_suffix}\", index=False)\n",
    "        print(f\"Processed file {file_path}\")\n",
    "\n",
    "print(\"Processing complete.\")"
   ]
  },
  {
   "cell_type": "markdown",
   "metadata": {},
   "source": [
    "Dynamic graph\n"
   ]
  },
  {
   "cell_type": "code",
   "execution_count": 3,
   "metadata": {},
   "outputs": [],
   "source": [
    "functions = [\n",
    "    # pearson_correlation,\n",
    "    # cosine_similarity,\n",
    "    # partial_correlation,\n",
    "    # correlations_correlation,\n",
    "    # associated_high_order_fc,\n",
    "    knn_graph,\n",
    "    spearman_correlation,\n",
    "    kendall_correlation,\n",
    "    mutual_information,\n",
    "    cross_correlation,\n",
    "    granger_causality,\n",
    "    euclidean_distance,\n",
    "]"
   ]
  },
  {
   "cell_type": "code",
   "execution_count": null,
   "metadata": {},
   "outputs": [
    {
     "name": "stdout",
     "output_type": "stream",
     "text": [
      "method knn_graph 1 processed\n",
      "method knn_graph 2 processed\n",
      "method knn_graph 3 processed\n",
      "method knn_graph 4 processed\n",
      "method knn_graph 5 processed\n",
      "method knn_graph 6 processed\n",
      "method knn_graph 7 processed\n",
      "method knn_graph 8 processed\n",
      "method knn_graph 9 processed\n",
      "method knn_graph 10 processed\n",
      "method knn_graph 11 processed\n",
      "method knn_graph 12 processed\n"
     ]
    }
   ],
   "source": [
    "correlation_dyn_graphs = []\n",
    "for function in functions:\n",
    "    for subject_order in range(1, 1306):\n",
    "        dynamic_correlation_matrixes = []\n",
    "        # calculate the dynamic graph metrics\n",
    "        time_window = 50\n",
    "        stride = 3\n",
    "        file_path = os.path.join(directory, f\"{file_prefix}{subject_order}{file_suffix}\")\n",
    "        data = pd.read_csv(file_path)\n",
    "        for i in range(0, data.shape[0] - time_window, stride):\n",
    "            window_data = data[i:i+time_window]\n",
    "            correlation_matrix = function(window_data)\n",
    "            dynamic_correlation_matrixes.append(correlation_matrix)\n",
    "        # Convert each dynamic Pearson correlation matrix into a Data object\n",
    "        data_list = [correlation_matrix_to_graph_data(matrix) for matrix in dynamic_correlation_matrixes]\n",
    "        data_batch = Batch.from_data_list(data_list)\n",
    "        correlation_dyn_graphs.append(data_batch)\n",
    "        function_name = function.__name__\n",
    "        path_of_folder = f'../data/ADNI/fmri_edge/{function_name}_dynamic/'\n",
    "        if not os.path.exists(path_of_folder):\n",
    "            os.makedirs(path_of_folder)\n",
    "        torch.save(data_batch, path_of_folder + f\"{function_name}_dynamic{subject_order}.pt\")\n",
    "        print(f\"method {function_name} {subject_order} processed\")"
   ]
  },
  {
   "cell_type": "code",
   "execution_count": 2,
   "metadata": {},
   "outputs": [
    {
     "ename": "FileNotFoundError",
     "evalue": "[Errno 2] No such file or directory: '../data/ADNI/fmri_edge/pearson_correlation_dynamic/pearson_correlation_dynamic1.pt'",
     "output_type": "error",
     "traceback": [
      "\u001b[0;31m---------------------------------------------------------------------------\u001b[0m",
      "\u001b[0;31mFileNotFoundError\u001b[0m                         Traceback (most recent call last)",
      "Cell \u001b[0;32mIn[2], line 3\u001b[0m\n\u001b[1;32m      1\u001b[0m \u001b[38;5;66;03m# read from ../data/ADNI/fmri_edge/pearson_correlation_dynamic/pearson_correlation_dynamic1.pt\u001b[39;00m\n\u001b[1;32m      2\u001b[0m \u001b[38;5;66;03m# to load the dynamic graph data\u001b[39;00m\n\u001b[0;32m----> 3\u001b[0m data \u001b[38;5;241m=\u001b[39m \u001b[43mtorch\u001b[49m\u001b[38;5;241;43m.\u001b[39;49m\u001b[43mload\u001b[49m\u001b[43m(\u001b[49m\u001b[38;5;124;43m'\u001b[39;49m\u001b[38;5;124;43m../data/ADNI/fmri_edge/pearson_correlation_dynamic/pearson_correlation_dynamic1.pt\u001b[39;49m\u001b[38;5;124;43m'\u001b[39;49m\u001b[43m)\u001b[49m\n\u001b[1;32m      4\u001b[0m \u001b[38;5;28mprint\u001b[39m(data)\n",
      "File \u001b[0;32m~/anaconda3/envs/brainnet/lib/python3.12/site-packages/torch/serialization.py:997\u001b[0m, in \u001b[0;36mload\u001b[0;34m(f, map_location, pickle_module, weights_only, mmap, **pickle_load_args)\u001b[0m\n\u001b[1;32m    994\u001b[0m \u001b[38;5;28;01mif\u001b[39;00m \u001b[38;5;124m'\u001b[39m\u001b[38;5;124mencoding\u001b[39m\u001b[38;5;124m'\u001b[39m \u001b[38;5;129;01mnot\u001b[39;00m \u001b[38;5;129;01min\u001b[39;00m pickle_load_args\u001b[38;5;241m.\u001b[39mkeys():\n\u001b[1;32m    995\u001b[0m     pickle_load_args[\u001b[38;5;124m'\u001b[39m\u001b[38;5;124mencoding\u001b[39m\u001b[38;5;124m'\u001b[39m] \u001b[38;5;241m=\u001b[39m \u001b[38;5;124m'\u001b[39m\u001b[38;5;124mutf-8\u001b[39m\u001b[38;5;124m'\u001b[39m\n\u001b[0;32m--> 997\u001b[0m \u001b[38;5;28;01mwith\u001b[39;00m \u001b[43m_open_file_like\u001b[49m\u001b[43m(\u001b[49m\u001b[43mf\u001b[49m\u001b[43m,\u001b[49m\u001b[43m \u001b[49m\u001b[38;5;124;43m'\u001b[39;49m\u001b[38;5;124;43mrb\u001b[39;49m\u001b[38;5;124;43m'\u001b[39;49m\u001b[43m)\u001b[49m \u001b[38;5;28;01mas\u001b[39;00m opened_file:\n\u001b[1;32m    998\u001b[0m     \u001b[38;5;28;01mif\u001b[39;00m _is_zipfile(opened_file):\n\u001b[1;32m    999\u001b[0m         \u001b[38;5;66;03m# The zipfile reader is going to advance the current file position.\u001b[39;00m\n\u001b[1;32m   1000\u001b[0m         \u001b[38;5;66;03m# If we want to actually tail call to torch.jit.load, we need to\u001b[39;00m\n\u001b[1;32m   1001\u001b[0m         \u001b[38;5;66;03m# reset back to the original position.\u001b[39;00m\n\u001b[1;32m   1002\u001b[0m         orig_position \u001b[38;5;241m=\u001b[39m opened_file\u001b[38;5;241m.\u001b[39mtell()\n",
      "File \u001b[0;32m~/anaconda3/envs/brainnet/lib/python3.12/site-packages/torch/serialization.py:444\u001b[0m, in \u001b[0;36m_open_file_like\u001b[0;34m(name_or_buffer, mode)\u001b[0m\n\u001b[1;32m    442\u001b[0m \u001b[38;5;28;01mdef\u001b[39;00m \u001b[38;5;21m_open_file_like\u001b[39m(name_or_buffer, mode):\n\u001b[1;32m    443\u001b[0m     \u001b[38;5;28;01mif\u001b[39;00m _is_path(name_or_buffer):\n\u001b[0;32m--> 444\u001b[0m         \u001b[38;5;28;01mreturn\u001b[39;00m \u001b[43m_open_file\u001b[49m\u001b[43m(\u001b[49m\u001b[43mname_or_buffer\u001b[49m\u001b[43m,\u001b[49m\u001b[43m \u001b[49m\u001b[43mmode\u001b[49m\u001b[43m)\u001b[49m\n\u001b[1;32m    445\u001b[0m     \u001b[38;5;28;01melse\u001b[39;00m:\n\u001b[1;32m    446\u001b[0m         \u001b[38;5;28;01mif\u001b[39;00m \u001b[38;5;124m'\u001b[39m\u001b[38;5;124mw\u001b[39m\u001b[38;5;124m'\u001b[39m \u001b[38;5;129;01min\u001b[39;00m mode:\n",
      "File \u001b[0;32m~/anaconda3/envs/brainnet/lib/python3.12/site-packages/torch/serialization.py:425\u001b[0m, in \u001b[0;36m_open_file.__init__\u001b[0;34m(self, name, mode)\u001b[0m\n\u001b[1;32m    424\u001b[0m \u001b[38;5;28;01mdef\u001b[39;00m \u001b[38;5;21m__init__\u001b[39m(\u001b[38;5;28mself\u001b[39m, name, mode):\n\u001b[0;32m--> 425\u001b[0m     \u001b[38;5;28msuper\u001b[39m()\u001b[38;5;241m.\u001b[39m\u001b[38;5;21m__init__\u001b[39m(\u001b[38;5;28;43mopen\u001b[39;49m\u001b[43m(\u001b[49m\u001b[43mname\u001b[49m\u001b[43m,\u001b[49m\u001b[43m \u001b[49m\u001b[43mmode\u001b[49m\u001b[43m)\u001b[49m)\n",
      "\u001b[0;31mFileNotFoundError\u001b[0m: [Errno 2] No such file or directory: '../data/ADNI/fmri_edge/pearson_correlation_dynamic/pearson_correlation_dynamic1.pt'"
     ]
    }
   ],
   "source": [
    "# read from ../data/ADNI/fmri_edge/pearson_correlation_dynamic/pearson_correlation_dynamic1.pt\n",
    "# to load the dynamic graph data\n",
    "data = torch.load('../data/ADNI/fmri_edge/pearson_correlation_dynamic/pearson_correlation_dynamic1.pt')\n",
    "print(data)"
   ]
  }
 ],
 "metadata": {
  "kernelspec": {
   "display_name": "Python 3 (ipykernel)",
   "language": "python",
   "name": "python3"
  },
  "language_info": {
   "codemirror_mode": {
    "name": "ipython",
    "version": 3
   },
   "file_extension": ".py",
   "mimetype": "text/x-python",
   "name": "python",
   "nbconvert_exporter": "python",
   "pygments_lexer": "ipython3",
   "version": "3.12.3"
  }
 },
 "nbformat": 4,
 "nbformat_minor": 4
}
