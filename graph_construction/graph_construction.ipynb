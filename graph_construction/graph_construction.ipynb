{
 "cells": [
  {
   "cell_type": "code",
   "execution_count": 1,
   "metadata": {},
   "outputs": [],
   "source": [
    "import os\n",
    "import numpy as np\n",
    "import pandas as pd\n",
    "import pingouin as pg\n",
    "from utils import *\n",
    "\n",
    "\n",
    "# Directory where the data files are located\n",
    "directory = '../data/ADNI/data_normalized/'\n",
    "file_prefix = 'data_'\n",
    "file_suffix = '.csv'\n",
    "\n",
    "functions = [\n",
    "    # coherence_matrix,\n",
    "    # generalised_synchronisation_matrix,\n",
    "    # patels_conditional_dependence_measures_kappa,\n",
    "    # patels_conditional_dependence_measures_tau,\n",
    "    # lingam,\n",
    "\n",
    "    # pearson_correlation,\n",
    "    # cosine_similarity,\n",
    "    partial_correlation,\n",
    "    # correlations_correlation,\n",
    "    # associated_high_order_fc,\n",
    "    # euclidean_distance,\n",
    "    # knn_graph,\n",
    "    # spearman_correlation,\n",
    "    # kendall_correlation,\n",
    "    # mutual_information,\n",
    "    # cross_correlation,\n",
    "    # granger_causality,\n",
    "]"
   ]
  },
  {
   "cell_type": "code",
   "execution_count": 2,
   "metadata": {},
   "outputs": [
    {
     "name": "stdout",
     "output_type": "stream",
     "text": [
      "Processed file ../data/ADNI/data_normalized/data_1.csv\n",
      "Processed file ../data/ADNI/data_normalized/data_2.csv\n",
      "Processed file ../data/ADNI/data_normalized/data_3.csv\n"
     ]
    },
    {
     "ename": "KeyboardInterrupt",
     "evalue": "",
     "output_type": "error",
     "traceback": [
      "\u001b[0;31m---------------------------------------------------------------------------\u001b[0m",
      "\u001b[0;31mKeyboardInterrupt\u001b[0m                         Traceback (most recent call last)",
      "Cell \u001b[0;32mIn[2], line 16\u001b[0m\n\u001b[1;32m     13\u001b[0m data \u001b[38;5;241m=\u001b[39m pd\u001b[38;5;241m.\u001b[39mread_csv(file_path, header\u001b[38;5;241m=\u001b[39m\u001b[38;5;28;01mNone\u001b[39;00m)\n\u001b[1;32m     15\u001b[0m \u001b[38;5;66;03m# Calculate the  correlation matrix\u001b[39;00m\n\u001b[0;32m---> 16\u001b[0m corr_matrix \u001b[38;5;241m=\u001b[39m \u001b[43mfunction\u001b[49m\u001b[43m(\u001b[49m\u001b[43mdata\u001b[49m\u001b[43m)\u001b[49m\n\u001b[1;32m     19\u001b[0m corr_df \u001b[38;5;241m=\u001b[39m pd\u001b[38;5;241m.\u001b[39mDataFrame(corr_matrix)\n\u001b[1;32m     21\u001b[0m \u001b[38;5;66;03m# plot_correlation_matrix(corr_df, f\"Correlation matrix for {file_path}\")\u001b[39;00m\n\u001b[1;32m     22\u001b[0m \n\u001b[1;32m     23\u001b[0m \u001b[38;5;66;03m# visualize the correlation matrix\u001b[39;00m\n\u001b[1;32m     24\u001b[0m \n\u001b[1;32m     25\u001b[0m \u001b[38;5;66;03m# get the name of the function in str\u001b[39;00m\n",
      "File \u001b[0;32m/data/soz223/BrainNet/graph_construction/utils.py:63\u001b[0m, in \u001b[0;36mpartial_correlation\u001b[0;34m(data)\u001b[0m\n\u001b[1;32m     60\u001b[0m             results\u001b[38;5;241m.\u001b[39mloc[i, j] \u001b[38;5;241m=\u001b[39m partial_corr_result[\u001b[38;5;124m'\u001b[39m\u001b[38;5;124mr\u001b[39m\u001b[38;5;124m'\u001b[39m]\u001b[38;5;241m.\u001b[39mvalues[\u001b[38;5;241m0\u001b[39m]\n\u001b[1;32m     61\u001b[0m         \u001b[38;5;28;01melse\u001b[39;00m:\n\u001b[1;32m     62\u001b[0m             \u001b[38;5;66;03m# Fill diagonal with NaN or 1.0 as self-correlation is not relevant\u001b[39;00m\n\u001b[0;32m---> 63\u001b[0m             results\u001b[38;5;241m.\u001b[39mloc[i, j] \u001b[38;5;241m=\u001b[39m \u001b[38;5;241m1.0\u001b[39m\n\u001b[1;32m     65\u001b[0m \u001b[38;5;66;03m# Convert results DataFrame to float type\u001b[39;00m\n\u001b[1;32m     66\u001b[0m results \u001b[38;5;241m=\u001b[39m results\u001b[38;5;241m.\u001b[39mastype(\u001b[38;5;28mfloat\u001b[39m)\n",
      "File \u001b[0;32m~/anaconda3/envs/brainnet/lib/python3.12/site-packages/pingouin/correlation.py:864\u001b[0m, in \u001b[0;36mpartial_corr\u001b[0;34m(data, x, y, covar, x_covar, y_covar, alternative, method)\u001b[0m\n\u001b[1;32m    862\u001b[0m \u001b[38;5;28;01melse\u001b[39;00m:\n\u001b[1;32m    863\u001b[0m     V \u001b[38;5;241m=\u001b[39m data\u001b[38;5;241m.\u001b[39mcov(numeric_only\u001b[38;5;241m=\u001b[39m\u001b[38;5;28;01mTrue\u001b[39;00m)\n\u001b[0;32m--> 864\u001b[0m Vi \u001b[38;5;241m=\u001b[39m \u001b[43mnp\u001b[49m\u001b[38;5;241;43m.\u001b[39;49m\u001b[43mlinalg\u001b[49m\u001b[38;5;241;43m.\u001b[39;49m\u001b[43mpinv\u001b[49m\u001b[43m(\u001b[49m\u001b[43mV\u001b[49m\u001b[43m,\u001b[49m\u001b[43m \u001b[49m\u001b[43mhermitian\u001b[49m\u001b[38;5;241;43m=\u001b[39;49m\u001b[38;5;28;43;01mTrue\u001b[39;49;00m\u001b[43m)\u001b[49m  \u001b[38;5;66;03m# Inverse covariance matrix\u001b[39;00m\n\u001b[1;32m    865\u001b[0m Vi_diag \u001b[38;5;241m=\u001b[39m Vi\u001b[38;5;241m.\u001b[39mdiagonal()\n\u001b[1;32m    866\u001b[0m D \u001b[38;5;241m=\u001b[39m np\u001b[38;5;241m.\u001b[39mdiag(np\u001b[38;5;241m.\u001b[39msqrt(\u001b[38;5;241m1\u001b[39m \u001b[38;5;241m/\u001b[39m Vi_diag))\n",
      "File \u001b[0;32m~/anaconda3/envs/brainnet/lib/python3.12/site-packages/numpy/linalg/linalg.py:2022\u001b[0m, in \u001b[0;36mpinv\u001b[0;34m(a, rcond, hermitian)\u001b[0m\n\u001b[1;32m   2020\u001b[0m     \u001b[38;5;28;01mreturn\u001b[39;00m wrap(res)\n\u001b[1;32m   2021\u001b[0m a \u001b[38;5;241m=\u001b[39m a\u001b[38;5;241m.\u001b[39mconjugate()\n\u001b[0;32m-> 2022\u001b[0m u, s, vt \u001b[38;5;241m=\u001b[39m \u001b[43msvd\u001b[49m\u001b[43m(\u001b[49m\u001b[43ma\u001b[49m\u001b[43m,\u001b[49m\u001b[43m \u001b[49m\u001b[43mfull_matrices\u001b[49m\u001b[38;5;241;43m=\u001b[39;49m\u001b[38;5;28;43;01mFalse\u001b[39;49;00m\u001b[43m,\u001b[49m\u001b[43m \u001b[49m\u001b[43mhermitian\u001b[49m\u001b[38;5;241;43m=\u001b[39;49m\u001b[43mhermitian\u001b[49m\u001b[43m)\u001b[49m\n\u001b[1;32m   2024\u001b[0m \u001b[38;5;66;03m# discard small singular values\u001b[39;00m\n\u001b[1;32m   2025\u001b[0m cutoff \u001b[38;5;241m=\u001b[39m rcond[\u001b[38;5;241m.\u001b[39m\u001b[38;5;241m.\u001b[39m\u001b[38;5;241m.\u001b[39m, newaxis] \u001b[38;5;241m*\u001b[39m amax(s, axis\u001b[38;5;241m=\u001b[39m\u001b[38;5;241m-\u001b[39m\u001b[38;5;241m1\u001b[39m, keepdims\u001b[38;5;241m=\u001b[39m\u001b[38;5;28;01mTrue\u001b[39;00m)\n",
      "File \u001b[0;32m~/anaconda3/envs/brainnet/lib/python3.12/site-packages/numpy/linalg/linalg.py:1647\u001b[0m, in \u001b[0;36msvd\u001b[0;34m(a, full_matrices, compute_uv, hermitian)\u001b[0m\n\u001b[1;32m   1642\u001b[0m \u001b[38;5;28;01mif\u001b[39;00m hermitian:\n\u001b[1;32m   1643\u001b[0m     \u001b[38;5;66;03m# note: lapack svd returns eigenvalues with s ** 2 sorted descending,\u001b[39;00m\n\u001b[1;32m   1644\u001b[0m     \u001b[38;5;66;03m# but eig returns s sorted ascending, so we re-order the eigenvalues\u001b[39;00m\n\u001b[1;32m   1645\u001b[0m     \u001b[38;5;66;03m# and related arrays to have the correct order\u001b[39;00m\n\u001b[1;32m   1646\u001b[0m     \u001b[38;5;28;01mif\u001b[39;00m compute_uv:\n\u001b[0;32m-> 1647\u001b[0m         s, u \u001b[38;5;241m=\u001b[39m \u001b[43meigh\u001b[49m\u001b[43m(\u001b[49m\u001b[43ma\u001b[49m\u001b[43m)\u001b[49m\n\u001b[1;32m   1648\u001b[0m         sgn \u001b[38;5;241m=\u001b[39m sign(s)\n\u001b[1;32m   1649\u001b[0m         s \u001b[38;5;241m=\u001b[39m \u001b[38;5;28mabs\u001b[39m(s)\n",
      "File \u001b[0;32m~/anaconda3/envs/brainnet/lib/python3.12/site-packages/numpy/linalg/linalg.py:1487\u001b[0m, in \u001b[0;36meigh\u001b[0;34m(a, UPLO)\u001b[0m\n\u001b[1;32m   1484\u001b[0m     gufunc \u001b[38;5;241m=\u001b[39m _umath_linalg\u001b[38;5;241m.\u001b[39meigh_up\n\u001b[1;32m   1486\u001b[0m signature \u001b[38;5;241m=\u001b[39m \u001b[38;5;124m'\u001b[39m\u001b[38;5;124mD->dD\u001b[39m\u001b[38;5;124m'\u001b[39m \u001b[38;5;28;01mif\u001b[39;00m isComplexType(t) \u001b[38;5;28;01melse\u001b[39;00m \u001b[38;5;124m'\u001b[39m\u001b[38;5;124md->dd\u001b[39m\u001b[38;5;124m'\u001b[39m\n\u001b[0;32m-> 1487\u001b[0m w, vt \u001b[38;5;241m=\u001b[39m \u001b[43mgufunc\u001b[49m\u001b[43m(\u001b[49m\u001b[43ma\u001b[49m\u001b[43m,\u001b[49m\u001b[43m \u001b[49m\u001b[43msignature\u001b[49m\u001b[38;5;241;43m=\u001b[39;49m\u001b[43msignature\u001b[49m\u001b[43m,\u001b[49m\u001b[43m \u001b[49m\u001b[43mextobj\u001b[49m\u001b[38;5;241;43m=\u001b[39;49m\u001b[43mextobj\u001b[49m\u001b[43m)\u001b[49m\n\u001b[1;32m   1488\u001b[0m w \u001b[38;5;241m=\u001b[39m w\u001b[38;5;241m.\u001b[39mastype(_realType(result_t), copy\u001b[38;5;241m=\u001b[39m\u001b[38;5;28;01mFalse\u001b[39;00m)\n\u001b[1;32m   1489\u001b[0m vt \u001b[38;5;241m=\u001b[39m vt\u001b[38;5;241m.\u001b[39mastype(result_t, copy\u001b[38;5;241m=\u001b[39m\u001b[38;5;28;01mFalse\u001b[39;00m)\n",
      "\u001b[0;31mKeyboardInterrupt\u001b[0m: "
     ]
    }
   ],
   "source": [
    "\n",
    "# Iterate through files from 1 to 1306\n",
    "\n",
    "for function in functions:\n",
    "    for i in range(1, 1306):\n",
    "        file_path = os.path.join(directory, f\"{file_prefix}{i}{file_suffix}\")\n",
    "        \n",
    "        # Check if the file exists\n",
    "        if not os.path.exists(file_path):\n",
    "            print(f\"File {file_path} does not exist. Skipping.\")\n",
    "            continue\n",
    "        \n",
    "        # Read the data\n",
    "        data = pd.read_csv(file_path, header=None)\n",
    "        \n",
    "        # Calculate the  correlation matrix\n",
    "        corr_matrix = function(data)\n",
    "\n",
    "        \n",
    "        corr_df = pd.DataFrame(corr_matrix)\n",
    "\n",
    "        # plot_correlation_matrix(corr_df, f\"Correlation matrix for {file_path}\")\n",
    "\n",
    "        # visualize the correlation matrix\n",
    "\n",
    "        # get the name of the function in str\n",
    "        function_name = function.__name__\n",
    "\n",
    "        # save the correlation matrix\n",
    "        # save the name of the file\n",
    "        path_of_folder = f'../data/ADNI/fmri_edge/{function_name}/'\n",
    "        if not os.path.exists(path_of_folder):\n",
    "            os.makedirs(path_of_folder)\n",
    "        corr_df.to_csv(path_of_folder + f\"{function_name}{i}{file_suffix}\", index=False)\n",
    "        print(f\"Processed file {file_path}\")\n",
    "\n",
    "print(\"Processing complete.\")"
   ]
  },
  {
   "cell_type": "markdown",
   "metadata": {},
   "source": [
    "Dynamic graph\n"
   ]
  },
  {
   "cell_type": "code",
   "execution_count": null,
   "metadata": {},
   "outputs": [],
   "source": [
    "functions = [\n",
    "    # pearson_correlation,\n",
    "    # cosine_similarity,\n",
    "    # partial_correlation,\n",
    "    # correlations_correlation,\n",
    "    # associated_high_order_fc,\n",
    "    # knn_graph,\n",
    "    # spearman_correlation,\n",
    "    # kendall_correlation,\n",
    "    # mutual_information,\n",
    "    # cross_correlation,\n",
    "    # granger_causality,\n",
    "    # euclidean_distance,\n",
    "]"
   ]
  },
  {
   "cell_type": "code",
   "execution_count": null,
   "metadata": {},
   "outputs": [],
   "source": [
    "correlation_dyn_graphs = []\n",
    "for function in functions:\n",
    "    for subject_order in range(1, 1306):\n",
    "        dynamic_correlation_matrixes = []\n",
    "        # calculate the dynamic graph metrics\n",
    "        time_window = 50\n",
    "        stride = 3\n",
    "        file_path = os.path.join(directory, f\"{file_prefix}{subject_order}{file_suffix}\")\n",
    "        data = pd.read_csv(file_path)\n",
    "        for i in range(0, data.shape[0] - time_window, stride):\n",
    "            window_data = data[i:i+time_window]\n",
    "            correlation_matrix = function(window_data)\n",
    "            dynamic_correlation_matrixes.append(correlation_matrix)\n",
    "        # Convert each dynamic Pearson correlation matrix into a Data object\n",
    "        data_list = [correlation_matrix_to_graph_data(matrix) for matrix in dynamic_correlation_matrixes]\n",
    "        data_batch = Batch.from_data_list(data_list)\n",
    "        correlation_dyn_graphs.append(data_batch)\n",
    "        function_name = function.__name__\n",
    "        path_of_folder = f'../data/ADNI/fmri_edge/{function_name}_dynamic/'\n",
    "        if not os.path.exists(path_of_folder):\n",
    "            os.makedirs(path_of_folder)\n",
    "        torch.save(data_batch, path_of_folder + f\"{function_name}_dynamic{subject_order}.pt\")\n",
    "        print(f\"method {function_name} {subject_order} processed\")"
   ]
  }
 ],
 "metadata": {
  "kernelspec": {
   "display_name": "brainnet",
   "language": "python",
   "name": "python3"
  },
  "language_info": {
   "codemirror_mode": {
    "name": "ipython",
    "version": 3
   },
   "file_extension": ".py",
   "mimetype": "text/x-python",
   "name": "python",
   "nbconvert_exporter": "python",
   "pygments_lexer": "ipython3",
   "version": "3.12.3"
  }
 },
 "nbformat": 4,
 "nbformat_minor": 4
}
