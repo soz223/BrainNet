{
 "cells": [
  {
   "cell_type": "code",
   "execution_count": 1,
   "metadata": {},
   "outputs": [],
   "source": [
    "import os\n",
    "import numpy as np\n",
    "import pandas as pd\n",
    "import pingouin as pg\n",
    "from utils import *\n",
    "\n",
    "\n",
    "# Directory where the data files are located\n",
    "directory = '../data/ADNI/data_normalized/'\n",
    "file_prefix = 'data_'\n",
    "file_suffix = '.csv'\n",
    "\n",
    "functions = [\n",
    "    # pearson_correlation,\n",
    "    # cosine_similarity,\n",
    "    # partial_correlation,\n",
    "    # correlations_correlation,\n",
    "    # associated_high_order_fc,\n",
    "    # euclidean_distance,\n",
    "    # knn_graph,\n",
    "    # spearman_correlation,\n",
    "    # kendall_correlation,\n",
    "    # mutual_information,\n",
    "    # cross_correlation,\n",
    "    # granger_causality,\n",
    "]\n"
   ]
  },
  {
   "cell_type": "code",
   "execution_count": 2,
   "metadata": {},
   "outputs": [
    {
     "name": "stdout",
     "output_type": "stream",
     "text": [
      "Processing complete.\n"
     ]
    }
   ],
   "source": [
    "\n",
    "# Iterate through files from 1 to 1306\n",
    "\n",
    "for function in functions:\n",
    "    for i in range(1, 1306):\n",
    "        file_path = os.path.join(directory, f\"{file_prefix}{i}{file_suffix}\")\n",
    "        \n",
    "        # Check if the file exists\n",
    "        if not os.path.exists(file_path):\n",
    "            print(f\"File {file_path} does not exist. Skipping.\")\n",
    "            continue\n",
    "        \n",
    "        # Read the data\n",
    "        data = pd.read_csv(file_path, header=None)\n",
    "        \n",
    "        # Calculate the  correlation matrix\n",
    "\n",
    "\n",
    "\n",
    "        # corr_matrix = mutual_information(data)\n",
    "        corr_matrix = function(data)\n",
    "\n",
    "        \n",
    "        corr_df = pd.DataFrame(corr_matrix)\n",
    "\n",
    "        # plot_correlation_matrix(corr_df, f\"Correlation matrix for {file_path}\")\n",
    "\n",
    "        # visualize the correlation matrix\n",
    "\n",
    "        # get the name of the function in str\n",
    "        function_name = function.__name__\n",
    "\n",
    "        # save the correlation matrix\n",
    "        # save the name of the file\n",
    "        path_of_folder = f'../data/ADNI/fmri_edge/{function_name}/'\n",
    "        if not os.path.exists(path_of_folder):\n",
    "            os.makedirs(path_of_folder)\n",
    "        corr_df.to_csv(path_of_folder + f\"{function_name}{i}{file_suffix}\", index=False)\n",
    "        print(f\"Processed file {file_path}\")\n",
    "\n",
    "print(\"Processing complete.\")"
   ]
  },
  {
   "cell_type": "markdown",
   "metadata": {},
   "source": [
    "Dynamic graph\n"
   ]
  },
  {
   "cell_type": "code",
   "execution_count": 3,
   "metadata": {},
   "outputs": [],
   "source": [
    "functions = [\n",
    "    # pearson_correlation,\n",
    "    # cosine_similarity,\n",
    "    # partial_correlation,\n",
    "    # correlations_correlation,\n",
    "    # associated_high_order_fc,\n",
    "    knn_graph,\n",
    "    spearman_correlation,\n",
    "    kendall_correlation,\n",
    "    mutual_information,\n",
    "    cross_correlation,\n",
    "    granger_causality,\n",
    "    euclidean_distance,\n",
    "]"
   ]
  },
  {
   "cell_type": "code",
   "execution_count": null,
   "metadata": {},
   "outputs": [
    {
     "name": "stdout",
     "output_type": "stream",
     "text": [
      "method knn_graph 1 processed\n",
      "method knn_graph 2 processed\n",
      "method knn_graph 3 processed\n",
      "method knn_graph 4 processed\n",
      "method knn_graph 5 processed\n",
      "method knn_graph 6 processed\n",
      "method knn_graph 7 processed\n",
      "method knn_graph 8 processed\n",
      "method knn_graph 9 processed\n",
      "method knn_graph 10 processed\n",
      "method knn_graph 11 processed\n",
      "method knn_graph 12 processed\n"
     ]
    }
   ],
   "source": [
    "correlation_dyn_graphs = []\n",
    "for function in functions:\n",
    "    for subject_order in range(1, 1306):\n",
    "        dynamic_correlation_matrixes = []\n",
    "        # calculate the dynamic graph metrics\n",
    "        time_window = 50\n",
    "        stride = 3\n",
    "        file_path = os.path.join(directory, f\"{file_prefix}{subject_order}{file_suffix}\")\n",
    "        data = pd.read_csv(file_path)\n",
    "        for i in range(0, data.shape[0] - time_window, stride):\n",
    "            window_data = data[i:i+time_window]\n",
    "            correlation_matrix = function(window_data)\n",
    "            dynamic_correlation_matrixes.append(correlation_matrix)\n",
    "        # Convert each dynamic Pearson correlation matrix into a Data object\n",
    "        data_list = [correlation_matrix_to_graph_data(matrix) for matrix in dynamic_correlation_matrixes]\n",
    "        data_batch = Batch.from_data_list(data_list)\n",
    "        correlation_dyn_graphs.append(data_batch)\n",
    "        function_name = function.__name__\n",
    "        path_of_folder = f'../data/ADNI/fmri_edge/{function_name}_dynamic/'\n",
    "        if not os.path.exists(path_of_folder):\n",
    "            os.makedirs(path_of_folder)\n",
    "        torch.save(data_batch, path_of_folder + f\"{function_name}_dynamic{subject_order}.pt\")\n",
    "        print(f\"method {function_name} {subject_order} processed\")"
   ]
  }
 ],
 "metadata": {
  "kernelspec": {
   "display_name": "Python 3 (ipykernel)",
   "language": "python",
   "name": "python3"
  },
  "language_info": {
   "codemirror_mode": {
    "name": "ipython",
    "version": 3
   },
   "file_extension": ".py",
   "mimetype": "text/x-python",
   "name": "python",
   "nbconvert_exporter": "python",
   "pygments_lexer": "ipython3",
   "version": "3.12.3"
  }
 },
 "nbformat": 4,
 "nbformat_minor": 4
}
