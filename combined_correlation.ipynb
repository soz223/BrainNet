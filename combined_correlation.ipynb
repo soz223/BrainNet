{
 "cells": [
  {
   "cell_type": "code",
   "execution_count": null,
   "metadata": {},
   "outputs": [],
   "source": [
    "import pandas as pd\n",
    "\n",
    "\n",
    "\n",
    "fmri_edge_path = './data/ADNI/fmri_edge'\n",
    "\n",
    "edge_dir_prefix = [\n",
    "    \"cosinecosine_/cosinecosine_\",\n",
    "    \"pearsonpearson_/pearsonpearson_\",\n",
    "    # \"pairwise_PC_aHOFC/aHOFC\",\n",
    "    # \"pairwise_PC_dHOFC/dHOFC\",\n",
    "    # \"pairwise_PC_tHOFC/tHOFC\",\n",
    "    \"correlations_correlation/correlations_correlation\",\n",
    "    # \"partial_correlation/partial_correlation\",\n",
    "    \"associated_high_order_fc/associated_high_order_fc\"\n",
    "]\n",
    "\n",
    "# combined_correlations\n",
    "combined_correlations = []\n",
    "for j in range(1, 1306):\n",
    "    corrs = []\n",
    "    for i in range(len(edge_dir_prefix)):\n",
    "        edge_dir = fmri_edge_path + '/' + edge_dir_prefix[i]\n",
    "        edge_file = edge_dir + str(j) + '.csv'\n",
    "        print(edge_file)\n",
    "        df = pd.read_csv(edge_file)\n",
    "        corrs.append(df)\n",
    "    # add all the correlations together with same shape\n",
    "    combined_correlation = pd.DataFrame()\n",
    "    for i in range(len(corrs)):\n",
    "        if i == 0:\n",
    "            combined_correlation = corrs[i]\n",
    "        else:\n",
    "            combined_correlation = combined_correlation + corrs[i]\n",
    "    combined_correlations.append(combined_correlation)"
   ]
  },
  {
   "cell_type": "code",
   "execution_count": null,
   "metadata": {},
   "outputs": [],
   "source": [
    "# mkdir for combined_correlations\n",
    "\n",
    "combined_correlations_dir = fmri_edge_path + '/combined_correlation/'\n",
    "if not os.path.exists(combined_correlations_dir):\n",
    "    os.makedirs(combined_correlations_dir)\n",
    "\n",
    "for i in range(len(combined_correlations)):\n",
    "    combined_correlations[i].to_csv(combined_correlations_dir + 'combined_correlation' + str(i + 1) + '.csv', index=False)\n",
    "    print('combined_correlation ' + str(i + 1) + ' saved')"
   ]
  }
 ],
 "metadata": {
  "kernelspec": {
   "display_name": "brainnet",
   "language": "python",
   "name": "python3"
  },
  "language_info": {
   "codemirror_mode": {
    "name": "ipython",
    "version": 3
   },
   "file_extension": ".py",
   "mimetype": "text/x-python",
   "name": "python",
   "nbconvert_exporter": "python",
   "pygments_lexer": "ipython3",
   "version": "3.12.3"
  }
 },
 "nbformat": 4,
 "nbformat_minor": 2
}
