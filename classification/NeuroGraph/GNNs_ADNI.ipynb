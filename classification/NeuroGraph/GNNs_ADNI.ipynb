{
 "cells": [
  {
   "cell_type": "code",
   "execution_count": 1,
   "metadata": {},
   "outputs": [],
   "source": [
    "import os\n",
    "import numpy as np\n",
    "import scipy.io\n",
    "import pandas as pd\n",
    "import torch\n",
    "from torch_geometric.data import Data\n",
    "from torch_geometric.loader import DataLoader\n",
    "from sklearn.model_selection import train_test_split\n",
    "from torch.optim import Adam\n",
    "from utils import *  # NeuroGraph\n",
    "from sklearn.metrics import accuracy_score, roc_auc_score, f1_score, confusion_matrix\n",
    "from sklearn.model_selection import KFold\n",
    "from tqdm import tqdm"
   ]
  },
  {
   "cell_type": "markdown",
   "metadata": {},
   "source": [
    "## Helper function for generating multiple sets of arguments from one object ##"
   ]
  },
  {
   "cell_type": "code",
   "execution_count": 2,
   "metadata": {},
   "outputs": [],
   "source": [
    "# Helper function from one dictionary to multiple sets of params\n",
    "def grid_from_param(dic): #, append_model_name = True, model_name_default = 'default'):\n",
    "    # retrieve all lists to choose parameters from\n",
    "    names = []\n",
    "    lens = []\n",
    "    for name in dic:\n",
    "        item = dic[name]\n",
    "        if(type(item)==list):\n",
    "            names.append(name)\n",
    "            lens.append(len(item))\n",
    "\n",
    "    #helper\n",
    "    count = 1\n",
    "    mults = []\n",
    "    for l in lens:\n",
    "        mults.append(count)\n",
    "        count *= l\n",
    "    #print(mults)\n",
    "    #print(count)\n",
    "    #print(lens)\n",
    "\n",
    "    #construct the grid\n",
    "    params = []\n",
    "    n = len(lens)\n",
    "    for i in range(count):\n",
    "        param = dic.copy()\n",
    "        param['tune_name'] = '_'\n",
    "        for j in range(n):\n",
    "            param[names[j]] = dic[names[j]][i//mults[j] % lens[j]]\n",
    "            param['tune_name'] += f\"{names[j]}{param[names[j]]}_\"\n",
    "            # if param['tune_name'] contains '/', replace with '_'\n",
    "            param['tune_name'] = param['tune_name'].replace('/', '_')\n",
    "        params.append(param)\n",
    "    return params"
   ]
  },
  {
   "cell_type": "markdown",
   "metadata": {},
   "source": [
    "## Hyperparameters setting"
   ]
  },
  {
   "cell_type": "code",
   "execution_count": 3,
   "metadata": {},
   "outputs": [],
   "source": [
    "\n",
    "class Args: # now it's just a wrapper for compatibility. Everything now packed up in the dictionary.\n",
    "    def __init__(self, param_dict) -> None:\n",
    "        # wrapped. see argDict above.\n",
    "        self.dataset = param_dict['dataset']\n",
    "        self.dataset_dir = param_dict['dataset_dir']\n",
    "        self.edge_dir_prefix = param_dict['edge_dir_prefix']\n",
    "        self.model = param_dict['model']\n",
    "        self.num_classes = param_dict['num_classes']\n",
    "        self.weight_decay = param_dict['weight_decay']\n",
    "        self.batch_size = param_dict['batch_size']\n",
    "        self.hidden_mlp = param_dict['hidden_mlp']\n",
    "        self.hidden = param_dict['hidden']\n",
    "        self.num_layers = param_dict['num_layers']\n",
    "        self.runs = param_dict['runs']\n",
    "        self.lr = param_dict['lr']\n",
    "        self.epochs = param_dict['epochs']\n",
    "        self.edge_percent_to_keep = param_dict['edge_percent_to_keep'] \n",
    "        self.seed = param_dict['seed']\n",
    "        self.n_splits = param_dict['n_splits'] if \"n_splits\" in param_dict else 5\n",
    "        self.device = \"cpu\" if self.model != \"GATConv\" else \"cpu\"\n",
    "        self.tune_name = param_dict['tune_name'] if \"tune_name\" in param_dict else None\n",
    "    def tuning_list(param_dicts : dict):\n",
    "        p = grid_from_param(param_dicts)\n",
    "        return [Args(x) for x in p]\n",
    "\n",
    "\n",
    "# #print([x['lr'] for x in grid_from_param(argsdict)])\n",
    "# args_list = Args.tuning_list(argsDictTune)\n",
    "# fix_seed(args_list[0].seed)\n",
    "\n",
    "# #print(len(Args.tuning_list(argsDictTune)))\n",
    "\n"
   ]
  },
  {
   "cell_type": "markdown",
   "metadata": {},
   "source": [
    "## Reading our Datasets\n",
    "use our HCP correlation matrix dataset, train/test split file, label file.\n",
    "\n",
    "HCP data is downloaded from https://drive.google.com/drive/folders/166wCCtPOEL0O25FxzwB0I8AQA8b6Q9U1?usp=drive_link \n",
    "\n",
    "other files are in the data folder\n",
    "\n",
    "use our ADNI dataset"
   ]
  },
  {
   "cell_type": "code",
   "execution_count": 4,
   "metadata": {},
   "outputs": [],
   "source": [
    "def read_adni_data(args):\n",
    "    fMRI_path = args.dataset_dir + \"fmri_signal.mat\"\n",
    "    ICV_path = args.dataset_dir + \"ICV.mat\"\n",
    "    AGE_path = args.dataset_dir + \"AGE.mat\"\n",
    "    DX_path = args.dataset_dir + \"DX.mat\"\n",
    "    gender_path = args.dataset_dir + \"gender.mat\"\n",
    "    fMRI_data_path = args.dataset_dir + \"fMRIdata_ADNI2_ADNI3.csv\"\n",
    "    # participants_path = r'./data/ADNI/participants.tsv'\n",
    "\n",
    "    # read fMRI_path\n",
    "    fmri_data = scipy.io.loadmat(fMRI_path)['fmri_signal']\n",
    "    fMRI_data = [fmri_data[i][0] for i in range(len(fmri_data))]\n",
    "\n",
    "    # read ICV_path\n",
    "    icv_data = scipy.io.loadmat(ICV_path)['ICV']\n",
    "    ICV_data = pd.DataFrame([icv_data[i][0] for i in range(len(icv_data))])\n",
    "\n",
    "    # read AGE_path\n",
    "    age_data = scipy.io.loadmat(AGE_path)['AGE']\n",
    "    AGE_data = pd.DataFrame([age_data[i][0] for i in range(len(age_data))])\n",
    "\n",
    "    # read gender_path\n",
    "    gender_data = scipy.io.loadmat(gender_path)['gender']\n",
    "    gender_data = pd.DataFrame([gender_data[i][0] for i in range(len(gender_data))])\n",
    "\n",
    "    # read DX_path\n",
    "    dx_data = scipy.io.loadmat(DX_path)['DX']\n",
    "    DX_data = pd.DataFrame([dx_data[i][0] for i in range(len(dx_data))])\n",
    "\n",
    "    # for all above variable, add a df.insert(0, 'Image_ID', range(1, 1 + len(fMRI_data))) to add Image_ID column\n",
    "    for df in [ICV_data, AGE_data, gender_data, DX_data]:\n",
    "        df.insert(0, 'Image_ID', range(1, 1 + len(fMRI_data)))\n",
    "\n",
    "    # give their column names, EstimatedTotalIntraCranialVol, Age, Gender, Diagnosis\n",
    "    ICV_data.columns = ['Image_ID', 'EstimatedTotalIntraCranialVol']\n",
    "    AGE_data.columns = ['Image_ID', 'Age']\n",
    "    gender_data.columns = ['Image_ID', 'Gender']\n",
    "    DX_data.columns = ['Image_ID', 'Diagnosis']\n",
    "    Image_ID = ICV_data['Image_ID']\n",
    "\n",
    "    data_dict = {\n",
    "        'fMRI_data': fMRI_data,\n",
    "        'ICV_data': ICV_data,\n",
    "        'AGE_data': AGE_data,\n",
    "        'gender_data': gender_data,\n",
    "        'DX_data': DX_data\n",
    "    }\n",
    "    return data_dict"
   ]
  },
  {
   "cell_type": "code",
   "execution_count": 5,
   "metadata": {},
   "outputs": [],
   "source": [
    "def load_data_from_args(args: Args):\n",
    "\n",
    "    # Label path\n",
    "    labels_file = args.dataset_dir + 'y.csv'\n",
    "    # Load labels\n",
    "    labels_df = pd.read_csv(labels_file)\n",
    "\n",
    "    # for ADNI Dataset\n",
    "    if args.dataset == \"ADNI\":\n",
    "        adni_data = read_adni_data(args)\n",
    "        fMRI_data = adni_data['fMRI_data']\n",
    "        ICV_data = adni_data['ICV_data']\n",
    "        AGE_data = adni_data['AGE_data']\n",
    "        gender_data = adni_data['gender_data']\n",
    "        DX_data = adni_data['DX_data']\n",
    "\n",
    "        # only keep healthy control and AD. namely 2 and 0\n",
    "        labels_df = labels_df[labels_df['Diagnosis'].isin([2, 0])].reset_index(drop=True)\n",
    "        # change all 2 to 1\n",
    "        labels_df['Diagnosis'] = labels_df['Diagnosis'].replace({2: 1})\n",
    "\n",
    "        dataset = []\n",
    "        # traverse the labels_df by i\n",
    "        for i in range(len(labels_df)):\n",
    "            IID = labels_df['IID'][i]\n",
    "            y = labels_df['Diagnosis'][i]\n",
    "            # turn y to <class 'torch.Tensor'>\n",
    "            y = torch.tensor(y, dtype=torch.long)\n",
    "            # z-score normalization for each column of each subject\n",
    "            subject_data = fMRI_data[IID]\n",
    "            # fill 0 with 1\n",
    "            subject_data[subject_data == 0] = 1\n",
    "            subject_data = (subject_data - np.mean(subject_data, axis=0)) / np.std(subject_data, axis=0)\n",
    "\n",
    "            try:\n",
    "                edge_attr = pd.read_csv(args.dataset_dir + 'fmri_edge/' + args.edge_dir_prefix + str(IID) + '.csv')\n",
    "            except:\n",
    "                print('File \\\"' + args.dataset_dir + 'fmri_edge/' + args.edge_dir_prefix + str(IID) + '.csv\\\" not found. Skipping.')\n",
    "                continue\n",
    "            edge_attr = edge_attr.to_numpy()\n",
    "            np.fill_diagonal(edge_attr, 0)\n",
    "\n",
    "            # get the threshold of edge_attr\n",
    "            threshold = np.percentile(edge_attr, 100 * (1 - args.edge_percent_to_keep))\n",
    "\n",
    "            # only keep edges that are larger than the threshold\n",
    "            edge_attr[edge_attr <= threshold] = 0\n",
    "\n",
    "            total_edge_count = edge_attr.shape[0] * edge_attr.shape[1]\n",
    "            target_edge_count = int(args.edge_percent_to_keep * total_edge_count)\n",
    "            edge_index = np.vstack(np.nonzero(edge_attr))\n",
    "\n",
    "            filtered_edge_attr = edge_attr[edge_index[0], edge_index[1]]\n",
    "            filtered_edge_attr = torch.tensor(filtered_edge_attr, dtype=torch.float)\n",
    "            current_edge_count = filtered_edge_attr.shape[0]\n",
    "\n",
    "            # Adjust the number of edges without randomness\n",
    "            # Adjust the number of edges without randomness\n",
    "            if current_edge_count > target_edge_count:\n",
    "                # Sort edges by their weights in descending order and keep the top edges\n",
    "                sorted_indices = torch.argsort(filtered_edge_attr, descending=True)\n",
    "                indices_to_keep = sorted_indices[:target_edge_count]\n",
    "                edge_index = edge_index[:, indices_to_keep]\n",
    "                filtered_edge_attr = filtered_edge_attr[indices_to_keep]\n",
    "            elif current_edge_count < target_edge_count:\n",
    "                # Sort edges by their weights in ascending order and add the smallest edges until the target is met\n",
    "                sorted_indices = torch.argsort(filtered_edge_attr, descending=False)\n",
    "                indices_to_add = sorted_indices[:target_edge_count - current_edge_count]\n",
    "\n",
    "                # Convert indices_to_add to a NumPy array\n",
    "                indices_to_add = indices_to_add.cpu().numpy()\n",
    "\n",
    "                # Index edge_index with indices_to_add\n",
    "                edge_index_to_add = edge_index[:, indices_to_add]\n",
    "\n",
    "                # Ensure edge_index_to_add has the correct shape\n",
    "                if edge_index_to_add.ndim == 1:\n",
    "                    edge_index_to_add = edge_index_to_add.reshape(2, 1)\n",
    "\n",
    "                # Stack the edge indices\n",
    "                edge_index = np.hstack([edge_index, edge_index_to_add])\n",
    "\n",
    "                # Similarly, handle filtered_edge_attr\n",
    "                filtered_edge_attr_to_add = filtered_edge_attr[indices_to_add]\n",
    "                if filtered_edge_attr_to_add.ndim == 0:\n",
    "                    filtered_edge_attr_to_add = filtered_edge_attr_to_add.unsqueeze(0)\n",
    "\n",
    "                filtered_edge_attr = torch.cat([filtered_edge_attr, filtered_edge_attr_to_add])\n",
    "\n",
    "\n",
    "            # Create the Data object\n",
    "            data = Data(x=torch.tensor(edge_attr, dtype=torch.float), \n",
    "                        edge_index=torch.tensor(edge_index, dtype=torch.long), \n",
    "                        edge_attr=filtered_edge_attr, \n",
    "                        y=y)\n",
    "\n",
    "            # Append the processed data\n",
    "            dataset.append(data)\n",
    "        return dataset\n",
    "\n",
    "    # for HCP\n",
    "    elif args.dataset == \"HCP\":\n",
    "        path = \"/home/songlinzhao/task-driven-parcellation/baseline/data/HCP/HCPGender.pt\"\n",
    "        # Load the data\n",
    "        data = torch.load(path)\n",
    "        pass\n"
   ]
  },
  {
   "cell_type": "markdown",
   "metadata": {},
   "source": [
    "## Train/Test Functions ##"
   ]
  },
  {
   "cell_type": "code",
   "execution_count": 6,
   "metadata": {},
   "outputs": [],
   "source": [
    "def train(model, args: Args, train_loader):\n",
    "    criterion = torch.nn.CrossEntropyLoss()\n",
    "    optimizer = Adam(model.parameters(), lr=args.lr, weight_decay=args.weight_decay)\n",
    "    model.train()\n",
    "    total_loss = 0\n",
    "    for data in train_loader:  \n",
    "        data = data.to(args.device)\n",
    "        out = model(data) \n",
    "        loss = criterion(out, data.y) \n",
    "        total_loss +=loss\n",
    "        loss.backward()\n",
    "        optimizer.step() \n",
    "        optimizer.zero_grad()\n",
    "    return total_loss/len(train_loader.dataset)\n",
    "\n",
    "@torch.no_grad()\n",
    "def test(model, args: Args, loader):\n",
    "    model.eval()\n",
    "    all_preds = []\n",
    "    all_probs = []\n",
    "    all_labels = []\n",
    "    with torch.no_grad():\n",
    "        for data in loader:\n",
    "            data = data.to(args.device)\n",
    "            out = model(data)\n",
    "            probs = F.softmax(out, dim=1)  # Calculate probabilities\n",
    "            preds = out.argmax(dim=1)\n",
    "            all_preds.append(preds.cpu().numpy())\n",
    "            all_probs.append(probs.cpu().numpy()[:, 1])  # Keep the probabilities of the positive class\n",
    "            all_labels.append(data.y.cpu().numpy())\n",
    "    \n",
    "    all_preds = np.concatenate(all_preds)\n",
    "    all_probs = np.concatenate(all_probs)\n",
    "    all_labels = np.concatenate(all_labels)\n",
    "    \n",
    "    # Calculate metrics\n",
    "    accuracy = accuracy_score(all_labels, all_preds)\n",
    "    auroc = roc_auc_score(all_labels, all_probs)\n",
    "    f1 = f1_score(all_labels, all_preds)\n",
    "    \n",
    "    tn, fp, fn, tp = confusion_matrix(all_labels, all_preds).ravel()\n",
    "    sensitivity = tp / (tp + fn)\n",
    "    specificity = tn / (tn + fp)\n",
    "    \n",
    "    metrics = {\n",
    "        'accuracy': accuracy,\n",
    "        'auroc': auroc,\n",
    "        'sensitivity': sensitivity,\n",
    "        'specificity': specificity,\n",
    "        'f1_score': f1\n",
    "    }\n",
    "    \n",
    "    return metrics\n",
    "\n",
    "# test for multiclass\n",
    "def test_multiclass(model, args: Args, loader):\n",
    "    model.eval()\n",
    "    all_preds = []\n",
    "    all_probs = []\n",
    "    all_labels = []\n",
    "    with torch.no_grad():\n",
    "        for data in loader:\n",
    "            data = data.to(args.device)\n",
    "            out = model(data)\n",
    "            probs = F.softmax(out, dim=1)  # calculate probabilities for each class\n",
    "            preds = out.argmax(dim=1)\n",
    "            all_preds.append(preds.cpu().numpy())\n",
    "            all_probs.append(probs.cpu().numpy())\n",
    "            all_labels.append(data.y.cpu().numpy())\n",
    "    \n",
    "    all_preds = np.concatenate(all_preds)\n",
    "    all_probs = np.concatenate(all_probs, axis=0)\n",
    "    all_labels = np.concatenate(all_labels)\n",
    "    \n",
    "    # metrics\n",
    "    accuracy = accuracy_score(all_labels, all_preds)\n",
    "    # here is how to calculate auroc for multiclass\n",
    "    auroc = roc_auc_score(all_labels, all_probs, multi_class='ovr')  # ovr should be used for multiclass\n",
    "    f1 = f1_score(all_labels, all_preds, average='weighted')  # weighted should be used for multiclass\n",
    "    # confusion_matrix need to be calculated for each class\n",
    "    cm = confusion_matrix(all_labels, all_preds)\n",
    "    \n",
    "    # sensitivity and specificity for each class\n",
    "    sensitivities = []\n",
    "    specificities = []\n",
    "    for i in range(cm.shape[0]):\n",
    "        tp = cm[i, i]\n",
    "        fn = cm[i, :].sum() - tp\n",
    "        fp = cm[:, i].sum() - tp\n",
    "        tn = cm.sum() - (tp + fn + fp)\n",
    "        sensitivity = tp / (tp + fn)\n",
    "        specificity = tn / (tn + fp)\n",
    "        sensitivities.append(sensitivity)\n",
    "        specificities.append(specificity)\n",
    "    \n",
    "    metrics = {\n",
    "        'accuracy': accuracy,\n",
    "        'auroc': auroc,\n",
    "        'sensitivity': np.mean(sensitivities),\n",
    "        'specificity': np.mean(specificities),\n",
    "        'f1_score': f1\n",
    "    }\n",
    "    \n",
    "    return metrics\n",
    "\n",
    "def bench_from_args(args: Args, verbose = False):\n",
    "    # get train and test data\n",
    "    # train_data, test_data = train_test_split(dataset, test_size=0.2, random_state=42)\n",
    "    # train_data, test_data = load_data_from_args(args)\n",
    "    full_data = load_data_from_args(args)\n",
    "    # print('full_data:', full_data)\n",
    "    # Initialize KFold\n",
    "    kf = KFold(n_splits=args.n_splits, shuffle=True, random_state=args.seed)\n",
    "    \n",
    "    fold_metrics = []\n",
    "\n",
    "    for fold, (train_idx, test_idx) in enumerate(kf.split(full_data)):\n",
    "        print(f\"Fold {fold + 1}/{args.n_splits}\")\n",
    "\n",
    "        # Create train and validation data loaders for this fold\n",
    "        train_data = [full_data[i] for i in train_idx]\n",
    "        test_data = [full_data[i] for i in test_idx]\n",
    "\n",
    "        train_data, val_data = train_test_split(train_data, test_size=0.2, random_state=args.seed)\n",
    "\n",
    "        # create data loaders\n",
    "        train_loader = DataLoader(train_data, args.batch_size, shuffle=True)\n",
    "        val_loader = DataLoader(val_data, args.batch_size, shuffle=False)\n",
    "        test_loader = DataLoader(test_data, args.batch_size, shuffle=False)\n",
    "\n",
    "        checkpoints_dir = './checkpoints/'\n",
    "        if not os.path.exists(checkpoints_dir):\n",
    "            os.makedirs(checkpoints_dir)\n",
    "\n",
    "        val_acc_history, test_acc_history, test_loss_history = [],[],[]\n",
    "        #seed = 42\n",
    "        for index in range(args.runs):\n",
    "            gnn = eval(args.model)\n",
    "            model = ResidualGNNs(args, train_data, args.hidden, args.hidden_mlp, args.num_layers, gnn).to(args.device) ## apply GNN*\n",
    "            if (verbose):\n",
    "                print(model)\n",
    "            #total_params = sum(p.numel() for p in model.parameters())\n",
    "            loss, test_acc = [], []\n",
    "            best_val_auroc, best_val_loss = 0.0,0.0\n",
    "            for epoch in tqdm(range(args.epochs), desc=\"Training Epochs\"):\n",
    "                loss = train(model, args, train_loader)\n",
    "                val_metrics = test(model, args, val_loader)\n",
    "                \n",
    "                if verbose:\n",
    "                    train_metrics = test(model, args, train_loader)\n",
    "                    test_metrics = test(model, args, test_loader)\n",
    "                    print(\"epoch: {}, loss: {}, \\ntrain_metrics:{}, \\nval_metrics:{}, \\ntest_metrics:{}\".format(\n",
    "                        epoch, np.round(loss.item(), 6), train_metrics, val_metrics, test_metrics))\n",
    "                \n",
    "                # 检查是否是最好的验证 AUROC\n",
    "                if val_metrics['auroc'] > best_val_auroc:\n",
    "                    best_val_auroc = val_metrics['auroc']\n",
    "                    torch.save(model.state_dict(), f\"{checkpoints_dir}{args.dataset}_{args.edge_dir_prefix.split('/')[0]}_{args.model}{args.tune_name}task-checkpoint-best-auroc.pkl\")\n",
    "        #test the model\n",
    "        model.load_state_dict(torch.load(f\"{checkpoints_dir}{args.dataset}_{args.edge_dir_prefix.split('/')[0]}_{args.model}{args.tune_name}task-checkpoint-best-auroc.pkl\"))\n",
    "        model.eval()\n",
    "        test_metrics = test(model, args, test_loader)\n",
    "        fold_metrics.append(val_metrics)\n",
    "        if (verbose):\n",
    "            print(f\"Fold {fold + 1} Test Metrics: {val_metrics}\")\n",
    "\n",
    "        if (verbose):\n",
    "            print('test_metrics:', test_metrics)\n",
    "    # Aggregate results\n",
    "    avg_metrics = {key: np.mean([fold[key] for fold in fold_metrics]) for key in fold_metrics[0].keys()}\n",
    "    \n",
    "    if verbose:\n",
    "        print(f\"Average Metrics: {avg_metrics}\")\n",
    "    \n",
    "    return avg_metrics"
   ]
  },
  {
   "cell_type": "markdown",
   "metadata": {},
   "source": [
    "## Execution ##"
   ]
  },
  {
   "cell_type": "markdown",
   "metadata": {},
   "source": [
    "### demo of full usage ###"
   ]
  },
  {
   "cell_type": "code",
   "execution_count": null,
   "metadata": {},
   "outputs": [
    {
     "name": "stdout",
     "output_type": "stream",
     "text": [
      "Fold 1/5\n"
     ]
    },
    {
     "name": "stderr",
     "output_type": "stream",
     "text": [
      "Training Epochs: 100%|████████████████████████████████████████████████████████████████████████████████████████████████████████████████████████| 100/100 [00:38<00:00,  2.62it/s]\n"
     ]
    },
    {
     "name": "stdout",
     "output_type": "stream",
     "text": [
      "Fold 2/5\n"
     ]
    },
    {
     "name": "stderr",
     "output_type": "stream",
     "text": [
      "Training Epochs: 100%|████████████████████████████████████████████████████████████████████████████████████████████████████████████████████████| 100/100 [00:37<00:00,  2.69it/s]\n"
     ]
    },
    {
     "name": "stdout",
     "output_type": "stream",
     "text": [
      "Fold 3/5\n"
     ]
    },
    {
     "name": "stderr",
     "output_type": "stream",
     "text": [
      "Training Epochs: 100%|████████████████████████████████████████████████████████████████████████████████████████████████████████████████████████| 100/100 [00:36<00:00,  2.74it/s]\n"
     ]
    },
    {
     "name": "stdout",
     "output_type": "stream",
     "text": [
      "Fold 4/5\n"
     ]
    },
    {
     "name": "stderr",
     "output_type": "stream",
     "text": [
      "Training Epochs: 100%|████████████████████████████████████████████████████████████████████████████████████████████████████████████████████████| 100/100 [00:36<00:00,  2.77it/s]\n"
     ]
    },
    {
     "name": "stdout",
     "output_type": "stream",
     "text": [
      "Fold 5/5\n"
     ]
    },
    {
     "name": "stderr",
     "output_type": "stream",
     "text": [
      "Training Epochs: 100%|████████████████████████████████████████████████████████████████████████████████████████████████████████████████████████| 100/100 [00:36<00:00,  2.77it/s]\n"
     ]
    },
    {
     "name": "stdout",
     "output_type": "stream",
     "text": [
      "_edge_dir_prefixpearson_correlation_pearson_correlation_epochs100_edge_percent_to_keep0.2_\n",
      "{'accuracy': 0.7440860215053764, 'auroc': 0.7969618127444215, 'sensitivity': 0.7827124183006535, 'specificity': 0.6271469979296066, 'f1_score': 0.821017957681204}\n",
      "Fold 1/5\n"
     ]
    },
    {
     "name": "stderr",
     "output_type": "stream",
     "text": [
      "Training Epochs: 100%|████████████████████████████████████████████████████████████████████████████████████████████████████████████████████████| 100/100 [00:36<00:00,  2.77it/s]\n"
     ]
    },
    {
     "name": "stdout",
     "output_type": "stream",
     "text": [
      "Fold 2/5\n"
     ]
    },
    {
     "name": "stderr",
     "output_type": "stream",
     "text": [
      "Training Epochs: 100%|████████████████████████████████████████████████████████████████████████████████████████████████████████████████████████| 100/100 [00:35<00:00,  2.80it/s]\n"
     ]
    },
    {
     "name": "stdout",
     "output_type": "stream",
     "text": [
      "Fold 3/5\n"
     ]
    },
    {
     "name": "stderr",
     "output_type": "stream",
     "text": [
      "Training Epochs: 100%|████████████████████████████████████████████████████████████████████████████████████████████████████████████████████████| 100/100 [00:36<00:00,  2.75it/s]\n"
     ]
    },
    {
     "name": "stdout",
     "output_type": "stream",
     "text": [
      "Fold 4/5\n"
     ]
    },
    {
     "name": "stderr",
     "output_type": "stream",
     "text": [
      "Training Epochs: 100%|████████████████████████████████████████████████████████████████████████████████████████████████████████████████████████| 100/100 [00:35<00:00,  2.79it/s]\n"
     ]
    },
    {
     "name": "stdout",
     "output_type": "stream",
     "text": [
      "Fold 5/5\n"
     ]
    },
    {
     "name": "stderr",
     "output_type": "stream",
     "text": [
      "Training Epochs: 100%|████████████████████████████████████████████████████████████████████████████████████████████████████████████████████████| 100/100 [00:35<00:00,  2.84it/s]\n"
     ]
    },
    {
     "name": "stdout",
     "output_type": "stream",
     "text": [
      "_edge_dir_prefixcosine_similarity_cosine_similarity_epochs100_edge_percent_to_keep0.2_\n",
      "{'accuracy': 0.7440860215053764, 'auroc': 0.7941176335268406, 'sensitivity': 0.7945658263305322, 'specificity': 0.5973664596273293, 'f1_score': 0.8232571404002534}\n",
      "Fold 1/5\n"
     ]
    },
    {
     "name": "stderr",
     "output_type": "stream",
     "text": [
      "Training Epochs: 100%|████████████████████████████████████████████████████████████████████████████████████████████████████████████████████████| 100/100 [00:35<00:00,  2.82it/s]\n"
     ]
    },
    {
     "name": "stdout",
     "output_type": "stream",
     "text": [
      "Fold 2/5\n"
     ]
    },
    {
     "name": "stderr",
     "output_type": "stream",
     "text": [
      "Training Epochs: 100%|████████████████████████████████████████████████████████████████████████████████████████████████████████████████████████| 100/100 [00:36<00:00,  2.77it/s]\n"
     ]
    },
    {
     "name": "stdout",
     "output_type": "stream",
     "text": [
      "Fold 3/5\n"
     ]
    },
    {
     "name": "stderr",
     "output_type": "stream",
     "text": [
      "Training Epochs: 100%|████████████████████████████████████████████████████████████████████████████████████████████████████████████████████████| 100/100 [00:38<00:00,  2.61it/s]\n"
     ]
    },
    {
     "name": "stdout",
     "output_type": "stream",
     "text": [
      "Fold 4/5\n"
     ]
    },
    {
     "name": "stderr",
     "output_type": "stream",
     "text": [
      "Training Epochs: 100%|████████████████████████████████████████████████████████████████████████████████████████████████████████████████████████| 100/100 [00:36<00:00,  2.75it/s]\n"
     ]
    },
    {
     "name": "stdout",
     "output_type": "stream",
     "text": [
      "Fold 5/5\n"
     ]
    },
    {
     "name": "stderr",
     "output_type": "stream",
     "text": [
      "Training Epochs: 100%|████████████████████████████████████████████████████████████████████████████████████████████████████████████████████████| 100/100 [00:36<00:00,  2.74it/s]\n"
     ]
    },
    {
     "name": "stdout",
     "output_type": "stream",
     "text": [
      "_edge_dir_prefixKNN_Graph_knn_graph__epochs100_edge_percent_to_keep0.2_\n",
      "{'accuracy': 0.7548387096774194, 'auroc': 0.7791942989756289, 'sensitivity': 0.8473249299719889, 'specificity': 0.487536231884058, 'f1_score': 0.8378285092776357}\n",
      "Fold 1/5\n"
     ]
    },
    {
     "name": "stderr",
     "output_type": "stream",
     "text": [
      "Training Epochs: 100%|████████████████████████████████████████████████████████████████████████████████████████████████████████████████████████| 100/100 [00:35<00:00,  2.78it/s]\n"
     ]
    },
    {
     "name": "stdout",
     "output_type": "stream",
     "text": [
      "Fold 2/5\n"
     ]
    },
    {
     "name": "stderr",
     "output_type": "stream",
     "text": [
      "Training Epochs: 100%|████████████████████████████████████████████████████████████████████████████████████████████████████████████████████████| 100/100 [00:36<00:00,  2.77it/s]\n"
     ]
    },
    {
     "name": "stdout",
     "output_type": "stream",
     "text": [
      "Fold 3/5\n"
     ]
    },
    {
     "name": "stderr",
     "output_type": "stream",
     "text": [
      "Training Epochs: 100%|████████████████████████████████████████████████████████████████████████████████████████████████████████████████████████| 100/100 [00:35<00:00,  2.80it/s]\n"
     ]
    },
    {
     "name": "stdout",
     "output_type": "stream",
     "text": [
      "Fold 4/5\n"
     ]
    },
    {
     "name": "stderr",
     "output_type": "stream",
     "text": [
      "Training Epochs: 100%|████████████████████████████████████████████████████████████████████████████████████████████████████████████████████████| 100/100 [00:35<00:00,  2.79it/s]\n"
     ]
    },
    {
     "name": "stdout",
     "output_type": "stream",
     "text": [
      "Fold 5/5\n"
     ]
    },
    {
     "name": "stderr",
     "output_type": "stream",
     "text": [
      "Training Epochs: 100%|████████████████████████████████████████████████████████████████████████████████████████████████████████████████████████| 100/100 [00:36<00:00,  2.74it/s]\n"
     ]
    },
    {
     "name": "stdout",
     "output_type": "stream",
     "text": [
      "_edge_dir_prefixEuclidean_Distance_distance_matrix__epochs100_edge_percent_to_keep0.2_\n",
      "{'accuracy': 0.7505376344086022, 'auroc': 0.7330180246011448, 'sensitivity': 0.8452007469654529, 'specificity': 0.46461283643892337, 'f1_score': 0.8354812495610247}\n",
      "Fold 1/5\n"
     ]
    },
    {
     "name": "stderr",
     "output_type": "stream",
     "text": [
      "Training Epochs: 100%|████████████████████████████████████████████████████████████████████████████████████████████████████████████████████████| 100/100 [00:35<00:00,  2.82it/s]\n"
     ]
    },
    {
     "name": "stdout",
     "output_type": "stream",
     "text": [
      "Fold 2/5\n"
     ]
    },
    {
     "name": "stderr",
     "output_type": "stream",
     "text": [
      "Training Epochs: 100%|████████████████████████████████████████████████████████████████████████████████████████████████████████████████████████| 100/100 [00:35<00:00,  2.82it/s]\n"
     ]
    },
    {
     "name": "stdout",
     "output_type": "stream",
     "text": [
      "Fold 3/5\n"
     ]
    },
    {
     "name": "stderr",
     "output_type": "stream",
     "text": [
      "Training Epochs: 100%|████████████████████████████████████████████████████████████████████████████████████████████████████████████████████████| 100/100 [00:35<00:00,  2.83it/s]\n"
     ]
    },
    {
     "name": "stdout",
     "output_type": "stream",
     "text": [
      "Fold 4/5\n"
     ]
    },
    {
     "name": "stderr",
     "output_type": "stream",
     "text": [
      "Training Epochs: 100%|████████████████████████████████████████████████████████████████████████████████████████████████████████████████████████| 100/100 [00:35<00:00,  2.79it/s]\n"
     ]
    },
    {
     "name": "stdout",
     "output_type": "stream",
     "text": [
      "Fold 5/5\n"
     ]
    },
    {
     "name": "stderr",
     "output_type": "stream",
     "text": [
      "Training Epochs: 100%|████████████████████████████████████████████████████████████████████████████████████████████████████████████████████████| 100/100 [00:35<00:00,  2.84it/s]\n"
     ]
    },
    {
     "name": "stdout",
     "output_type": "stream",
     "text": [
      "_edge_dir_prefixspearman_correlation_spearman_correlation_epochs100_edge_percent_to_keep0.2_\n",
      "{'accuracy': 0.7698924731182796, 'auroc': 0.8145942164305335, 'sensitivity': 0.8307516339869281, 'specificity': 0.5827080745341615, 'f1_score': 0.8442078984434952}\n",
      "Fold 1/5\n"
     ]
    },
    {
     "name": "stderr",
     "output_type": "stream",
     "text": [
      "Training Epochs: 100%|████████████████████████████████████████████████████████████████████████████████████████████████████████████████████████| 100/100 [00:36<00:00,  2.74it/s]\n"
     ]
    },
    {
     "name": "stdout",
     "output_type": "stream",
     "text": [
      "Fold 2/5\n"
     ]
    },
    {
     "name": "stderr",
     "output_type": "stream",
     "text": [
      "Training Epochs: 100%|████████████████████████████████████████████████████████████████████████████████████████████████████████████████████████| 100/100 [00:37<00:00,  2.63it/s]\n"
     ]
    },
    {
     "name": "stdout",
     "output_type": "stream",
     "text": [
      "Fold 3/5\n"
     ]
    },
    {
     "name": "stderr",
     "output_type": "stream",
     "text": [
      "Training Epochs: 100%|████████████████████████████████████████████████████████████████████████████████████████████████████████████████████████| 100/100 [00:36<00:00,  2.73it/s]\n"
     ]
    },
    {
     "name": "stdout",
     "output_type": "stream",
     "text": [
      "Fold 4/5\n"
     ]
    },
    {
     "name": "stderr",
     "output_type": "stream",
     "text": [
      "Training Epochs: 100%|████████████████████████████████████████████████████████████████████████████████████████████████████████████████████████| 100/100 [00:35<00:00,  2.83it/s]\n"
     ]
    },
    {
     "name": "stdout",
     "output_type": "stream",
     "text": [
      "Fold 5/5\n"
     ]
    },
    {
     "name": "stderr",
     "output_type": "stream",
     "text": [
      "Training Epochs: 100%|████████████████████████████████████████████████████████████████████████████████████████████████████████████████████████| 100/100 [00:35<00:00,  2.83it/s]\n"
     ]
    },
    {
     "name": "stdout",
     "output_type": "stream",
     "text": [
      "_edge_dir_prefixkendall_correlation_kendall_correlation_epochs100_edge_percent_to_keep0.2_\n",
      "{'accuracy': 0.7741935483870968, 'auroc': 0.7888598357217284, 'sensitivity': 0.8627544351073763, 'specificity': 0.507792960662526, 'f1_score': 0.8511294374281301}\n",
      "Fold 1/5\n"
     ]
    },
    {
     "name": "stderr",
     "output_type": "stream",
     "text": [
      "Training Epochs: 100%|████████████████████████████████████████████████████████████████████████████████████████████████████████████████████████| 100/100 [00:35<00:00,  2.82it/s]\n"
     ]
    },
    {
     "name": "stdout",
     "output_type": "stream",
     "text": [
      "Fold 2/5\n"
     ]
    },
    {
     "name": "stderr",
     "output_type": "stream",
     "text": [
      "Training Epochs: 100%|████████████████████████████████████████████████████████████████████████████████████████████████████████████████████████| 100/100 [00:36<00:00,  2.77it/s]\n"
     ]
    },
    {
     "name": "stdout",
     "output_type": "stream",
     "text": [
      "Fold 3/5\n"
     ]
    },
    {
     "name": "stderr",
     "output_type": "stream",
     "text": [
      "Training Epochs: 100%|████████████████████████████████████████████████████████████████████████████████████████████████████████████████████████| 100/100 [00:35<00:00,  2.81it/s]\n"
     ]
    },
    {
     "name": "stdout",
     "output_type": "stream",
     "text": [
      "Fold 4/5\n"
     ]
    },
    {
     "name": "stderr",
     "output_type": "stream",
     "text": [
      "Training Epochs: 100%|████████████████████████████████████████████████████████████████████████████████████████████████████████████████████████| 100/100 [00:36<00:00,  2.73it/s]\n"
     ]
    },
    {
     "name": "stdout",
     "output_type": "stream",
     "text": [
      "Fold 5/5\n"
     ]
    },
    {
     "name": "stderr",
     "output_type": "stream",
     "text": [
      "Training Epochs: 100%|████████████████████████████████████████████████████████████████████████████████████████████████████████████████████████| 100/100 [00:36<00:00,  2.78it/s]\n"
     ]
    },
    {
     "name": "stdout",
     "output_type": "stream",
     "text": [
      "_edge_dir_prefixpartial_correlation_partial_correlation_epochs100_edge_percent_to_keep0.2_\n",
      "{'accuracy': 0.5892473118279569, 'auroc': 0.43170746559493367, 'sensitivity': 0.753688141923436, 'specificity': 0.08639337474120083, 'f1_score': 0.7223087639658436}\n",
      "Fold 1/5\n"
     ]
    },
    {
     "name": "stderr",
     "output_type": "stream",
     "text": [
      "Training Epochs: 100%|████████████████████████████████████████████████████████████████████████████████████████████████████████████████████████| 100/100 [00:35<00:00,  2.79it/s]\n"
     ]
    },
    {
     "name": "stdout",
     "output_type": "stream",
     "text": [
      "Fold 2/5\n"
     ]
    },
    {
     "name": "stderr",
     "output_type": "stream",
     "text": [
      "Training Epochs: 100%|████████████████████████████████████████████████████████████████████████████████████████████████████████████████████████| 100/100 [00:36<00:00,  2.77it/s]\n"
     ]
    },
    {
     "name": "stdout",
     "output_type": "stream",
     "text": [
      "Fold 3/5\n"
     ]
    },
    {
     "name": "stderr",
     "output_type": "stream",
     "text": [
      "Training Epochs: 100%|████████████████████████████████████████████████████████████████████████████████████████████████████████████████████████| 100/100 [00:35<00:00,  2.79it/s]\n"
     ]
    },
    {
     "name": "stdout",
     "output_type": "stream",
     "text": [
      "Fold 4/5\n"
     ]
    },
    {
     "name": "stderr",
     "output_type": "stream",
     "text": [
      "Training Epochs: 100%|████████████████████████████████████████████████████████████████████████████████████████████████████████████████████████| 100/100 [00:35<00:00,  2.79it/s]\n"
     ]
    },
    {
     "name": "stdout",
     "output_type": "stream",
     "text": [
      "Fold 5/5\n"
     ]
    },
    {
     "name": "stderr",
     "output_type": "stream",
     "text": [
      "Training Epochs: 100%|████████████████████████████████████████████████████████████████████████████████████████████████████████████████████████| 100/100 [00:36<00:00,  2.74it/s]\n"
     ]
    },
    {
     "name": "stdout",
     "output_type": "stream",
     "text": [
      "_edge_dir_prefixcross_correlation_cross_correlation_epochs100_edge_percent_to_keep0.2_\n",
      "{'accuracy': 0.7827956989247312, 'auroc': 0.795504134020758, 'sensitivity': 0.8590989729225024, 'specificity': 0.5483561076604555, 'f1_score': 0.8552971493713653}\n",
      "Fold 1/5\n"
     ]
    },
    {
     "name": "stderr",
     "output_type": "stream",
     "text": [
      "Training Epochs: 100%|████████████████████████████████████████████████████████████████████████████████████████████████████████████████████████| 100/100 [00:35<00:00,  2.82it/s]\n"
     ]
    },
    {
     "name": "stdout",
     "output_type": "stream",
     "text": [
      "Fold 2/5\n"
     ]
    },
    {
     "name": "stderr",
     "output_type": "stream",
     "text": [
      "Training Epochs: 100%|████████████████████████████████████████████████████████████████████████████████████████████████████████████████████████| 100/100 [00:36<00:00,  2.75it/s]\n"
     ]
    },
    {
     "name": "stdout",
     "output_type": "stream",
     "text": [
      "Fold 3/5\n"
     ]
    },
    {
     "name": "stderr",
     "output_type": "stream",
     "text": [
      "Training Epochs: 100%|████████████████████████████████████████████████████████████████████████████████████████████████████████████████████████| 100/100 [00:35<00:00,  2.79it/s]\n"
     ]
    },
    {
     "name": "stdout",
     "output_type": "stream",
     "text": [
      "Fold 4/5\n"
     ]
    },
    {
     "name": "stderr",
     "output_type": "stream",
     "text": [
      "Training Epochs: 100%|████████████████████████████████████████████████████████████████████████████████████████████████████████████████████████| 100/100 [00:35<00:00,  2.80it/s]\n"
     ]
    },
    {
     "name": "stdout",
     "output_type": "stream",
     "text": [
      "Fold 5/5\n"
     ]
    },
    {
     "name": "stderr",
     "output_type": "stream",
     "text": [
      "Training Epochs: 100%|████████████████████████████████████████████████████████████████████████████████████████████████████████████████████████| 100/100 [00:36<00:00,  2.72it/s]\n"
     ]
    },
    {
     "name": "stdout",
     "output_type": "stream",
     "text": [
      "_edge_dir_prefixpairwise_PC_aHOFC_aHOFC_epochs100_edge_percent_to_keep0.2_\n",
      "{'accuracy': 0.6580645161290322, 'auroc': 0.6208074669481318, 'sensitivity': 0.7701680672268909, 'specificity': 0.31019461697722567, 'f1_score': 0.767060916598594}\n",
      "Fold 1/5\n"
     ]
    },
    {
     "name": "stderr",
     "output_type": "stream",
     "text": [
      "Training Epochs: 100%|████████████████████████████████████████████████████████████████████████████████████████████████████████████████████████| 100/100 [00:35<00:00,  2.82it/s]\n"
     ]
    },
    {
     "name": "stdout",
     "output_type": "stream",
     "text": [
      "Fold 2/5\n"
     ]
    },
    {
     "name": "stderr",
     "output_type": "stream",
     "text": [
      "Training Epochs: 100%|████████████████████████████████████████████████████████████████████████████████████████████████████████████████████████| 100/100 [00:35<00:00,  2.82it/s]\n"
     ]
    },
    {
     "name": "stdout",
     "output_type": "stream",
     "text": [
      "Fold 3/5\n"
     ]
    },
    {
     "name": "stderr",
     "output_type": "stream",
     "text": [
      "Training Epochs: 100%|████████████████████████████████████████████████████████████████████████████████████████████████████████████████████████| 100/100 [00:35<00:00,  2.85it/s]\n"
     ]
    },
    {
     "name": "stdout",
     "output_type": "stream",
     "text": [
      "Fold 4/5\n"
     ]
    },
    {
     "name": "stderr",
     "output_type": "stream",
     "text": [
      "Training Epochs: 100%|████████████████████████████████████████████████████████████████████████████████████████████████████████████████████████| 100/100 [00:35<00:00,  2.82it/s]\n"
     ]
    },
    {
     "name": "stdout",
     "output_type": "stream",
     "text": [
      "Fold 5/5\n"
     ]
    },
    {
     "name": "stderr",
     "output_type": "stream",
     "text": [
      "Training Epochs: 100%|████████████████████████████████████████████████████████████████████████████████████████████████████████████████████████| 100/100 [00:35<00:00,  2.82it/s]\n"
     ]
    },
    {
     "name": "stdout",
     "output_type": "stream",
     "text": [
      "_edge_dir_prefixpairwise_PC_dHOFC_dHOFC_epochs100_edge_percent_to_keep0.2_\n",
      "{'accuracy': 0.653763440860215, 'auroc': 0.5147640969431251, 'sensitivity': 0.7816479925303454, 'specificity': 0.25440993788819877, 'f1_score': 0.7712503929699789}\n",
      "Fold 1/5\n"
     ]
    },
    {
     "name": "stderr",
     "output_type": "stream",
     "text": [
      "Training Epochs: 100%|████████████████████████████████████████████████████████████████████████████████████████████████████████████████████████| 100/100 [00:36<00:00,  2.76it/s]\n"
     ]
    },
    {
     "name": "stdout",
     "output_type": "stream",
     "text": [
      "Fold 2/5\n"
     ]
    },
    {
     "name": "stderr",
     "output_type": "stream",
     "text": [
      "Training Epochs: 100%|████████████████████████████████████████████████████████████████████████████████████████████████████████████████████████| 100/100 [00:36<00:00,  2.75it/s]\n"
     ]
    },
    {
     "name": "stdout",
     "output_type": "stream",
     "text": [
      "Fold 3/5\n"
     ]
    },
    {
     "name": "stderr",
     "output_type": "stream",
     "text": [
      "Training Epochs: 100%|████████████████████████████████████████████████████████████████████████████████████████████████████████████████████████| 100/100 [00:34<00:00,  2.88it/s]\n"
     ]
    },
    {
     "name": "stdout",
     "output_type": "stream",
     "text": [
      "Fold 4/5\n"
     ]
    },
    {
     "name": "stderr",
     "output_type": "stream",
     "text": [
      "Training Epochs: 100%|████████████████████████████████████████████████████████████████████████████████████████████████████████████████████████| 100/100 [00:35<00:00,  2.85it/s]\n"
     ]
    },
    {
     "name": "stdout",
     "output_type": "stream",
     "text": [
      "Fold 5/5\n"
     ]
    },
    {
     "name": "stderr",
     "output_type": "stream",
     "text": [
      "Training Epochs: 100%|████████████████████████████████████████████████████████████████████████████████████████████████████████████████████████| 100/100 [00:36<00:00,  2.76it/s]\n"
     ]
    },
    {
     "name": "stdout",
     "output_type": "stream",
     "text": [
      "_edge_dir_prefixpairwise_PC_tHOFC_tHOFC_epochs100_edge_percent_to_keep0.2_\n",
      "{'accuracy': 0.6236559139784946, 'auroc': 0.5829989039093899, 'sensitivity': 0.7155882352941176, 'specificity': 0.33876604554865425, 'f1_score': 0.7377025168619845}\n",
      "Fold 1/5\n"
     ]
    },
    {
     "name": "stderr",
     "output_type": "stream",
     "text": [
      "Training Epochs: 100%|████████████████████████████████████████████████████████████████████████████████████████████████████████████████████████| 100/100 [00:35<00:00,  2.82it/s]\n"
     ]
    },
    {
     "name": "stdout",
     "output_type": "stream",
     "text": [
      "Fold 2/5\n"
     ]
    },
    {
     "name": "stderr",
     "output_type": "stream",
     "text": [
      "Training Epochs: 100%|████████████████████████████████████████████████████████████████████████████████████████████████████████████████████████| 100/100 [00:37<00:00,  2.70it/s]\n"
     ]
    },
    {
     "name": "stdout",
     "output_type": "stream",
     "text": [
      "Fold 3/5\n"
     ]
    },
    {
     "name": "stderr",
     "output_type": "stream",
     "text": [
      "Training Epochs: 100%|████████████████████████████████████████████████████████████████████████████████████████████████████████████████████████| 100/100 [00:35<00:00,  2.84it/s]\n"
     ]
    },
    {
     "name": "stdout",
     "output_type": "stream",
     "text": [
      "Fold 4/5\n"
     ]
    },
    {
     "name": "stderr",
     "output_type": "stream",
     "text": [
      "Training Epochs: 100%|████████████████████████████████████████████████████████████████████████████████████████████████████████████████████████| 100/100 [00:34<00:00,  2.94it/s]\n"
     ]
    },
    {
     "name": "stdout",
     "output_type": "stream",
     "text": [
      "Fold 5/5\n"
     ]
    },
    {
     "name": "stderr",
     "output_type": "stream",
     "text": [
      "Training Epochs: 100%|████████████████████████████████████████████████████████████████████████████████████████████████████████████████████████| 100/100 [00:32<00:00,  3.07it/s]\n"
     ]
    },
    {
     "name": "stdout",
     "output_type": "stream",
     "text": [
      "_edge_dir_prefixcorrelations_correlation_correlations_correlation_epochs100_edge_percent_to_keep0.2_\n",
      "{'accuracy': 0.7655913978494624, 'auroc': 0.7778040568884559, 'sensitivity': 0.8394024276377218, 'specificity': 0.5349565217391304, 'f1_score': 0.8428564847977356}\n",
      "Fold 1/5\n"
     ]
    },
    {
     "name": "stderr",
     "output_type": "stream",
     "text": [
      "Training Epochs: 100%|████████████████████████████████████████████████████████████████████████████████████████████████████████████████████████| 100/100 [00:32<00:00,  3.05it/s]\n"
     ]
    },
    {
     "name": "stdout",
     "output_type": "stream",
     "text": [
      "Fold 2/5\n"
     ]
    },
    {
     "name": "stderr",
     "output_type": "stream",
     "text": [
      "Training Epochs: 100%|████████████████████████████████████████████████████████████████████████████████████████████████████████████████████████| 100/100 [00:33<00:00,  3.02it/s]\n"
     ]
    },
    {
     "name": "stdout",
     "output_type": "stream",
     "text": [
      "Fold 3/5\n"
     ]
    },
    {
     "name": "stderr",
     "output_type": "stream",
     "text": [
      "Training Epochs: 100%|████████████████████████████████████████████████████████████████████████████████████████████████████████████████████████| 100/100 [00:32<00:00,  3.05it/s]\n"
     ]
    },
    {
     "name": "stdout",
     "output_type": "stream",
     "text": [
      "Fold 4/5\n"
     ]
    },
    {
     "name": "stderr",
     "output_type": "stream",
     "text": [
      "Training Epochs: 100%|████████████████████████████████████████████████████████████████████████████████████████████████████████████████████████| 100/100 [00:35<00:00,  2.78it/s]\n"
     ]
    },
    {
     "name": "stdout",
     "output_type": "stream",
     "text": [
      "Fold 5/5\n"
     ]
    },
    {
     "name": "stderr",
     "output_type": "stream",
     "text": [
      "Training Epochs: 100%|████████████████████████████████████████████████████████████████████████████████████████████████████████████████████████| 100/100 [00:32<00:00,  3.04it/s]\n"
     ]
    },
    {
     "name": "stdout",
     "output_type": "stream",
     "text": [
      "_edge_dir_prefixassociated_high_order_fc_associated_high_order_fc_epochs100_edge_percent_to_keep0.2_\n",
      "{'accuracy': 0.7268817204301076, 'auroc': 0.7389549655611036, 'sensitivity': 0.8181792717086834, 'specificity': 0.45787163561076605, 'f1_score': 0.8175884477475227}\n",
      "Fold 1/5\n"
     ]
    },
    {
     "name": "stderr",
     "output_type": "stream",
     "text": [
      "Training Epochs: 100%|████████████████████████████████████████████████████████████████████████████████████████████████████████████████████████| 100/100 [00:32<00:00,  3.08it/s]\n"
     ]
    },
    {
     "name": "stdout",
     "output_type": "stream",
     "text": [
      "Fold 2/5\n"
     ]
    },
    {
     "name": "stderr",
     "output_type": "stream",
     "text": [
      "Training Epochs: 100%|████████████████████████████████████████████████████████████████████████████████████████████████████████████████████████| 100/100 [00:32<00:00,  3.09it/s]\n"
     ]
    },
    {
     "name": "stdout",
     "output_type": "stream",
     "text": [
      "Fold 3/5\n"
     ]
    },
    {
     "name": "stderr",
     "output_type": "stream",
     "text": [
      "Training Epochs: 100%|████████████████████████████████████████████████████████████████████████████████████████████████████████████████████████| 100/100 [00:32<00:00,  3.04it/s]\n"
     ]
    },
    {
     "name": "stdout",
     "output_type": "stream",
     "text": [
      "Fold 4/5\n"
     ]
    },
    {
     "name": "stderr",
     "output_type": "stream",
     "text": [
      "Training Epochs: 100%|████████████████████████████████████████████████████████████████████████████████████████████████████████████████████████| 100/100 [00:32<00:00,  3.06it/s]\n"
     ]
    },
    {
     "name": "stdout",
     "output_type": "stream",
     "text": [
      "Fold 5/5\n"
     ]
    },
    {
     "name": "stderr",
     "output_type": "stream",
     "text": [
      "Training Epochs: 100%|████████████████████████████████████████████████████████████████████████████████████████████████████████████████████████| 100/100 [00:32<00:00,  3.06it/s]\n"
     ]
    },
    {
     "name": "stdout",
     "output_type": "stream",
     "text": [
      "_edge_dir_prefixmutual_information_mutual_information_epochs100_edge_percent_to_keep0.2_\n",
      "{'accuracy': 0.7913978494623656, 'auroc': 0.8116797791580399, 'sensitivity': 0.8749393090569562, 'specificity': 0.5432712215320911, 'f1_score': 0.8631452560229539}\n",
      "Fold 1/5\n"
     ]
    },
    {
     "name": "stderr",
     "output_type": "stream",
     "text": [
      "Training Epochs: 100%|████████████████████████████████████████████████████████████████████████████████████████████████████████████████████████| 100/100 [00:33<00:00,  3.01it/s]\n"
     ]
    },
    {
     "name": "stdout",
     "output_type": "stream",
     "text": [
      "Fold 2/5\n"
     ]
    },
    {
     "name": "stderr",
     "output_type": "stream",
     "text": [
      "Training Epochs: 100%|████████████████████████████████████████████████████████████████████████████████████████████████████████████████████████| 100/100 [00:32<00:00,  3.10it/s]\n"
     ]
    },
    {
     "name": "stdout",
     "output_type": "stream",
     "text": [
      "Fold 3/5\n"
     ]
    },
    {
     "name": "stderr",
     "output_type": "stream",
     "text": [
      "Training Epochs: 100%|████████████████████████████████████████████████████████████████████████████████████████████████████████████████████████| 100/100 [00:32<00:00,  3.05it/s]\n"
     ]
    },
    {
     "name": "stdout",
     "output_type": "stream",
     "text": [
      "Fold 4/5\n"
     ]
    },
    {
     "name": "stderr",
     "output_type": "stream",
     "text": [
      "Training Epochs: 100%|████████████████████████████████████████████████████████████████████████████████████████████████████████████████████████| 100/100 [00:32<00:00,  3.05it/s]\n"
     ]
    },
    {
     "name": "stdout",
     "output_type": "stream",
     "text": [
      "Fold 5/5\n"
     ]
    },
    {
     "name": "stderr",
     "output_type": "stream",
     "text": [
      "Training Epochs: 100%|████████████████████████████████████████████████████████████████████████████████████████████████████████████████████████| 100/100 [00:34<00:00,  2.91it/s]\n"
     ]
    },
    {
     "name": "stdout",
     "output_type": "stream",
     "text": [
      "_edge_dir_prefixgranger_causality_granger_causality_epochs100_edge_percent_to_keep0.2_\n",
      "{'accuracy': 0.6451612903225806, 'auroc': 0.46240664961636824, 'sensitivity': 0.8090102707749767, 'specificity': 0.1518012422360248, 'f1_score': 0.7739147842870178}\n",
      "Fold 1/5\n"
     ]
    },
    {
     "name": "stderr",
     "output_type": "stream",
     "text": [
      "Training Epochs: 100%|████████████████████████████████████████████████████████████████████████████████████████████████████████████████████████| 100/100 [00:35<00:00,  2.84it/s]\n"
     ]
    },
    {
     "name": "stdout",
     "output_type": "stream",
     "text": [
      "Fold 2/5\n"
     ]
    },
    {
     "name": "stderr",
     "output_type": "stream",
     "text": [
      "Training Epochs: 100%|████████████████████████████████████████████████████████████████████████████████████████████████████████████████████████| 100/100 [00:36<00:00,  2.75it/s]\n"
     ]
    },
    {
     "name": "stdout",
     "output_type": "stream",
     "text": [
      "Fold 3/5\n"
     ]
    },
    {
     "name": "stderr",
     "output_type": "stream",
     "text": [
      "Training Epochs: 100%|████████████████████████████████████████████████████████████████████████████████████████████████████████████████████████| 100/100 [00:35<00:00,  2.80it/s]\n"
     ]
    },
    {
     "name": "stdout",
     "output_type": "stream",
     "text": [
      "Fold 4/5\n"
     ]
    },
    {
     "name": "stderr",
     "output_type": "stream",
     "text": [
      "Training Epochs: 100%|████████████████████████████████████████████████████████████████████████████████████████████████████████████████████████| 100/100 [00:36<00:00,  2.77it/s]\n"
     ]
    },
    {
     "name": "stdout",
     "output_type": "stream",
     "text": [
      "Fold 5/5\n"
     ]
    },
    {
     "name": "stderr",
     "output_type": "stream",
     "text": [
      "Training Epochs: 100%|████████████████████████████████████████████████████████████████████████████████████████████████████████████████████████| 100/100 [00:36<00:00,  2.76it/s]\n"
     ]
    },
    {
     "name": "stdout",
     "output_type": "stream",
     "text": [
      "_edge_dir_prefixEMDDistance_EMDdistance_matrix__epochs100_edge_percent_to_keep0.2_\n",
      "{'accuracy': 0.6258064516129032, 'auroc': 0.5590004262574595, 'sensitivity': 0.7389309056956115, 'specificity': 0.27845962732919255, 'f1_score': 0.7465259263263448}\n",
      "Fold 1/5\n"
     ]
    },
    {
     "name": "stderr",
     "output_type": "stream",
     "text": [
      "Training Epochs: 100%|████████████████████████████████████████████████████████████████████████████████████████████████████████████████████████| 100/100 [00:34<00:00,  2.88it/s]\n"
     ]
    },
    {
     "name": "stdout",
     "output_type": "stream",
     "text": [
      "Fold 2/5\n"
     ]
    },
    {
     "name": "stderr",
     "output_type": "stream",
     "text": [
      "Training Epochs: 100%|████████████████████████████████████████████████████████████████████████████████████████████████████████████████████████| 100/100 [00:34<00:00,  2.87it/s]\n"
     ]
    },
    {
     "name": "stdout",
     "output_type": "stream",
     "text": [
      "Fold 3/5\n"
     ]
    },
    {
     "name": "stderr",
     "output_type": "stream",
     "text": [
      "Training Epochs: 100%|████████████████████████████████████████████████████████████████████████████████████████████████████████████████████████| 100/100 [00:35<00:00,  2.84it/s]\n"
     ]
    },
    {
     "name": "stdout",
     "output_type": "stream",
     "text": [
      "Fold 4/5\n"
     ]
    },
    {
     "name": "stderr",
     "output_type": "stream",
     "text": [
      "Training Epochs: 100%|████████████████████████████████████████████████████████████████████████████████████████████████████████████████████████| 100/100 [00:35<00:00,  2.84it/s]\n"
     ]
    },
    {
     "name": "stdout",
     "output_type": "stream",
     "text": [
      "Fold 5/5\n"
     ]
    },
    {
     "name": "stderr",
     "output_type": "stream",
     "text": [
      "Training Epochs: 100%|████████████████████████████████████████████████████████████████████████████████████████████████████████████████████████| 100/100 [00:35<00:00,  2.78it/s]\n"
     ]
    },
    {
     "name": "stdout",
     "output_type": "stream",
     "text": [
      "_edge_dir_prefixWaveletCoherence_coherence_matrix__epochs100_edge_percent_to_keep0.2_\n",
      "{'accuracy': 0.36774193548387096, 'auroc': 0.5397624595732012, 'sensitivity': 0.23530812324929967, 'specificity': 0.774343685300207, 'f1_score': 0.2587366784200134}\n",
      "Fold 1/5\n"
     ]
    },
    {
     "name": "stderr",
     "output_type": "stream",
     "text": [
      "Training Epochs: 100%|████████████████████████████████████████████████████████████████████████████████████████████████████████████████████████| 100/100 [00:35<00:00,  2.82it/s]\n"
     ]
    },
    {
     "name": "stdout",
     "output_type": "stream",
     "text": [
      "Fold 2/5\n"
     ]
    },
    {
     "name": "stderr",
     "output_type": "stream",
     "text": [
      "Training Epochs: 100%|████████████████████████████████████████████████████████████████████████████████████████████████████████████████████████| 100/100 [00:36<00:00,  2.78it/s]\n"
     ]
    },
    {
     "name": "stdout",
     "output_type": "stream",
     "text": [
      "Fold 3/5\n"
     ]
    },
    {
     "name": "stderr",
     "output_type": "stream",
     "text": [
      "Training Epochs: 100%|████████████████████████████████████████████████████████████████████████████████████████████████████████████████████████| 100/100 [00:38<00:00,  2.62it/s]\n"
     ]
    },
    {
     "name": "stdout",
     "output_type": "stream",
     "text": [
      "Fold 4/5\n"
     ]
    },
    {
     "name": "stderr",
     "output_type": "stream",
     "text": [
      "Training Epochs: 100%|████████████████████████████████████████████████████████████████████████████████████████████████████████████████████████| 100/100 [00:36<00:00,  2.72it/s]\n"
     ]
    },
    {
     "name": "stdout",
     "output_type": "stream",
     "text": [
      "Fold 5/5\n"
     ]
    },
    {
     "name": "stderr",
     "output_type": "stream",
     "text": [
      "Training Epochs: 100%|████████████████████████████████████████████████████████████████████████████████████████████████████████████████████████| 100/100 [00:35<00:00,  2.79it/s]\n"
     ]
    },
    {
     "name": "stdout",
     "output_type": "stream",
     "text": [
      "_edge_dir_prefixcoherence_matrix_coherence_matrix_epochs100_edge_percent_to_keep0.2_\n",
      "{'accuracy': 0.7612903225806452, 'auroc': 0.785532903016279, 'sensitivity': 0.8457796451914099, 'specificity': 0.50448033126294, 'f1_score': 0.8410998316212297}\n",
      "File \"../../data/ADNI/fmri_edge/lingam/lingam945.csv\" not found. Skipping.\n",
      "File \"../../data/ADNI/fmri_edge/lingam/lingam947.csv\" not found. Skipping.\n",
      "File \"../../data/ADNI/fmri_edge/lingam/lingam948.csv\" not found. Skipping.\n",
      "File \"../../data/ADNI/fmri_edge/lingam/lingam949.csv\" not found. Skipping.\n",
      "File \"../../data/ADNI/fmri_edge/lingam/lingam950.csv\" not found. Skipping.\n",
      "File \"../../data/ADNI/fmri_edge/lingam/lingam951.csv\" not found. Skipping.\n",
      "File \"../../data/ADNI/fmri_edge/lingam/lingam956.csv\" not found. Skipping.\n",
      "File \"../../data/ADNI/fmri_edge/lingam/lingam959.csv\" not found. Skipping.\n",
      "File \"../../data/ADNI/fmri_edge/lingam/lingam962.csv\" not found. Skipping.\n",
      "File \"../../data/ADNI/fmri_edge/lingam/lingam963.csv\" not found. Skipping.\n",
      "File \"../../data/ADNI/fmri_edge/lingam/lingam965.csv\" not found. Skipping.\n",
      "File \"../../data/ADNI/fmri_edge/lingam/lingam968.csv\" not found. Skipping.\n",
      "File \"../../data/ADNI/fmri_edge/lingam/lingam969.csv\" not found. Skipping.\n",
      "File \"../../data/ADNI/fmri_edge/lingam/lingam970.csv\" not found. Skipping.\n",
      "File \"../../data/ADNI/fmri_edge/lingam/lingam974.csv\" not found. Skipping.\n",
      "File \"../../data/ADNI/fmri_edge/lingam/lingam976.csv\" not found. Skipping.\n",
      "File \"../../data/ADNI/fmri_edge/lingam/lingam977.csv\" not found. Skipping.\n",
      "File \"../../data/ADNI/fmri_edge/lingam/lingam978.csv\" not found. Skipping.\n",
      "File \"../../data/ADNI/fmri_edge/lingam/lingam979.csv\" not found. Skipping.\n",
      "File \"../../data/ADNI/fmri_edge/lingam/lingam980.csv\" not found. Skipping.\n",
      "File \"../../data/ADNI/fmri_edge/lingam/lingam981.csv\" not found. Skipping.\n",
      "File \"../../data/ADNI/fmri_edge/lingam/lingam982.csv\" not found. Skipping.\n",
      "File \"../../data/ADNI/fmri_edge/lingam/lingam984.csv\" not found. Skipping.\n",
      "File \"../../data/ADNI/fmri_edge/lingam/lingam985.csv\" not found. Skipping.\n",
      "File \"../../data/ADNI/fmri_edge/lingam/lingam989.csv\" not found. Skipping.\n",
      "File \"../../data/ADNI/fmri_edge/lingam/lingam991.csv\" not found. Skipping.\n",
      "File \"../../data/ADNI/fmri_edge/lingam/lingam993.csv\" not found. Skipping.\n",
      "File \"../../data/ADNI/fmri_edge/lingam/lingam994.csv\" not found. Skipping.\n",
      "File \"../../data/ADNI/fmri_edge/lingam/lingam995.csv\" not found. Skipping.\n",
      "File \"../../data/ADNI/fmri_edge/lingam/lingam996.csv\" not found. Skipping.\n",
      "File \"../../data/ADNI/fmri_edge/lingam/lingam998.csv\" not found. Skipping.\n",
      "File \"../../data/ADNI/fmri_edge/lingam/lingam1000.csv\" not found. Skipping.\n",
      "File \"../../data/ADNI/fmri_edge/lingam/lingam1002.csv\" not found. Skipping.\n",
      "File \"../../data/ADNI/fmri_edge/lingam/lingam1003.csv\" not found. Skipping.\n",
      "File \"../../data/ADNI/fmri_edge/lingam/lingam1004.csv\" not found. Skipping.\n",
      "File \"../../data/ADNI/fmri_edge/lingam/lingam1005.csv\" not found. Skipping.\n",
      "File \"../../data/ADNI/fmri_edge/lingam/lingam1008.csv\" not found. Skipping.\n",
      "File \"../../data/ADNI/fmri_edge/lingam/lingam1010.csv\" not found. Skipping.\n",
      "File \"../../data/ADNI/fmri_edge/lingam/lingam1012.csv\" not found. Skipping.\n",
      "File \"../../data/ADNI/fmri_edge/lingam/lingam1013.csv\" not found. Skipping.\n",
      "File \"../../data/ADNI/fmri_edge/lingam/lingam1015.csv\" not found. Skipping.\n",
      "File \"../../data/ADNI/fmri_edge/lingam/lingam1016.csv\" not found. Skipping.\n",
      "File \"../../data/ADNI/fmri_edge/lingam/lingam1017.csv\" not found. Skipping.\n",
      "File \"../../data/ADNI/fmri_edge/lingam/lingam1018.csv\" not found. Skipping.\n",
      "File \"../../data/ADNI/fmri_edge/lingam/lingam1019.csv\" not found. Skipping.\n",
      "File \"../../data/ADNI/fmri_edge/lingam/lingam1020.csv\" not found. Skipping.\n",
      "File \"../../data/ADNI/fmri_edge/lingam/lingam1021.csv\" not found. Skipping.\n",
      "File \"../../data/ADNI/fmri_edge/lingam/lingam1022.csv\" not found. Skipping.\n",
      "File \"../../data/ADNI/fmri_edge/lingam/lingam1023.csv\" not found. Skipping.\n",
      "File \"../../data/ADNI/fmri_edge/lingam/lingam1024.csv\" not found. Skipping.\n",
      "File \"../../data/ADNI/fmri_edge/lingam/lingam1025.csv\" not found. Skipping.\n",
      "File \"../../data/ADNI/fmri_edge/lingam/lingam1026.csv\" not found. Skipping.\n",
      "File \"../../data/ADNI/fmri_edge/lingam/lingam1029.csv\" not found. Skipping.\n",
      "File \"../../data/ADNI/fmri_edge/lingam/lingam1030.csv\" not found. Skipping.\n",
      "File \"../../data/ADNI/fmri_edge/lingam/lingam1031.csv\" not found. Skipping.\n",
      "File \"../../data/ADNI/fmri_edge/lingam/lingam1034.csv\" not found. Skipping.\n",
      "File \"../../data/ADNI/fmri_edge/lingam/lingam1035.csv\" not found. Skipping.\n",
      "File \"../../data/ADNI/fmri_edge/lingam/lingam1036.csv\" not found. Skipping.\n",
      "File \"../../data/ADNI/fmri_edge/lingam/lingam1037.csv\" not found. Skipping.\n",
      "File \"../../data/ADNI/fmri_edge/lingam/lingam1038.csv\" not found. Skipping.\n",
      "File \"../../data/ADNI/fmri_edge/lingam/lingam1039.csv\" not found. Skipping.\n",
      "File \"../../data/ADNI/fmri_edge/lingam/lingam1040.csv\" not found. Skipping.\n",
      "File \"../../data/ADNI/fmri_edge/lingam/lingam1042.csv\" not found. Skipping.\n",
      "File \"../../data/ADNI/fmri_edge/lingam/lingam1043.csv\" not found. Skipping.\n",
      "File \"../../data/ADNI/fmri_edge/lingam/lingam1045.csv\" not found. Skipping.\n",
      "File \"../../data/ADNI/fmri_edge/lingam/lingam1046.csv\" not found. Skipping.\n",
      "File \"../../data/ADNI/fmri_edge/lingam/lingam1047.csv\" not found. Skipping.\n",
      "File \"../../data/ADNI/fmri_edge/lingam/lingam1048.csv\" not found. Skipping.\n",
      "File \"../../data/ADNI/fmri_edge/lingam/lingam1050.csv\" not found. Skipping.\n",
      "File \"../../data/ADNI/fmri_edge/lingam/lingam1054.csv\" not found. Skipping.\n",
      "File \"../../data/ADNI/fmri_edge/lingam/lingam1055.csv\" not found. Skipping.\n",
      "File \"../../data/ADNI/fmri_edge/lingam/lingam1057.csv\" not found. Skipping.\n",
      "File \"../../data/ADNI/fmri_edge/lingam/lingam1058.csv\" not found. Skipping.\n",
      "File \"../../data/ADNI/fmri_edge/lingam/lingam1059.csv\" not found. Skipping.\n",
      "File \"../../data/ADNI/fmri_edge/lingam/lingam1061.csv\" not found. Skipping.\n",
      "File \"../../data/ADNI/fmri_edge/lingam/lingam1062.csv\" not found. Skipping.\n",
      "File \"../../data/ADNI/fmri_edge/lingam/lingam1071.csv\" not found. Skipping.\n",
      "File \"../../data/ADNI/fmri_edge/lingam/lingam1073.csv\" not found. Skipping.\n",
      "File \"../../data/ADNI/fmri_edge/lingam/lingam1074.csv\" not found. Skipping.\n",
      "File \"../../data/ADNI/fmri_edge/lingam/lingam1075.csv\" not found. Skipping.\n",
      "File \"../../data/ADNI/fmri_edge/lingam/lingam1076.csv\" not found. Skipping.\n",
      "File \"../../data/ADNI/fmri_edge/lingam/lingam1077.csv\" not found. Skipping.\n",
      "File \"../../data/ADNI/fmri_edge/lingam/lingam1083.csv\" not found. Skipping.\n",
      "File \"../../data/ADNI/fmri_edge/lingam/lingam1084.csv\" not found. Skipping.\n",
      "File \"../../data/ADNI/fmri_edge/lingam/lingam1087.csv\" not found. Skipping.\n",
      "File \"../../data/ADNI/fmri_edge/lingam/lingam1088.csv\" not found. Skipping.\n",
      "File \"../../data/ADNI/fmri_edge/lingam/lingam1089.csv\" not found. Skipping.\n",
      "File \"../../data/ADNI/fmri_edge/lingam/lingam1091.csv\" not found. Skipping.\n",
      "File \"../../data/ADNI/fmri_edge/lingam/lingam1097.csv\" not found. Skipping.\n",
      "File \"../../data/ADNI/fmri_edge/lingam/lingam1098.csv\" not found. Skipping.\n",
      "File \"../../data/ADNI/fmri_edge/lingam/lingam1099.csv\" not found. Skipping.\n",
      "File \"../../data/ADNI/fmri_edge/lingam/lingam1100.csv\" not found. Skipping.\n",
      "File \"../../data/ADNI/fmri_edge/lingam/lingam1101.csv\" not found. Skipping.\n",
      "File \"../../data/ADNI/fmri_edge/lingam/lingam1103.csv\" not found. Skipping.\n",
      "File \"../../data/ADNI/fmri_edge/lingam/lingam1107.csv\" not found. Skipping.\n",
      "File \"../../data/ADNI/fmri_edge/lingam/lingam1108.csv\" not found. Skipping.\n",
      "File \"../../data/ADNI/fmri_edge/lingam/lingam1109.csv\" not found. Skipping.\n",
      "File \"../../data/ADNI/fmri_edge/lingam/lingam1110.csv\" not found. Skipping.\n",
      "File \"../../data/ADNI/fmri_edge/lingam/lingam1111.csv\" not found. Skipping.\n",
      "File \"../../data/ADNI/fmri_edge/lingam/lingam1113.csv\" not found. Skipping.\n",
      "File \"../../data/ADNI/fmri_edge/lingam/lingam1118.csv\" not found. Skipping.\n",
      "File \"../../data/ADNI/fmri_edge/lingam/lingam1119.csv\" not found. Skipping.\n",
      "File \"../../data/ADNI/fmri_edge/lingam/lingam1120.csv\" not found. Skipping.\n",
      "File \"../../data/ADNI/fmri_edge/lingam/lingam1121.csv\" not found. Skipping.\n",
      "File \"../../data/ADNI/fmri_edge/lingam/lingam1123.csv\" not found. Skipping.\n",
      "File \"../../data/ADNI/fmri_edge/lingam/lingam1124.csv\" not found. Skipping.\n",
      "File \"../../data/ADNI/fmri_edge/lingam/lingam1125.csv\" not found. Skipping.\n",
      "File \"../../data/ADNI/fmri_edge/lingam/lingam1127.csv\" not found. Skipping.\n",
      "File \"../../data/ADNI/fmri_edge/lingam/lingam1128.csv\" not found. Skipping.\n",
      "File \"../../data/ADNI/fmri_edge/lingam/lingam1132.csv\" not found. Skipping.\n",
      "File \"../../data/ADNI/fmri_edge/lingam/lingam1133.csv\" not found. Skipping.\n",
      "File \"../../data/ADNI/fmri_edge/lingam/lingam1136.csv\" not found. Skipping.\n",
      "File \"../../data/ADNI/fmri_edge/lingam/lingam1137.csv\" not found. Skipping.\n",
      "File \"../../data/ADNI/fmri_edge/lingam/lingam1139.csv\" not found. Skipping.\n",
      "File \"../../data/ADNI/fmri_edge/lingam/lingam1140.csv\" not found. Skipping.\n",
      "File \"../../data/ADNI/fmri_edge/lingam/lingam1143.csv\" not found. Skipping.\n",
      "File \"../../data/ADNI/fmri_edge/lingam/lingam1144.csv\" not found. Skipping.\n",
      "File \"../../data/ADNI/fmri_edge/lingam/lingam1145.csv\" not found. Skipping.\n",
      "File \"../../data/ADNI/fmri_edge/lingam/lingam1146.csv\" not found. Skipping.\n",
      "File \"../../data/ADNI/fmri_edge/lingam/lingam1150.csv\" not found. Skipping.\n",
      "File \"../../data/ADNI/fmri_edge/lingam/lingam1151.csv\" not found. Skipping.\n",
      "File \"../../data/ADNI/fmri_edge/lingam/lingam1152.csv\" not found. Skipping.\n",
      "File \"../../data/ADNI/fmri_edge/lingam/lingam1153.csv\" not found. Skipping.\n",
      "File \"../../data/ADNI/fmri_edge/lingam/lingam1155.csv\" not found. Skipping.\n",
      "File \"../../data/ADNI/fmri_edge/lingam/lingam1156.csv\" not found. Skipping.\n",
      "File \"../../data/ADNI/fmri_edge/lingam/lingam1157.csv\" not found. Skipping.\n",
      "File \"../../data/ADNI/fmri_edge/lingam/lingam1158.csv\" not found. Skipping.\n",
      "File \"../../data/ADNI/fmri_edge/lingam/lingam1159.csv\" not found. Skipping.\n",
      "File \"../../data/ADNI/fmri_edge/lingam/lingam1160.csv\" not found. Skipping.\n",
      "File \"../../data/ADNI/fmri_edge/lingam/lingam1161.csv\" not found. Skipping.\n",
      "File \"../../data/ADNI/fmri_edge/lingam/lingam1162.csv\" not found. Skipping.\n",
      "File \"../../data/ADNI/fmri_edge/lingam/lingam1164.csv\" not found. Skipping.\n",
      "File \"../../data/ADNI/fmri_edge/lingam/lingam1165.csv\" not found. Skipping.\n",
      "File \"../../data/ADNI/fmri_edge/lingam/lingam1167.csv\" not found. Skipping.\n",
      "File \"../../data/ADNI/fmri_edge/lingam/lingam1169.csv\" not found. Skipping.\n",
      "File \"../../data/ADNI/fmri_edge/lingam/lingam1170.csv\" not found. Skipping.\n",
      "File \"../../data/ADNI/fmri_edge/lingam/lingam1171.csv\" not found. Skipping.\n",
      "File \"../../data/ADNI/fmri_edge/lingam/lingam1172.csv\" not found. Skipping.\n",
      "File \"../../data/ADNI/fmri_edge/lingam/lingam1173.csv\" not found. Skipping.\n",
      "File \"../../data/ADNI/fmri_edge/lingam/lingam1174.csv\" not found. Skipping.\n",
      "File \"../../data/ADNI/fmri_edge/lingam/lingam1177.csv\" not found. Skipping.\n",
      "File \"../../data/ADNI/fmri_edge/lingam/lingam1179.csv\" not found. Skipping.\n",
      "File \"../../data/ADNI/fmri_edge/lingam/lingam1180.csv\" not found. Skipping.\n",
      "File \"../../data/ADNI/fmri_edge/lingam/lingam1181.csv\" not found. Skipping.\n",
      "File \"../../data/ADNI/fmri_edge/lingam/lingam1182.csv\" not found. Skipping.\n",
      "File \"../../data/ADNI/fmri_edge/lingam/lingam1186.csv\" not found. Skipping.\n",
      "File \"../../data/ADNI/fmri_edge/lingam/lingam1187.csv\" not found. Skipping.\n",
      "File \"../../data/ADNI/fmri_edge/lingam/lingam1190.csv\" not found. Skipping.\n",
      "File \"../../data/ADNI/fmri_edge/lingam/lingam1191.csv\" not found. Skipping.\n",
      "File \"../../data/ADNI/fmri_edge/lingam/lingam1192.csv\" not found. Skipping.\n",
      "File \"../../data/ADNI/fmri_edge/lingam/lingam1193.csv\" not found. Skipping.\n",
      "File \"../../data/ADNI/fmri_edge/lingam/lingam1194.csv\" not found. Skipping.\n",
      "File \"../../data/ADNI/fmri_edge/lingam/lingam1205.csv\" not found. Skipping.\n",
      "File \"../../data/ADNI/fmri_edge/lingam/lingam1206.csv\" not found. Skipping.\n",
      "File \"../../data/ADNI/fmri_edge/lingam/lingam1207.csv\" not found. Skipping.\n",
      "File \"../../data/ADNI/fmri_edge/lingam/lingam1208.csv\" not found. Skipping.\n",
      "File \"../../data/ADNI/fmri_edge/lingam/lingam1209.csv\" not found. Skipping.\n",
      "File \"../../data/ADNI/fmri_edge/lingam/lingam1212.csv\" not found. Skipping.\n",
      "File \"../../data/ADNI/fmri_edge/lingam/lingam1215.csv\" not found. Skipping.\n",
      "File \"../../data/ADNI/fmri_edge/lingam/lingam1218.csv\" not found. Skipping.\n",
      "File \"../../data/ADNI/fmri_edge/lingam/lingam1220.csv\" not found. Skipping.\n",
      "File \"../../data/ADNI/fmri_edge/lingam/lingam1221.csv\" not found. Skipping.\n",
      "File \"../../data/ADNI/fmri_edge/lingam/lingam1222.csv\" not found. Skipping.\n",
      "File \"../../data/ADNI/fmri_edge/lingam/lingam1227.csv\" not found. Skipping.\n",
      "File \"../../data/ADNI/fmri_edge/lingam/lingam1228.csv\" not found. Skipping.\n",
      "File \"../../data/ADNI/fmri_edge/lingam/lingam1229.csv\" not found. Skipping.\n",
      "File \"../../data/ADNI/fmri_edge/lingam/lingam1234.csv\" not found. Skipping.\n",
      "File \"../../data/ADNI/fmri_edge/lingam/lingam1235.csv\" not found. Skipping.\n",
      "File \"../../data/ADNI/fmri_edge/lingam/lingam1240.csv\" not found. Skipping.\n",
      "File \"../../data/ADNI/fmri_edge/lingam/lingam1241.csv\" not found. Skipping.\n",
      "File \"../../data/ADNI/fmri_edge/lingam/lingam1247.csv\" not found. Skipping.\n",
      "File \"../../data/ADNI/fmri_edge/lingam/lingam1249.csv\" not found. Skipping.\n",
      "File \"../../data/ADNI/fmri_edge/lingam/lingam1251.csv\" not found. Skipping.\n",
      "File \"../../data/ADNI/fmri_edge/lingam/lingam1256.csv\" not found. Skipping.\n",
      "File \"../../data/ADNI/fmri_edge/lingam/lingam1257.csv\" not found. Skipping.\n",
      "File \"../../data/ADNI/fmri_edge/lingam/lingam1260.csv\" not found. Skipping.\n",
      "File \"../../data/ADNI/fmri_edge/lingam/lingam1267.csv\" not found. Skipping.\n",
      "File \"../../data/ADNI/fmri_edge/lingam/lingam1270.csv\" not found. Skipping.\n",
      "File \"../../data/ADNI/fmri_edge/lingam/lingam1271.csv\" not found. Skipping.\n",
      "File \"../../data/ADNI/fmri_edge/lingam/lingam1272.csv\" not found. Skipping.\n",
      "File \"../../data/ADNI/fmri_edge/lingam/lingam1275.csv\" not found. Skipping.\n",
      "File \"../../data/ADNI/fmri_edge/lingam/lingam1276.csv\" not found. Skipping.\n",
      "File \"../../data/ADNI/fmri_edge/lingam/lingam1277.csv\" not found. Skipping.\n",
      "File \"../../data/ADNI/fmri_edge/lingam/lingam1278.csv\" not found. Skipping.\n",
      "File \"../../data/ADNI/fmri_edge/lingam/lingam1279.csv\" not found. Skipping.\n",
      "File \"../../data/ADNI/fmri_edge/lingam/lingam1280.csv\" not found. Skipping.\n",
      "File \"../../data/ADNI/fmri_edge/lingam/lingam1286.csv\" not found. Skipping.\n",
      "File \"../../data/ADNI/fmri_edge/lingam/lingam1289.csv\" not found. Skipping.\n",
      "Fold 1/5\n"
     ]
    },
    {
     "name": "stderr",
     "output_type": "stream",
     "text": [
      "Training Epochs: 100%|████████████████████████████████████████████████████████████████████████████████████████████████████████████████████████| 100/100 [00:23<00:00,  4.19it/s]\n"
     ]
    },
    {
     "name": "stdout",
     "output_type": "stream",
     "text": [
      "Fold 2/5\n"
     ]
    },
    {
     "name": "stderr",
     "output_type": "stream",
     "text": [
      "Training Epochs: 100%|████████████████████████████████████████████████████████████████████████████████████████████████████████████████████████| 100/100 [00:24<00:00,  4.08it/s]\n"
     ]
    },
    {
     "name": "stdout",
     "output_type": "stream",
     "text": [
      "Fold 3/5\n"
     ]
    },
    {
     "name": "stderr",
     "output_type": "stream",
     "text": [
      "Training Epochs: 100%|████████████████████████████████████████████████████████████████████████████████████████████████████████████████████████| 100/100 [00:24<00:00,  4.10it/s]\n"
     ]
    },
    {
     "name": "stdout",
     "output_type": "stream",
     "text": [
      "Fold 4/5\n"
     ]
    },
    {
     "name": "stderr",
     "output_type": "stream",
     "text": [
      "Training Epochs: 100%|████████████████████████████████████████████████████████████████████████████████████████████████████████████████████████| 100/100 [00:24<00:00,  4.02it/s]\n"
     ]
    },
    {
     "name": "stdout",
     "output_type": "stream",
     "text": [
      "Fold 5/5\n"
     ]
    },
    {
     "name": "stderr",
     "output_type": "stream",
     "text": [
      "Training Epochs: 100%|████████████████████████████████████████████████████████████████████████████████████████████████████████████████████████| 100/100 [00:24<00:00,  4.08it/s]\n"
     ]
    },
    {
     "name": "stdout",
     "output_type": "stream",
     "text": [
      "_edge_dir_prefixlingam_lingam_epochs100_edge_percent_to_keep0.2_\n",
      "{'accuracy': 0.6095238095238096, 'auroc': 0.5711111111111112, 'sensitivity': 0.7282881136950905, 'specificity': 0.3455555555555555, 'f1_score': 0.7200895198304389}\n",
      "Fold 1/5\n"
     ]
    },
    {
     "name": "stderr",
     "output_type": "stream",
     "text": [
      "Training Epochs: 100%|████████████████████████████████████████████████████████████████████████████████████████████████████████████████████████| 100/100 [00:39<00:00,  2.50it/s]\n"
     ]
    },
    {
     "name": "stdout",
     "output_type": "stream",
     "text": [
      "Fold 2/5\n"
     ]
    },
    {
     "name": "stderr",
     "output_type": "stream",
     "text": [
      "Training Epochs: 100%|████████████████████████████████████████████████████████████████████████████████████████████████████████████████████████| 100/100 [00:35<00:00,  2.83it/s]\n"
     ]
    },
    {
     "name": "stdout",
     "output_type": "stream",
     "text": [
      "Fold 3/5\n"
     ]
    },
    {
     "name": "stderr",
     "output_type": "stream",
     "text": [
      "Training Epochs: 100%|████████████████████████████████████████████████████████████████████████████████████████████████████████████████████████| 100/100 [00:36<00:00,  2.76it/s]\n"
     ]
    },
    {
     "name": "stdout",
     "output_type": "stream",
     "text": [
      "Fold 4/5\n"
     ]
    },
    {
     "name": "stderr",
     "output_type": "stream",
     "text": [
      "Training Epochs: 100%|████████████████████████████████████████████████████████████████████████████████████████████████████████████████████████| 100/100 [00:37<00:00,  2.69it/s]\n"
     ]
    },
    {
     "name": "stdout",
     "output_type": "stream",
     "text": [
      "Fold 5/5\n"
     ]
    },
    {
     "name": "stderr",
     "output_type": "stream",
     "text": [
      "Training Epochs: 100%|████████████████████████████████████████████████████████████████████████████████████████████████████████████████████████| 100/100 [00:35<00:00,  2.81it/s]\n"
     ]
    },
    {
     "name": "stdout",
     "output_type": "stream",
     "text": [
      "_edge_dir_prefixgeneralised_synchronisation_matrix_generalised_synchronisation_matrix_epochs100_edge_percent_to_keep0.2_\n",
      "{'accuracy': 0.6989247311827956, 'auroc': 0.5937190489722459, 'sensitivity': 0.826591970121382, 'specificity': 0.3146335403726708, 'f1_score': 0.8040806273068883}\n",
      "Fold 1/5\n"
     ]
    },
    {
     "name": "stderr",
     "output_type": "stream",
     "text": [
      "Training Epochs: 100%|████████████████████████████████████████████████████████████████████████████████████████████████████████████████████████| 100/100 [00:37<00:00,  2.70it/s]\n"
     ]
    },
    {
     "name": "stdout",
     "output_type": "stream",
     "text": [
      "Fold 2/5\n"
     ]
    },
    {
     "name": "stderr",
     "output_type": "stream",
     "text": [
      "Training Epochs: 100%|████████████████████████████████████████████████████████████████████████████████████████████████████████████████████████| 100/100 [00:39<00:00,  2.52it/s]\n"
     ]
    },
    {
     "name": "stdout",
     "output_type": "stream",
     "text": [
      "Fold 3/5\n"
     ]
    },
    {
     "name": "stderr",
     "output_type": "stream",
     "text": [
      "Training Epochs: 100%|████████████████████████████████████████████████████████████████████████████████████████████████████████████████████████| 100/100 [00:35<00:00,  2.85it/s]\n"
     ]
    },
    {
     "name": "stdout",
     "output_type": "stream",
     "text": [
      "Fold 4/5\n"
     ]
    },
    {
     "name": "stderr",
     "output_type": "stream",
     "text": [
      "Training Epochs: 100%|████████████████████████████████████████████████████████████████████████████████████████████████████████████████████████| 100/100 [00:35<00:00,  2.80it/s]\n"
     ]
    },
    {
     "name": "stdout",
     "output_type": "stream",
     "text": [
      "Fold 5/5\n"
     ]
    },
    {
     "name": "stderr",
     "output_type": "stream",
     "text": [
      "Training Epochs: 100%|████████████████████████████████████████████████████████████████████████████████████████████████████████████████████████| 100/100 [00:35<00:00,  2.84it/s]\n"
     ]
    },
    {
     "name": "stdout",
     "output_type": "stream",
     "text": [
      "_edge_dir_prefixpatels_conditional_dependence_measures_kappa_patels_conditional_dependence_measures_kappa_epochs100_edge_percent_to_keep0.2_\n",
      "{'accuracy': 0.7763440860215054, 'auroc': 0.7664189231248055, 'sensitivity': 0.8579458450046685, 'specificity': 0.5399751552795031, 'f1_score': 0.8517519994581463}\n",
      "Fold 1/5\n"
     ]
    },
    {
     "name": "stderr",
     "output_type": "stream",
     "text": [
      "Training Epochs: 100%|████████████████████████████████████████████████████████████████████████████████████████████████████████████████████████| 100/100 [00:35<00:00,  2.85it/s]\n"
     ]
    },
    {
     "name": "stdout",
     "output_type": "stream",
     "text": [
      "Fold 2/5\n"
     ]
    },
    {
     "name": "stderr",
     "output_type": "stream",
     "text": [
      "Training Epochs: 100%|████████████████████████████████████████████████████████████████████████████████████████████████████████████████████████| 100/100 [00:33<00:00,  2.96it/s]\n"
     ]
    },
    {
     "name": "stdout",
     "output_type": "stream",
     "text": [
      "Fold 3/5\n"
     ]
    },
    {
     "name": "stderr",
     "output_type": "stream",
     "text": [
      "Training Epochs: 100%|████████████████████████████████████████████████████████████████████████████████████████████████████████████████████████| 100/100 [00:35<00:00,  2.82it/s]\n"
     ]
    },
    {
     "name": "stdout",
     "output_type": "stream",
     "text": [
      "Fold 4/5\n"
     ]
    },
    {
     "name": "stderr",
     "output_type": "stream",
     "text": [
      "Training Epochs: 100%|████████████████████████████████████████████████████████████████████████████████████████████████████████████████████████| 100/100 [00:35<00:00,  2.79it/s]\n"
     ]
    },
    {
     "name": "stdout",
     "output_type": "stream",
     "text": [
      "Fold 5/5\n"
     ]
    },
    {
     "name": "stderr",
     "output_type": "stream",
     "text": [
      "Training Epochs: 100%|████████████████████████████████████████████████████████████████████████████████████████████████████████████████████████| 100/100 [00:35<00:00,  2.82it/s]\n"
     ]
    },
    {
     "name": "stdout",
     "output_type": "stream",
     "text": [
      "_edge_dir_prefixpatels_conditional_dependence_measures_tau_patels_conditional_dependence_measures_tau_epochs100_edge_percent_to_keep0.2_\n",
      "{'accuracy': 0.664516129032258, 'auroc': 0.6765145604135374, 'sensitivity': 0.7371381886087769, 'specificity': 0.4439089026915114, 'f1_score': 0.7674380422825704}\n",
      "Fold 1/5\n"
     ]
    },
    {
     "name": "stderr",
     "output_type": "stream",
     "text": [
      "Training Epochs: 100%|████████████████████████████████████████████████████████████████████████████████████████████████████████████████████████| 200/200 [01:08<00:00,  2.91it/s]\n"
     ]
    },
    {
     "name": "stdout",
     "output_type": "stream",
     "text": [
      "Fold 2/5\n"
     ]
    },
    {
     "name": "stderr",
     "output_type": "stream",
     "text": [
      "Training Epochs: 100%|████████████████████████████████████████████████████████████████████████████████████████████████████████████████████████| 200/200 [01:10<00:00,  2.82it/s]\n"
     ]
    },
    {
     "name": "stdout",
     "output_type": "stream",
     "text": [
      "Fold 3/5\n"
     ]
    },
    {
     "name": "stderr",
     "output_type": "stream",
     "text": [
      "Training Epochs: 100%|████████████████████████████████████████████████████████████████████████████████████████████████████████████████████████| 200/200 [01:11<00:00,  2.79it/s]\n"
     ]
    },
    {
     "name": "stdout",
     "output_type": "stream",
     "text": [
      "Fold 4/5\n"
     ]
    },
    {
     "name": "stderr",
     "output_type": "stream",
     "text": [
      "Training Epochs: 100%|████████████████████████████████████████████████████████████████████████████████████████████████████████████████████████| 200/200 [01:11<00:00,  2.82it/s]\n"
     ]
    },
    {
     "name": "stdout",
     "output_type": "stream",
     "text": [
      "Fold 5/5\n"
     ]
    },
    {
     "name": "stderr",
     "output_type": "stream",
     "text": [
      "Training Epochs: 100%|████████████████████████████████████████████████████████████████████████████████████████████████████████████████████████| 200/200 [01:10<00:00,  2.85it/s]\n"
     ]
    },
    {
     "name": "stdout",
     "output_type": "stream",
     "text": [
      "_edge_dir_prefixpearson_correlation_pearson_correlation_epochs200_edge_percent_to_keep0.2_\n",
      "{'accuracy': 0.7698924731182796, 'auroc': 0.7864726112667288, 'sensitivity': 0.8538795518207282, 'specificity': 0.5146997929606625, 'f1_score': 0.8465845549732336}\n",
      "Fold 1/5\n"
     ]
    },
    {
     "name": "stderr",
     "output_type": "stream",
     "text": [
      "Training Epochs: 100%|████████████████████████████████████████████████████████████████████████████████████████████████████████████████████████| 200/200 [01:12<00:00,  2.76it/s]\n"
     ]
    },
    {
     "name": "stdout",
     "output_type": "stream",
     "text": [
      "Fold 2/5\n"
     ]
    },
    {
     "name": "stderr",
     "output_type": "stream",
     "text": [
      "Training Epochs: 100%|████████████████████████████████████████████████████████████████████████████████████████████████████████████████████████| 200/200 [01:14<00:00,  2.67it/s]\n"
     ]
    },
    {
     "name": "stdout",
     "output_type": "stream",
     "text": [
      "Fold 3/5\n"
     ]
    },
    {
     "name": "stderr",
     "output_type": "stream",
     "text": [
      "Training Epochs: 100%|████████████████████████████████████████████████████████████████████████████████████████████████████████████████████████| 200/200 [01:12<00:00,  2.76it/s]\n"
     ]
    },
    {
     "name": "stdout",
     "output_type": "stream",
     "text": [
      "Fold 4/5\n"
     ]
    },
    {
     "name": "stderr",
     "output_type": "stream",
     "text": [
      "Training Epochs: 100%|████████████████████████████████████████████████████████████████████████████████████████████████████████████████████████| 200/200 [01:11<00:00,  2.78it/s]\n"
     ]
    },
    {
     "name": "stdout",
     "output_type": "stream",
     "text": [
      "Fold 5/5\n"
     ]
    },
    {
     "name": "stderr",
     "output_type": "stream",
     "text": [
      "Training Epochs: 100%|████████████████████████████████████████████████████████████████████████████████████████████████████████████████████████| 200/200 [01:14<00:00,  2.69it/s]\n"
     ]
    },
    {
     "name": "stdout",
     "output_type": "stream",
     "text": [
      "_edge_dir_prefixcosine_similarity_cosine_similarity_epochs200_edge_percent_to_keep0.2_\n",
      "{'accuracy': 0.7698924731182796, 'auroc': 0.7770766180868482, 'sensitivity': 0.8620494864612512, 'specificity': 0.48930848861283643, 'f1_score': 0.847920400599388}\n",
      "Fold 1/5\n"
     ]
    },
    {
     "name": "stderr",
     "output_type": "stream",
     "text": [
      "Training Epochs: 100%|████████████████████████████████████████████████████████████████████████████████████████████████████████████████████████| 200/200 [01:11<00:00,  2.80it/s]\n"
     ]
    },
    {
     "name": "stdout",
     "output_type": "stream",
     "text": [
      "Fold 2/5\n"
     ]
    },
    {
     "name": "stderr",
     "output_type": "stream",
     "text": [
      "Training Epochs: 100%|████████████████████████████████████████████████████████████████████████████████████████████████████████████████████████| 200/200 [01:12<00:00,  2.76it/s]\n"
     ]
    },
    {
     "name": "stdout",
     "output_type": "stream",
     "text": [
      "Fold 3/5\n"
     ]
    },
    {
     "name": "stderr",
     "output_type": "stream",
     "text": [
      "Training Epochs: 100%|████████████████████████████████████████████████████████████████████████████████████████████████████████████████████████| 200/200 [01:15<00:00,  2.65it/s]\n"
     ]
    },
    {
     "name": "stdout",
     "output_type": "stream",
     "text": [
      "Fold 4/5\n"
     ]
    },
    {
     "name": "stderr",
     "output_type": "stream",
     "text": [
      "Training Epochs: 100%|████████████████████████████████████████████████████████████████████████████████████████████████████████████████████████| 200/200 [01:11<00:00,  2.78it/s]\n"
     ]
    },
    {
     "name": "stdout",
     "output_type": "stream",
     "text": [
      "Fold 5/5\n"
     ]
    },
    {
     "name": "stderr",
     "output_type": "stream",
     "text": [
      "Training Epochs: 100%|████████████████████████████████████████████████████████████████████████████████████████████████████████████████████████| 200/200 [01:12<00:00,  2.78it/s]\n"
     ]
    },
    {
     "name": "stdout",
     "output_type": "stream",
     "text": [
      "_edge_dir_prefixKNN_Graph_knn_graph__epochs200_edge_percent_to_keep0.2_\n",
      "{'accuracy': 0.7763440860215054, 'auroc': 0.7650566381141829, 'sensitivity': 0.8624369747899159, 'specificity': 0.514832298136646, 'f1_score': 0.8524402755125331}\n",
      "Fold 1/5\n"
     ]
    },
    {
     "name": "stderr",
     "output_type": "stream",
     "text": [
      "Training Epochs: 100%|████████████████████████████████████████████████████████████████████████████████████████████████████████████████████████| 200/200 [01:13<00:00,  2.73it/s]\n"
     ]
    },
    {
     "name": "stdout",
     "output_type": "stream",
     "text": [
      "Fold 2/5\n"
     ]
    },
    {
     "name": "stderr",
     "output_type": "stream",
     "text": [
      "Training Epochs: 100%|████████████████████████████████████████████████████████████████████████████████████████████████████████████████████████| 200/200 [01:15<00:00,  2.65it/s]\n"
     ]
    },
    {
     "name": "stdout",
     "output_type": "stream",
     "text": [
      "Fold 3/5\n"
     ]
    },
    {
     "name": "stderr",
     "output_type": "stream",
     "text": [
      "Training Epochs: 100%|████████████████████████████████████████████████████████████████████████████████████████████████████████████████████████| 200/200 [01:10<00:00,  2.84it/s]\n"
     ]
    },
    {
     "name": "stdout",
     "output_type": "stream",
     "text": [
      "Fold 4/5\n"
     ]
    },
    {
     "name": "stderr",
     "output_type": "stream",
     "text": [
      "Training Epochs: 100%|████████████████████████████████████████████████████████████████████████████████████████████████████████████████████████| 200/200 [01:12<00:00,  2.77it/s]\n"
     ]
    },
    {
     "name": "stdout",
     "output_type": "stream",
     "text": [
      "Fold 5/5\n"
     ]
    },
    {
     "name": "stderr",
     "output_type": "stream",
     "text": [
      "Training Epochs: 100%|████████████████████████████████████████████████████████████████████████████████████████████████████████████████████████| 200/200 [01:11<00:00,  2.78it/s]\n"
     ]
    },
    {
     "name": "stdout",
     "output_type": "stream",
     "text": [
      "_edge_dir_prefixEuclidean_Distance_distance_matrix__epochs200_edge_percent_to_keep0.2_\n",
      "{'accuracy': 0.7483870967741936, 'auroc': 0.7166604487205511, 'sensitivity': 0.8451167133520073, 'specificity': 0.4582691511387164, 'f1_score': 0.8344920223191066}\n",
      "Fold 1/5\n"
     ]
    },
    {
     "name": "stderr",
     "output_type": "stream",
     "text": [
      "Training Epochs: 100%|████████████████████████████████████████████████████████████████████████████████████████████████████████████████████████| 200/200 [01:12<00:00,  2.76it/s]\n"
     ]
    },
    {
     "name": "stdout",
     "output_type": "stream",
     "text": [
      "Fold 2/5\n"
     ]
    },
    {
     "name": "stderr",
     "output_type": "stream",
     "text": [
      "Training Epochs: 100%|████████████████████████████████████████████████████████████████████████████████████████████████████████████████████████| 200/200 [01:12<00:00,  2.77it/s]\n"
     ]
    },
    {
     "name": "stdout",
     "output_type": "stream",
     "text": [
      "Fold 3/5\n"
     ]
    },
    {
     "name": "stderr",
     "output_type": "stream",
     "text": [
      "Training Epochs: 100%|████████████████████████████████████████████████████████████████████████████████████████████████████████████████████████| 200/200 [01:11<00:00,  2.81it/s]\n"
     ]
    },
    {
     "name": "stdout",
     "output_type": "stream",
     "text": [
      "Fold 4/5\n"
     ]
    },
    {
     "name": "stderr",
     "output_type": "stream",
     "text": [
      "Training Epochs: 100%|████████████████████████████████████████████████████████████████████████████████████████████████████████████████████████| 200/200 [01:12<00:00,  2.77it/s]\n"
     ]
    },
    {
     "name": "stdout",
     "output_type": "stream",
     "text": [
      "Fold 5/5\n"
     ]
    },
    {
     "name": "stderr",
     "output_type": "stream",
     "text": [
      "Training Epochs: 100%|████████████████████████████████████████████████████████████████████████████████████████████████████████████████████████| 200/200 [01:11<00:00,  2.80it/s]\n"
     ]
    },
    {
     "name": "stdout",
     "output_type": "stream",
     "text": [
      "_edge_dir_prefixspearman_correlation_spearman_correlation_epochs200_edge_percent_to_keep0.2_\n",
      "{'accuracy': 0.7591397849462366, 'auroc': 0.7760464282331291, 'sensitivity': 0.8425210084033614, 'specificity': 0.5076604554865425, 'f1_score': 0.8398703475296501}\n",
      "Fold 1/5\n"
     ]
    },
    {
     "name": "stderr",
     "output_type": "stream",
     "text": [
      "Training Epochs: 100%|████████████████████████████████████████████████████████████████████████████████████████████████████████████████████████| 200/200 [01:11<00:00,  2.79it/s]\n"
     ]
    },
    {
     "name": "stdout",
     "output_type": "stream",
     "text": [
      "Fold 2/5\n"
     ]
    },
    {
     "name": "stderr",
     "output_type": "stream",
     "text": [
      "Training Epochs: 100%|████████████████████████████████████████████████████████████████████████████████████████████████████████████████████████| 200/200 [01:12<00:00,  2.77it/s]\n"
     ]
    },
    {
     "name": "stdout",
     "output_type": "stream",
     "text": [
      "Fold 3/5\n"
     ]
    },
    {
     "name": "stderr",
     "output_type": "stream",
     "text": [
      "Training Epochs: 100%|████████████████████████████████████████████████████████████████████████████████████████████████████████████████████████| 200/200 [01:12<00:00,  2.75it/s]\n"
     ]
    },
    {
     "name": "stdout",
     "output_type": "stream",
     "text": [
      "Fold 4/5\n"
     ]
    },
    {
     "name": "stderr",
     "output_type": "stream",
     "text": [
      "Training Epochs: 100%|████████████████████████████████████████████████████████████████████████████████████████████████████████████████████████| 200/200 [01:10<00:00,  2.85it/s]\n"
     ]
    },
    {
     "name": "stdout",
     "output_type": "stream",
     "text": [
      "Fold 5/5\n"
     ]
    },
    {
     "name": "stderr",
     "output_type": "stream",
     "text": [
      "Training Epochs: 100%|████████████████████████████████████████████████████████████████████████████████████████████████████████████████████████| 200/200 [01:12<00:00,  2.76it/s]\n"
     ]
    },
    {
     "name": "stdout",
     "output_type": "stream",
     "text": [
      "_edge_dir_prefixkendall_correlation_kendall_correlation_epochs200_edge_percent_to_keep0.2_\n",
      "{'accuracy': 0.7483870967741936, 'auroc': 0.7600495811851311, 'sensitivity': 0.8259337068160597, 'specificity': 0.516488612836439, 'f1_score': 0.8317810573527703}\n",
      "Fold 1/5\n"
     ]
    },
    {
     "name": "stderr",
     "output_type": "stream",
     "text": [
      "Training Epochs: 100%|████████████████████████████████████████████████████████████████████████████████████████████████████████████████████████| 200/200 [01:12<00:00,  2.76it/s]\n"
     ]
    },
    {
     "name": "stdout",
     "output_type": "stream",
     "text": [
      "Fold 2/5\n"
     ]
    },
    {
     "name": "stderr",
     "output_type": "stream",
     "text": [
      "Training Epochs: 100%|████████████████████████████████████████████████████████████████████████████████████████████████████████████████████████| 200/200 [01:12<00:00,  2.76it/s]\n"
     ]
    },
    {
     "name": "stdout",
     "output_type": "stream",
     "text": [
      "Fold 3/5\n"
     ]
    },
    {
     "name": "stderr",
     "output_type": "stream",
     "text": [
      "Training Epochs: 100%|████████████████████████████████████████████████████████████████████████████████████████████████████████████████████████| 200/200 [01:12<00:00,  2.75it/s]\n"
     ]
    },
    {
     "name": "stdout",
     "output_type": "stream",
     "text": [
      "Fold 4/5\n"
     ]
    },
    {
     "name": "stderr",
     "output_type": "stream",
     "text": [
      "Training Epochs: 100%|████████████████████████████████████████████████████████████████████████████████████████████████████████████████████████| 200/200 [01:12<00:00,  2.76it/s]\n"
     ]
    },
    {
     "name": "stdout",
     "output_type": "stream",
     "text": [
      "Fold 5/5\n"
     ]
    },
    {
     "name": "stderr",
     "output_type": "stream",
     "text": [
      "Training Epochs: 100%|████████████████████████████████████████████████████████████████████████████████████████████████████████████████████████| 200/200 [01:13<00:00,  2.71it/s]\n"
     ]
    },
    {
     "name": "stdout",
     "output_type": "stream",
     "text": [
      "_edge_dir_prefixpartial_correlation_partial_correlation_epochs200_edge_percent_to_keep0.2_\n",
      "{'accuracy': 0.6344086021505376, 'auroc': 0.44636584392210993, 'sensitivity': 0.8142623716153128, 'specificity': 0.08887784679089027, 'f1_score': 0.7676387845752752}\n",
      "Fold 1/5\n"
     ]
    },
    {
     "name": "stderr",
     "output_type": "stream",
     "text": [
      "Training Epochs: 100%|████████████████████████████████████████████████████████████████████████████████████████████████████████████████████████| 200/200 [01:11<00:00,  2.81it/s]\n"
     ]
    },
    {
     "name": "stdout",
     "output_type": "stream",
     "text": [
      "Fold 2/5\n"
     ]
    },
    {
     "name": "stderr",
     "output_type": "stream",
     "text": [
      "Training Epochs: 100%|████████████████████████████████████████████████████████████████████████████████████████████████████████████████████████| 200/200 [01:10<00:00,  2.85it/s]\n"
     ]
    },
    {
     "name": "stdout",
     "output_type": "stream",
     "text": [
      "Fold 3/5\n"
     ]
    },
    {
     "name": "stderr",
     "output_type": "stream",
     "text": [
      "Training Epochs: 100%|████████████████████████████████████████████████████████████████████████████████████████████████████████████████████████| 200/200 [01:10<00:00,  2.82it/s]\n"
     ]
    },
    {
     "name": "stdout",
     "output_type": "stream",
     "text": [
      "Fold 4/5\n"
     ]
    },
    {
     "name": "stderr",
     "output_type": "stream",
     "text": [
      "Training Epochs: 100%|████████████████████████████████████████████████████████████████████████████████████████████████████████████████████████| 200/200 [01:12<00:00,  2.77it/s]\n"
     ]
    },
    {
     "name": "stdout",
     "output_type": "stream",
     "text": [
      "Fold 5/5\n"
     ]
    },
    {
     "name": "stderr",
     "output_type": "stream",
     "text": [
      "Training Epochs: 100%|████████████████████████████████████████████████████████████████████████████████████████████████████████████████████████| 200/200 [01:12<00:00,  2.76it/s]\n"
     ]
    },
    {
     "name": "stdout",
     "output_type": "stream",
     "text": [
      "_edge_dir_prefixcross_correlation_cross_correlation_epochs200_edge_percent_to_keep0.2_\n",
      "{'accuracy': 0.7591397849462366, 'auroc': 0.7802159027862353, 'sensitivity': 0.8248646125116712, 'specificity': 0.5587080745341615, 'f1_score': 0.8356357848679197}\n",
      "Fold 1/5\n"
     ]
    },
    {
     "name": "stderr",
     "output_type": "stream",
     "text": [
      "Training Epochs: 100%|████████████████████████████████████████████████████████████████████████████████████████████████████████████████████████| 200/200 [01:11<00:00,  2.81it/s]\n"
     ]
    },
    {
     "name": "stdout",
     "output_type": "stream",
     "text": [
      "Fold 2/5\n"
     ]
    },
    {
     "name": "stderr",
     "output_type": "stream",
     "text": [
      "Training Epochs: 100%|████████████████████████████████████████████████████████████████████████████████████████████████████████████████████████| 200/200 [01:11<00:00,  2.79it/s]\n"
     ]
    },
    {
     "name": "stdout",
     "output_type": "stream",
     "text": [
      "Fold 3/5\n"
     ]
    },
    {
     "name": "stderr",
     "output_type": "stream",
     "text": [
      "Training Epochs: 100%|████████████████████████████████████████████████████████████████████████████████████████████████████████████████████████| 200/200 [01:13<00:00,  2.71it/s]\n"
     ]
    },
    {
     "name": "stdout",
     "output_type": "stream",
     "text": [
      "Fold 4/5\n"
     ]
    },
    {
     "name": "stderr",
     "output_type": "stream",
     "text": [
      "Training Epochs: 100%|████████████████████████████████████████████████████████████████████████████████████████████████████████████████████████| 200/200 [01:12<00:00,  2.75it/s]\n"
     ]
    },
    {
     "name": "stdout",
     "output_type": "stream",
     "text": [
      "Fold 5/5\n"
     ]
    },
    {
     "name": "stderr",
     "output_type": "stream",
     "text": [
      "Training Epochs: 100%|████████████████████████████████████████████████████████████████████████████████████████████████████████████████████████| 200/200 [01:12<00:00,  2.75it/s]\n"
     ]
    },
    {
     "name": "stdout",
     "output_type": "stream",
     "text": [
      "_edge_dir_prefixpairwise_PC_aHOFC_aHOFC_epochs200_edge_percent_to_keep0.2_\n",
      "{'accuracy': 0.6688172043010752, 'auroc': 0.6013150177945574, 'sensitivity': 0.7762745098039215, 'specificity': 0.3395942028985507, 'f1_score': 0.7777566188525699}\n",
      "Fold 1/5\n"
     ]
    },
    {
     "name": "stderr",
     "output_type": "stream",
     "text": [
      "Training Epochs: 100%|████████████████████████████████████████████████████████████████████████████████████████████████████████████████████████| 200/200 [01:15<00:00,  2.65it/s]\n"
     ]
    },
    {
     "name": "stdout",
     "output_type": "stream",
     "text": [
      "Fold 2/5\n"
     ]
    },
    {
     "name": "stderr",
     "output_type": "stream",
     "text": [
      "Training Epochs: 100%|████████████████████████████████████████████████████████████████████████████████████████████████████████████████████████| 200/200 [01:15<00:00,  2.66it/s]\n"
     ]
    },
    {
     "name": "stdout",
     "output_type": "stream",
     "text": [
      "Fold 3/5\n"
     ]
    },
    {
     "name": "stderr",
     "output_type": "stream",
     "text": [
      "Training Epochs: 100%|████████████████████████████████████████████████████████████████████████████████████████████████████████████████████████| 200/200 [01:14<00:00,  2.67it/s]\n"
     ]
    },
    {
     "name": "stdout",
     "output_type": "stream",
     "text": [
      "Fold 4/5\n"
     ]
    },
    {
     "name": "stderr",
     "output_type": "stream",
     "text": [
      "Training Epochs: 100%|████████████████████████████████████████████████████████████████████████████████████████████████████████████████████████| 200/200 [01:13<00:00,  2.71it/s]\n"
     ]
    },
    {
     "name": "stdout",
     "output_type": "stream",
     "text": [
      "Fold 5/5\n"
     ]
    },
    {
     "name": "stderr",
     "output_type": "stream",
     "text": [
      "Training Epochs: 100%|████████████████████████████████████████████████████████████████████████████████████████████████████████████████████████| 200/200 [01:15<00:00,  2.65it/s]\n"
     ]
    },
    {
     "name": "stdout",
     "output_type": "stream",
     "text": [
      "_edge_dir_prefixpairwise_PC_dHOFC_dHOFC_epochs200_edge_percent_to_keep0.2_\n",
      "{'accuracy': 0.6516129032258065, 'auroc': 0.5029802433050514, 'sensitivity': 0.7939775910364146, 'specificity': 0.21523809523809528, 'f1_score': 0.7731264860117324}\n",
      "Fold 1/5\n"
     ]
    },
    {
     "name": "stderr",
     "output_type": "stream",
     "text": [
      "Training Epochs: 100%|████████████████████████████████████████████████████████████████████████████████████████████████████████████████████████| 200/200 [01:14<00:00,  2.68it/s]\n"
     ]
    },
    {
     "name": "stdout",
     "output_type": "stream",
     "text": [
      "Fold 2/5\n"
     ]
    },
    {
     "name": "stderr",
     "output_type": "stream",
     "text": [
      "Training Epochs: 100%|████████████████████████████████████████████████████████████████████████████████████████████████████████████████████████| 200/200 [01:13<00:00,  2.71it/s]\n"
     ]
    },
    {
     "name": "stdout",
     "output_type": "stream",
     "text": [
      "Fold 3/5\n"
     ]
    },
    {
     "name": "stderr",
     "output_type": "stream",
     "text": [
      "Training Epochs: 100%|████████████████████████████████████████████████████████████████████████████████████████████████████████████████████████| 200/200 [01:15<00:00,  2.64it/s]\n"
     ]
    },
    {
     "name": "stdout",
     "output_type": "stream",
     "text": [
      "Fold 4/5\n"
     ]
    },
    {
     "name": "stderr",
     "output_type": "stream",
     "text": [
      "Training Epochs: 100%|████████████████████████████████████████████████████████████████████████████████████████████████████████████████████████| 200/200 [01:14<00:00,  2.70it/s]\n"
     ]
    },
    {
     "name": "stdout",
     "output_type": "stream",
     "text": [
      "Fold 5/5\n"
     ]
    },
    {
     "name": "stderr",
     "output_type": "stream",
     "text": [
      "Training Epochs: 100%|████████████████████████████████████████████████████████████████████████████████████████████████████████████████████████| 200/200 [01:13<00:00,  2.74it/s]\n"
     ]
    },
    {
     "name": "stdout",
     "output_type": "stream",
     "text": [
      "_edge_dir_prefixpairwise_PC_tHOFC_tHOFC_epochs200_edge_percent_to_keep0.2_\n",
      "{'accuracy': 0.6731182795698925, 'auroc': 0.561116415648385, 'sensitivity': 0.778389355742297, 'specificity': 0.34537474120082806, 'f1_score': 0.7799216519424227}\n",
      "Fold 1/5\n"
     ]
    },
    {
     "name": "stderr",
     "output_type": "stream",
     "text": [
      "Training Epochs: 100%|████████████████████████████████████████████████████████████████████████████████████████████████████████████████████████| 200/200 [01:14<00:00,  2.68it/s]\n"
     ]
    },
    {
     "name": "stdout",
     "output_type": "stream",
     "text": [
      "Fold 2/5\n"
     ]
    },
    {
     "name": "stderr",
     "output_type": "stream",
     "text": [
      "Training Epochs: 100%|████████████████████████████████████████████████████████████████████████████████████████████████████████████████████████| 200/200 [01:13<00:00,  2.72it/s]\n"
     ]
    },
    {
     "name": "stdout",
     "output_type": "stream",
     "text": [
      "Fold 3/5\n"
     ]
    },
    {
     "name": "stderr",
     "output_type": "stream",
     "text": [
      "Training Epochs: 100%|████████████████████████████████████████████████████████████████████████████████████████████████████████████████████████| 200/200 [01:12<00:00,  2.74it/s]\n"
     ]
    },
    {
     "name": "stdout",
     "output_type": "stream",
     "text": [
      "Fold 4/5\n"
     ]
    },
    {
     "name": "stderr",
     "output_type": "stream",
     "text": [
      "Training Epochs: 100%|████████████████████████████████████████████████████████████████████████████████████████████████████████████████████████| 200/200 [01:13<00:00,  2.71it/s]\n"
     ]
    },
    {
     "name": "stdout",
     "output_type": "stream",
     "text": [
      "Fold 5/5\n"
     ]
    },
    {
     "name": "stderr",
     "output_type": "stream",
     "text": [
      "Training Epochs: 100%|████████████████████████████████████████████████████████████████████████████████████████████████████████████████████████| 200/200 [01:12<00:00,  2.75it/s]\n"
     ]
    },
    {
     "name": "stdout",
     "output_type": "stream",
     "text": [
      "_edge_dir_prefixcorrelations_correlation_correlations_correlation_epochs200_edge_percent_to_keep0.2_\n",
      "{'accuracy': 0.789247311827957, 'auroc': 0.7888497679264942, 'sensitivity': 0.8803221288515406, 'specificity': 0.5126128364389234, 'f1_score': 0.8622348001519728}\n",
      "Fold 1/5\n"
     ]
    },
    {
     "name": "stderr",
     "output_type": "stream",
     "text": [
      "Training Epochs: 100%|████████████████████████████████████████████████████████████████████████████████████████████████████████████████████████| 200/200 [01:11<00:00,  2.79it/s]\n"
     ]
    },
    {
     "name": "stdout",
     "output_type": "stream",
     "text": [
      "Fold 2/5\n"
     ]
    },
    {
     "name": "stderr",
     "output_type": "stream",
     "text": [
      "Training Epochs: 100%|████████████████████████████████████████████████████████████████████████████████████████████████████████████████████████| 200/200 [01:12<00:00,  2.77it/s]\n"
     ]
    },
    {
     "name": "stdout",
     "output_type": "stream",
     "text": [
      "Fold 3/5\n"
     ]
    },
    {
     "name": "stderr",
     "output_type": "stream",
     "text": [
      "Training Epochs: 100%|████████████████████████████████████████████████████████████████████████████████████████████████████████████████████████| 200/200 [01:12<00:00,  2.77it/s]\n"
     ]
    },
    {
     "name": "stdout",
     "output_type": "stream",
     "text": [
      "Fold 4/5\n"
     ]
    },
    {
     "name": "stderr",
     "output_type": "stream",
     "text": [
      "Training Epochs: 100%|████████████████████████████████████████████████████████████████████████████████████████████████████████████████████████| 200/200 [01:13<00:00,  2.71it/s]\n"
     ]
    },
    {
     "name": "stdout",
     "output_type": "stream",
     "text": [
      "Fold 5/5\n"
     ]
    },
    {
     "name": "stderr",
     "output_type": "stream",
     "text": [
      "Training Epochs: 100%|████████████████████████████████████████████████████████████████████████████████████████████████████████████████████████| 200/200 [01:14<00:00,  2.68it/s]\n"
     ]
    },
    {
     "name": "stdout",
     "output_type": "stream",
     "text": [
      "_edge_dir_prefixassociated_high_order_fc_associated_high_order_fc_epochs200_edge_percent_to_keep0.2_\n",
      "{'accuracy': 0.7397849462365592, 'auroc': 0.7624681118824342, 'sensitivity': 0.835172735760971, 'specificity': 0.4556521739130434, 'f1_score': 0.827577044674317}\n",
      "Fold 1/5\n"
     ]
    },
    {
     "name": "stderr",
     "output_type": "stream",
     "text": [
      "Training Epochs: 100%|████████████████████████████████████████████████████████████████████████████████████████████████████████████████████████| 200/200 [01:13<00:00,  2.73it/s]\n"
     ]
    },
    {
     "name": "stdout",
     "output_type": "stream",
     "text": [
      "Fold 2/5\n"
     ]
    },
    {
     "name": "stderr",
     "output_type": "stream",
     "text": [
      "Training Epochs: 100%|████████████████████████████████████████████████████████████████████████████████████████████████████████████████████████| 200/200 [01:13<00:00,  2.72it/s]\n"
     ]
    },
    {
     "name": "stdout",
     "output_type": "stream",
     "text": [
      "Fold 3/5\n"
     ]
    },
    {
     "name": "stderr",
     "output_type": "stream",
     "text": [
      "Training Epochs: 100%|████████████████████████████████████████████████████████████████████████████████████████████████████████████████████████| 200/200 [01:12<00:00,  2.75it/s]\n"
     ]
    },
    {
     "name": "stdout",
     "output_type": "stream",
     "text": [
      "Fold 4/5\n"
     ]
    },
    {
     "name": "stderr",
     "output_type": "stream",
     "text": [
      "Training Epochs: 100%|████████████████████████████████████████████████████████████████████████████████████████████████████████████████████████| 200/200 [01:12<00:00,  2.75it/s]\n"
     ]
    },
    {
     "name": "stdout",
     "output_type": "stream",
     "text": [
      "Fold 5/5\n"
     ]
    },
    {
     "name": "stderr",
     "output_type": "stream",
     "text": [
      "Training Epochs: 100%|████████████████████████████████████████████████████████████████████████████████████████████████████████████████████████| 200/200 [01:15<00:00,  2.64it/s]\n"
     ]
    },
    {
     "name": "stdout",
     "output_type": "stream",
     "text": [
      "_edge_dir_prefixmutual_information_mutual_information_epochs200_edge_percent_to_keep0.2_\n",
      "{'accuracy': 0.767741935483871, 'auroc': 0.7813699238149365, 'sensitivity': 0.8430065359477125, 'specificity': 0.5393954451345756, 'f1_score': 0.845094440962509}\n",
      "Fold 1/5\n"
     ]
    },
    {
     "name": "stderr",
     "output_type": "stream",
     "text": [
      "Training Epochs: 100%|████████████████████████████████████████████████████████████████████████████████████████████████████████████████████████| 200/200 [01:11<00:00,  2.79it/s]\n"
     ]
    },
    {
     "name": "stdout",
     "output_type": "stream",
     "text": [
      "Fold 2/5\n"
     ]
    },
    {
     "name": "stderr",
     "output_type": "stream",
     "text": [
      "Training Epochs: 100%|████████████████████████████████████████████████████████████████████████████████████████████████████████████████████████| 200/200 [01:12<00:00,  2.77it/s]\n"
     ]
    },
    {
     "name": "stdout",
     "output_type": "stream",
     "text": [
      "Fold 3/5\n"
     ]
    },
    {
     "name": "stderr",
     "output_type": "stream",
     "text": [
      "Training Epochs: 100%|████████████████████████████████████████████████████████████████████████████████████████████████████████████████████████| 200/200 [01:16<00:00,  2.62it/s]\n"
     ]
    },
    {
     "name": "stdout",
     "output_type": "stream",
     "text": [
      "Fold 4/5\n"
     ]
    },
    {
     "name": "stderr",
     "output_type": "stream",
     "text": [
      "Training Epochs: 100%|████████████████████████████████████████████████████████████████████████████████████████████████████████████████████████| 200/200 [01:12<00:00,  2.75it/s]\n"
     ]
    },
    {
     "name": "stdout",
     "output_type": "stream",
     "text": [
      "Fold 5/5\n"
     ]
    },
    {
     "name": "stderr",
     "output_type": "stream",
     "text": [
      "Training Epochs: 100%|████████████████████████████████████████████████████████████████████████████████████████████████████████████████████████| 200/200 [01:12<00:00,  2.77it/s]\n"
     ]
    },
    {
     "name": "stdout",
     "output_type": "stream",
     "text": [
      "_edge_dir_prefixgranger_causality_granger_causality_epochs200_edge_percent_to_keep0.2_\n",
      "{'accuracy': 0.6731182795698925, 'auroc': 0.484825383293414, 'sensitivity': 0.8512464985994399, 'specificity': 0.13497308488612836, 'f1_score': 0.7963292421695813}\n",
      "Fold 1/5\n"
     ]
    },
    {
     "name": "stderr",
     "output_type": "stream",
     "text": [
      "Training Epochs: 100%|████████████████████████████████████████████████████████████████████████████████████████████████████████████████████████| 200/200 [01:11<00:00,  2.80it/s]\n"
     ]
    },
    {
     "name": "stdout",
     "output_type": "stream",
     "text": [
      "Fold 2/5\n"
     ]
    },
    {
     "name": "stderr",
     "output_type": "stream",
     "text": [
      "Training Epochs: 100%|████████████████████████████████████████████████████████████████████████████████████████████████████████████████████████| 200/200 [01:10<00:00,  2.83it/s]\n"
     ]
    },
    {
     "name": "stdout",
     "output_type": "stream",
     "text": [
      "Fold 3/5\n"
     ]
    },
    {
     "name": "stderr",
     "output_type": "stream",
     "text": [
      "Training Epochs: 100%|████████████████████████████████████████████████████████████████████████████████████████████████████████████████████████| 200/200 [01:12<00:00,  2.77it/s]\n"
     ]
    },
    {
     "name": "stdout",
     "output_type": "stream",
     "text": [
      "Fold 4/5\n"
     ]
    },
    {
     "name": "stderr",
     "output_type": "stream",
     "text": [
      "Training Epochs: 100%|████████████████████████████████████████████████████████████████████████████████████████████████████████████████████████| 200/200 [01:11<00:00,  2.80it/s]\n"
     ]
    },
    {
     "name": "stdout",
     "output_type": "stream",
     "text": [
      "Fold 5/5\n"
     ]
    },
    {
     "name": "stderr",
     "output_type": "stream",
     "text": [
      "Training Epochs: 100%|████████████████████████████████████████████████████████████████████████████████████████████████████████████████████████| 200/200 [01:12<00:00,  2.75it/s]\n"
     ]
    },
    {
     "name": "stdout",
     "output_type": "stream",
     "text": [
      "_edge_dir_prefixEMDDistance_EMDdistance_matrix__epochs200_edge_percent_to_keep0.2_\n",
      "{'accuracy': 0.6064516129032258, 'auroc': 0.5345049121097715, 'sensitivity': 0.7277404295051354, 'specificity': 0.22931677018633537, 'f1_score': 0.734784752406048}\n",
      "Fold 1/5\n"
     ]
    },
    {
     "name": "stderr",
     "output_type": "stream",
     "text": [
      "Training Epochs: 100%|████████████████████████████████████████████████████████████████████████████████████████████████████████████████████████| 200/200 [01:10<00:00,  2.84it/s]\n"
     ]
    },
    {
     "name": "stdout",
     "output_type": "stream",
     "text": [
      "Fold 2/5\n"
     ]
    },
    {
     "name": "stderr",
     "output_type": "stream",
     "text": [
      "Training Epochs: 100%|████████████████████████████████████████████████████████████████████████████████████████████████████████████████████████| 200/200 [01:09<00:00,  2.87it/s]\n"
     ]
    },
    {
     "name": "stdout",
     "output_type": "stream",
     "text": [
      "Fold 3/5\n"
     ]
    },
    {
     "name": "stderr",
     "output_type": "stream",
     "text": [
      "Training Epochs: 100%|████████████████████████████████████████████████████████████████████████████████████████████████████████████████████████| 200/200 [01:12<00:00,  2.75it/s]\n"
     ]
    },
    {
     "name": "stdout",
     "output_type": "stream",
     "text": [
      "Fold 4/5\n"
     ]
    },
    {
     "name": "stderr",
     "output_type": "stream",
     "text": [
      "Training Epochs: 100%|████████████████████████████████████████████████████████████████████████████████████████████████████████████████████████| 200/200 [01:11<00:00,  2.82it/s]\n"
     ]
    },
    {
     "name": "stdout",
     "output_type": "stream",
     "text": [
      "Fold 5/5\n"
     ]
    },
    {
     "name": "stderr",
     "output_type": "stream",
     "text": [
      "Training Epochs: 100%|████████████████████████████████████████████████████████████████████████████████████████████████████████████████████████| 200/200 [01:11<00:00,  2.80it/s]\n"
     ]
    },
    {
     "name": "stdout",
     "output_type": "stream",
     "text": [
      "_edge_dir_prefixWaveletCoherence_coherence_matrix__epochs200_edge_percent_to_keep0.2_\n",
      "{'accuracy': 0.653763440860215, 'auroc': 0.5077630888104034, 'sensitivity': 0.7917507002801121, 'specificity': 0.2, 'f1_score': 0.7428564750660399}\n",
      "Fold 1/5\n"
     ]
    },
    {
     "name": "stderr",
     "output_type": "stream",
     "text": [
      "Training Epochs: 100%|████████████████████████████████████████████████████████████████████████████████████████████████████████████████████████| 200/200 [01:10<00:00,  2.82it/s]\n"
     ]
    },
    {
     "name": "stdout",
     "output_type": "stream",
     "text": [
      "Fold 2/5\n"
     ]
    },
    {
     "name": "stderr",
     "output_type": "stream",
     "text": [
      "Training Epochs: 100%|████████████████████████████████████████████████████████████████████████████████████████████████████████████████████████| 200/200 [01:10<00:00,  2.82it/s]\n"
     ]
    },
    {
     "name": "stdout",
     "output_type": "stream",
     "text": [
      "Fold 3/5\n"
     ]
    },
    {
     "name": "stderr",
     "output_type": "stream",
     "text": [
      "Training Epochs: 100%|████████████████████████████████████████████████████████████████████████████████████████████████████████████████████████| 200/200 [01:11<00:00,  2.80it/s]\n"
     ]
    },
    {
     "name": "stdout",
     "output_type": "stream",
     "text": [
      "Fold 4/5\n"
     ]
    },
    {
     "name": "stderr",
     "output_type": "stream",
     "text": [
      "Training Epochs: 100%|████████████████████████████████████████████████████████████████████████████████████████████████████████████████████████| 200/200 [01:12<00:00,  2.76it/s]\n"
     ]
    },
    {
     "name": "stdout",
     "output_type": "stream",
     "text": [
      "Fold 5/5\n"
     ]
    },
    {
     "name": "stderr",
     "output_type": "stream",
     "text": [
      "Training Epochs: 100%|████████████████████████████████████████████████████████████████████████████████████████████████████████████████████████| 200/200 [01:10<00:00,  2.82it/s]\n"
     ]
    },
    {
     "name": "stdout",
     "output_type": "stream",
     "text": [
      "_edge_dir_prefixcoherence_matrix_coherence_matrix_epochs200_edge_percent_to_keep0.2_\n",
      "{'accuracy': 0.746236559139785, 'auroc': 0.7574198838955872, 'sensitivity': 0.8290429505135387, 'specificity': 0.5016149068322981, 'f1_score': 0.830183931823673}\n",
      "File \"../../data/ADNI/fmri_edge/lingam/lingam945.csv\" not found. Skipping.\n",
      "File \"../../data/ADNI/fmri_edge/lingam/lingam947.csv\" not found. Skipping.\n",
      "File \"../../data/ADNI/fmri_edge/lingam/lingam948.csv\" not found. Skipping.\n",
      "File \"../../data/ADNI/fmri_edge/lingam/lingam949.csv\" not found. Skipping.\n",
      "File \"../../data/ADNI/fmri_edge/lingam/lingam950.csv\" not found. Skipping.\n",
      "File \"../../data/ADNI/fmri_edge/lingam/lingam951.csv\" not found. Skipping.\n",
      "File \"../../data/ADNI/fmri_edge/lingam/lingam956.csv\" not found. Skipping.\n",
      "File \"../../data/ADNI/fmri_edge/lingam/lingam959.csv\" not found. Skipping.\n",
      "File \"../../data/ADNI/fmri_edge/lingam/lingam962.csv\" not found. Skipping.\n",
      "File \"../../data/ADNI/fmri_edge/lingam/lingam963.csv\" not found. Skipping.\n",
      "File \"../../data/ADNI/fmri_edge/lingam/lingam965.csv\" not found. Skipping.\n",
      "File \"../../data/ADNI/fmri_edge/lingam/lingam968.csv\" not found. Skipping.\n",
      "File \"../../data/ADNI/fmri_edge/lingam/lingam969.csv\" not found. Skipping.\n",
      "File \"../../data/ADNI/fmri_edge/lingam/lingam970.csv\" not found. Skipping.\n",
      "File \"../../data/ADNI/fmri_edge/lingam/lingam974.csv\" not found. Skipping.\n",
      "File \"../../data/ADNI/fmri_edge/lingam/lingam976.csv\" not found. Skipping.\n",
      "File \"../../data/ADNI/fmri_edge/lingam/lingam977.csv\" not found. Skipping.\n",
      "File \"../../data/ADNI/fmri_edge/lingam/lingam978.csv\" not found. Skipping.\n",
      "File \"../../data/ADNI/fmri_edge/lingam/lingam979.csv\" not found. Skipping.\n",
      "File \"../../data/ADNI/fmri_edge/lingam/lingam980.csv\" not found. Skipping.\n",
      "File \"../../data/ADNI/fmri_edge/lingam/lingam981.csv\" not found. Skipping.\n",
      "File \"../../data/ADNI/fmri_edge/lingam/lingam982.csv\" not found. Skipping.\n",
      "File \"../../data/ADNI/fmri_edge/lingam/lingam984.csv\" not found. Skipping.\n",
      "File \"../../data/ADNI/fmri_edge/lingam/lingam985.csv\" not found. Skipping.\n",
      "File \"../../data/ADNI/fmri_edge/lingam/lingam989.csv\" not found. Skipping.\n",
      "File \"../../data/ADNI/fmri_edge/lingam/lingam991.csv\" not found. Skipping.\n",
      "File \"../../data/ADNI/fmri_edge/lingam/lingam993.csv\" not found. Skipping.\n",
      "File \"../../data/ADNI/fmri_edge/lingam/lingam994.csv\" not found. Skipping.\n",
      "File \"../../data/ADNI/fmri_edge/lingam/lingam995.csv\" not found. Skipping.\n",
      "File \"../../data/ADNI/fmri_edge/lingam/lingam996.csv\" not found. Skipping.\n",
      "File \"../../data/ADNI/fmri_edge/lingam/lingam998.csv\" not found. Skipping.\n",
      "File \"../../data/ADNI/fmri_edge/lingam/lingam1000.csv\" not found. Skipping.\n",
      "File \"../../data/ADNI/fmri_edge/lingam/lingam1002.csv\" not found. Skipping.\n",
      "File \"../../data/ADNI/fmri_edge/lingam/lingam1003.csv\" not found. Skipping.\n",
      "File \"../../data/ADNI/fmri_edge/lingam/lingam1004.csv\" not found. Skipping.\n",
      "File \"../../data/ADNI/fmri_edge/lingam/lingam1005.csv\" not found. Skipping.\n",
      "File \"../../data/ADNI/fmri_edge/lingam/lingam1008.csv\" not found. Skipping.\n",
      "File \"../../data/ADNI/fmri_edge/lingam/lingam1010.csv\" not found. Skipping.\n",
      "File \"../../data/ADNI/fmri_edge/lingam/lingam1012.csv\" not found. Skipping.\n",
      "File \"../../data/ADNI/fmri_edge/lingam/lingam1013.csv\" not found. Skipping.\n",
      "File \"../../data/ADNI/fmri_edge/lingam/lingam1015.csv\" not found. Skipping.\n",
      "File \"../../data/ADNI/fmri_edge/lingam/lingam1016.csv\" not found. Skipping.\n",
      "File \"../../data/ADNI/fmri_edge/lingam/lingam1017.csv\" not found. Skipping.\n",
      "File \"../../data/ADNI/fmri_edge/lingam/lingam1018.csv\" not found. Skipping.\n",
      "File \"../../data/ADNI/fmri_edge/lingam/lingam1019.csv\" not found. Skipping.\n",
      "File \"../../data/ADNI/fmri_edge/lingam/lingam1020.csv\" not found. Skipping.\n",
      "File \"../../data/ADNI/fmri_edge/lingam/lingam1021.csv\" not found. Skipping.\n",
      "File \"../../data/ADNI/fmri_edge/lingam/lingam1022.csv\" not found. Skipping.\n",
      "File \"../../data/ADNI/fmri_edge/lingam/lingam1023.csv\" not found. Skipping.\n",
      "File \"../../data/ADNI/fmri_edge/lingam/lingam1024.csv\" not found. Skipping.\n",
      "File \"../../data/ADNI/fmri_edge/lingam/lingam1025.csv\" not found. Skipping.\n",
      "File \"../../data/ADNI/fmri_edge/lingam/lingam1026.csv\" not found. Skipping.\n",
      "File \"../../data/ADNI/fmri_edge/lingam/lingam1029.csv\" not found. Skipping.\n",
      "File \"../../data/ADNI/fmri_edge/lingam/lingam1030.csv\" not found. Skipping.\n",
      "File \"../../data/ADNI/fmri_edge/lingam/lingam1031.csv\" not found. Skipping.\n",
      "File \"../../data/ADNI/fmri_edge/lingam/lingam1034.csv\" not found. Skipping.\n",
      "File \"../../data/ADNI/fmri_edge/lingam/lingam1035.csv\" not found. Skipping.\n",
      "File \"../../data/ADNI/fmri_edge/lingam/lingam1036.csv\" not found. Skipping.\n",
      "File \"../../data/ADNI/fmri_edge/lingam/lingam1037.csv\" not found. Skipping.\n",
      "File \"../../data/ADNI/fmri_edge/lingam/lingam1038.csv\" not found. Skipping.\n",
      "File \"../../data/ADNI/fmri_edge/lingam/lingam1039.csv\" not found. Skipping.\n",
      "File \"../../data/ADNI/fmri_edge/lingam/lingam1040.csv\" not found. Skipping.\n",
      "File \"../../data/ADNI/fmri_edge/lingam/lingam1042.csv\" not found. Skipping.\n",
      "File \"../../data/ADNI/fmri_edge/lingam/lingam1043.csv\" not found. Skipping.\n",
      "File \"../../data/ADNI/fmri_edge/lingam/lingam1045.csv\" not found. Skipping.\n",
      "File \"../../data/ADNI/fmri_edge/lingam/lingam1046.csv\" not found. Skipping.\n",
      "File \"../../data/ADNI/fmri_edge/lingam/lingam1047.csv\" not found. Skipping.\n",
      "File \"../../data/ADNI/fmri_edge/lingam/lingam1048.csv\" not found. Skipping.\n",
      "File \"../../data/ADNI/fmri_edge/lingam/lingam1050.csv\" not found. Skipping.\n",
      "File \"../../data/ADNI/fmri_edge/lingam/lingam1054.csv\" not found. Skipping.\n",
      "File \"../../data/ADNI/fmri_edge/lingam/lingam1055.csv\" not found. Skipping.\n",
      "File \"../../data/ADNI/fmri_edge/lingam/lingam1057.csv\" not found. Skipping.\n",
      "File \"../../data/ADNI/fmri_edge/lingam/lingam1058.csv\" not found. Skipping.\n",
      "File \"../../data/ADNI/fmri_edge/lingam/lingam1059.csv\" not found. Skipping.\n",
      "File \"../../data/ADNI/fmri_edge/lingam/lingam1061.csv\" not found. Skipping.\n",
      "File \"../../data/ADNI/fmri_edge/lingam/lingam1062.csv\" not found. Skipping.\n",
      "File \"../../data/ADNI/fmri_edge/lingam/lingam1071.csv\" not found. Skipping.\n",
      "File \"../../data/ADNI/fmri_edge/lingam/lingam1073.csv\" not found. Skipping.\n",
      "File \"../../data/ADNI/fmri_edge/lingam/lingam1074.csv\" not found. Skipping.\n",
      "File \"../../data/ADNI/fmri_edge/lingam/lingam1075.csv\" not found. Skipping.\n",
      "File \"../../data/ADNI/fmri_edge/lingam/lingam1076.csv\" not found. Skipping.\n",
      "File \"../../data/ADNI/fmri_edge/lingam/lingam1077.csv\" not found. Skipping.\n",
      "File \"../../data/ADNI/fmri_edge/lingam/lingam1083.csv\" not found. Skipping.\n",
      "File \"../../data/ADNI/fmri_edge/lingam/lingam1084.csv\" not found. Skipping.\n",
      "File \"../../data/ADNI/fmri_edge/lingam/lingam1087.csv\" not found. Skipping.\n",
      "File \"../../data/ADNI/fmri_edge/lingam/lingam1088.csv\" not found. Skipping.\n",
      "File \"../../data/ADNI/fmri_edge/lingam/lingam1089.csv\" not found. Skipping.\n",
      "File \"../../data/ADNI/fmri_edge/lingam/lingam1091.csv\" not found. Skipping.\n",
      "File \"../../data/ADNI/fmri_edge/lingam/lingam1097.csv\" not found. Skipping.\n",
      "File \"../../data/ADNI/fmri_edge/lingam/lingam1098.csv\" not found. Skipping.\n",
      "File \"../../data/ADNI/fmri_edge/lingam/lingam1099.csv\" not found. Skipping.\n",
      "File \"../../data/ADNI/fmri_edge/lingam/lingam1100.csv\" not found. Skipping.\n",
      "File \"../../data/ADNI/fmri_edge/lingam/lingam1101.csv\" not found. Skipping.\n",
      "File \"../../data/ADNI/fmri_edge/lingam/lingam1103.csv\" not found. Skipping.\n",
      "File \"../../data/ADNI/fmri_edge/lingam/lingam1107.csv\" not found. Skipping.\n",
      "File \"../../data/ADNI/fmri_edge/lingam/lingam1108.csv\" not found. Skipping.\n",
      "File \"../../data/ADNI/fmri_edge/lingam/lingam1109.csv\" not found. Skipping.\n",
      "File \"../../data/ADNI/fmri_edge/lingam/lingam1110.csv\" not found. Skipping.\n",
      "File \"../../data/ADNI/fmri_edge/lingam/lingam1111.csv\" not found. Skipping.\n",
      "File \"../../data/ADNI/fmri_edge/lingam/lingam1113.csv\" not found. Skipping.\n",
      "File \"../../data/ADNI/fmri_edge/lingam/lingam1118.csv\" not found. Skipping.\n",
      "File \"../../data/ADNI/fmri_edge/lingam/lingam1119.csv\" not found. Skipping.\n",
      "File \"../../data/ADNI/fmri_edge/lingam/lingam1120.csv\" not found. Skipping.\n",
      "File \"../../data/ADNI/fmri_edge/lingam/lingam1121.csv\" not found. Skipping.\n",
      "File \"../../data/ADNI/fmri_edge/lingam/lingam1123.csv\" not found. Skipping.\n",
      "File \"../../data/ADNI/fmri_edge/lingam/lingam1124.csv\" not found. Skipping.\n",
      "File \"../../data/ADNI/fmri_edge/lingam/lingam1125.csv\" not found. Skipping.\n",
      "File \"../../data/ADNI/fmri_edge/lingam/lingam1127.csv\" not found. Skipping.\n",
      "File \"../../data/ADNI/fmri_edge/lingam/lingam1128.csv\" not found. Skipping.\n",
      "File \"../../data/ADNI/fmri_edge/lingam/lingam1132.csv\" not found. Skipping.\n",
      "File \"../../data/ADNI/fmri_edge/lingam/lingam1133.csv\" not found. Skipping.\n",
      "File \"../../data/ADNI/fmri_edge/lingam/lingam1136.csv\" not found. Skipping.\n",
      "File \"../../data/ADNI/fmri_edge/lingam/lingam1137.csv\" not found. Skipping.\n",
      "File \"../../data/ADNI/fmri_edge/lingam/lingam1139.csv\" not found. Skipping.\n",
      "File \"../../data/ADNI/fmri_edge/lingam/lingam1140.csv\" not found. Skipping.\n",
      "File \"../../data/ADNI/fmri_edge/lingam/lingam1143.csv\" not found. Skipping.\n",
      "File \"../../data/ADNI/fmri_edge/lingam/lingam1144.csv\" not found. Skipping.\n",
      "File \"../../data/ADNI/fmri_edge/lingam/lingam1145.csv\" not found. Skipping.\n",
      "File \"../../data/ADNI/fmri_edge/lingam/lingam1146.csv\" not found. Skipping.\n",
      "File \"../../data/ADNI/fmri_edge/lingam/lingam1150.csv\" not found. Skipping.\n",
      "File \"../../data/ADNI/fmri_edge/lingam/lingam1151.csv\" not found. Skipping.\n",
      "File \"../../data/ADNI/fmri_edge/lingam/lingam1152.csv\" not found. Skipping.\n",
      "File \"../../data/ADNI/fmri_edge/lingam/lingam1153.csv\" not found. Skipping.\n",
      "File \"../../data/ADNI/fmri_edge/lingam/lingam1155.csv\" not found. Skipping.\n",
      "File \"../../data/ADNI/fmri_edge/lingam/lingam1156.csv\" not found. Skipping.\n",
      "File \"../../data/ADNI/fmri_edge/lingam/lingam1157.csv\" not found. Skipping.\n",
      "File \"../../data/ADNI/fmri_edge/lingam/lingam1158.csv\" not found. Skipping.\n",
      "File \"../../data/ADNI/fmri_edge/lingam/lingam1159.csv\" not found. Skipping.\n",
      "File \"../../data/ADNI/fmri_edge/lingam/lingam1160.csv\" not found. Skipping.\n",
      "File \"../../data/ADNI/fmri_edge/lingam/lingam1161.csv\" not found. Skipping.\n",
      "File \"../../data/ADNI/fmri_edge/lingam/lingam1162.csv\" not found. Skipping.\n",
      "File \"../../data/ADNI/fmri_edge/lingam/lingam1164.csv\" not found. Skipping.\n",
      "File \"../../data/ADNI/fmri_edge/lingam/lingam1165.csv\" not found. Skipping.\n",
      "File \"../../data/ADNI/fmri_edge/lingam/lingam1167.csv\" not found. Skipping.\n",
      "File \"../../data/ADNI/fmri_edge/lingam/lingam1169.csv\" not found. Skipping.\n",
      "File \"../../data/ADNI/fmri_edge/lingam/lingam1170.csv\" not found. Skipping.\n",
      "File \"../../data/ADNI/fmri_edge/lingam/lingam1171.csv\" not found. Skipping.\n",
      "File \"../../data/ADNI/fmri_edge/lingam/lingam1172.csv\" not found. Skipping.\n",
      "File \"../../data/ADNI/fmri_edge/lingam/lingam1173.csv\" not found. Skipping.\n",
      "File \"../../data/ADNI/fmri_edge/lingam/lingam1174.csv\" not found. Skipping.\n",
      "File \"../../data/ADNI/fmri_edge/lingam/lingam1177.csv\" not found. Skipping.\n",
      "File \"../../data/ADNI/fmri_edge/lingam/lingam1179.csv\" not found. Skipping.\n",
      "File \"../../data/ADNI/fmri_edge/lingam/lingam1180.csv\" not found. Skipping.\n",
      "File \"../../data/ADNI/fmri_edge/lingam/lingam1181.csv\" not found. Skipping.\n",
      "File \"../../data/ADNI/fmri_edge/lingam/lingam1182.csv\" not found. Skipping.\n",
      "File \"../../data/ADNI/fmri_edge/lingam/lingam1186.csv\" not found. Skipping.\n",
      "File \"../../data/ADNI/fmri_edge/lingam/lingam1187.csv\" not found. Skipping.\n",
      "File \"../../data/ADNI/fmri_edge/lingam/lingam1190.csv\" not found. Skipping.\n",
      "File \"../../data/ADNI/fmri_edge/lingam/lingam1191.csv\" not found. Skipping.\n",
      "File \"../../data/ADNI/fmri_edge/lingam/lingam1192.csv\" not found. Skipping.\n",
      "File \"../../data/ADNI/fmri_edge/lingam/lingam1193.csv\" not found. Skipping.\n",
      "File \"../../data/ADNI/fmri_edge/lingam/lingam1194.csv\" not found. Skipping.\n",
      "File \"../../data/ADNI/fmri_edge/lingam/lingam1205.csv\" not found. Skipping.\n",
      "File \"../../data/ADNI/fmri_edge/lingam/lingam1206.csv\" not found. Skipping.\n",
      "File \"../../data/ADNI/fmri_edge/lingam/lingam1207.csv\" not found. Skipping.\n",
      "File \"../../data/ADNI/fmri_edge/lingam/lingam1208.csv\" not found. Skipping.\n",
      "File \"../../data/ADNI/fmri_edge/lingam/lingam1209.csv\" not found. Skipping.\n",
      "File \"../../data/ADNI/fmri_edge/lingam/lingam1212.csv\" not found. Skipping.\n",
      "File \"../../data/ADNI/fmri_edge/lingam/lingam1215.csv\" not found. Skipping.\n",
      "File \"../../data/ADNI/fmri_edge/lingam/lingam1218.csv\" not found. Skipping.\n",
      "File \"../../data/ADNI/fmri_edge/lingam/lingam1220.csv\" not found. Skipping.\n",
      "File \"../../data/ADNI/fmri_edge/lingam/lingam1221.csv\" not found. Skipping.\n",
      "File \"../../data/ADNI/fmri_edge/lingam/lingam1222.csv\" not found. Skipping.\n",
      "File \"../../data/ADNI/fmri_edge/lingam/lingam1227.csv\" not found. Skipping.\n",
      "File \"../../data/ADNI/fmri_edge/lingam/lingam1228.csv\" not found. Skipping.\n",
      "File \"../../data/ADNI/fmri_edge/lingam/lingam1229.csv\" not found. Skipping.\n",
      "File \"../../data/ADNI/fmri_edge/lingam/lingam1234.csv\" not found. Skipping.\n",
      "File \"../../data/ADNI/fmri_edge/lingam/lingam1235.csv\" not found. Skipping.\n",
      "File \"../../data/ADNI/fmri_edge/lingam/lingam1240.csv\" not found. Skipping.\n",
      "File \"../../data/ADNI/fmri_edge/lingam/lingam1241.csv\" not found. Skipping.\n",
      "File \"../../data/ADNI/fmri_edge/lingam/lingam1247.csv\" not found. Skipping.\n",
      "File \"../../data/ADNI/fmri_edge/lingam/lingam1249.csv\" not found. Skipping.\n",
      "File \"../../data/ADNI/fmri_edge/lingam/lingam1251.csv\" not found. Skipping.\n",
      "File \"../../data/ADNI/fmri_edge/lingam/lingam1256.csv\" not found. Skipping.\n",
      "File \"../../data/ADNI/fmri_edge/lingam/lingam1257.csv\" not found. Skipping.\n",
      "File \"../../data/ADNI/fmri_edge/lingam/lingam1260.csv\" not found. Skipping.\n",
      "File \"../../data/ADNI/fmri_edge/lingam/lingam1267.csv\" not found. Skipping.\n",
      "File \"../../data/ADNI/fmri_edge/lingam/lingam1270.csv\" not found. Skipping.\n",
      "File \"../../data/ADNI/fmri_edge/lingam/lingam1271.csv\" not found. Skipping.\n",
      "File \"../../data/ADNI/fmri_edge/lingam/lingam1272.csv\" not found. Skipping.\n",
      "File \"../../data/ADNI/fmri_edge/lingam/lingam1275.csv\" not found. Skipping.\n",
      "File \"../../data/ADNI/fmri_edge/lingam/lingam1276.csv\" not found. Skipping.\n",
      "File \"../../data/ADNI/fmri_edge/lingam/lingam1277.csv\" not found. Skipping.\n",
      "File \"../../data/ADNI/fmri_edge/lingam/lingam1278.csv\" not found. Skipping.\n",
      "File \"../../data/ADNI/fmri_edge/lingam/lingam1279.csv\" not found. Skipping.\n",
      "File \"../../data/ADNI/fmri_edge/lingam/lingam1280.csv\" not found. Skipping.\n",
      "File \"../../data/ADNI/fmri_edge/lingam/lingam1286.csv\" not found. Skipping.\n",
      "File \"../../data/ADNI/fmri_edge/lingam/lingam1289.csv\" not found. Skipping.\n",
      "Fold 1/5\n"
     ]
    },
    {
     "name": "stderr",
     "output_type": "stream",
     "text": [
      "Training Epochs: 100%|████████████████████████████████████████████████████████████████████████████████████████████████████████████████████████| 200/200 [00:47<00:00,  4.20it/s]\n"
     ]
    },
    {
     "name": "stdout",
     "output_type": "stream",
     "text": [
      "Fold 2/5\n"
     ]
    },
    {
     "name": "stderr",
     "output_type": "stream",
     "text": [
      "Training Epochs: 100%|████████████████████████████████████████████████████████████████████████████████████████████████████████████████████████| 200/200 [00:48<00:00,  4.11it/s]\n"
     ]
    },
    {
     "name": "stdout",
     "output_type": "stream",
     "text": [
      "Fold 3/5\n"
     ]
    },
    {
     "name": "stderr",
     "output_type": "stream",
     "text": [
      "Training Epochs: 100%|████████████████████████████████████████████████████████████████████████████████████████████████████████████████████████| 200/200 [00:49<00:00,  4.01it/s]\n"
     ]
    },
    {
     "name": "stdout",
     "output_type": "stream",
     "text": [
      "Fold 4/5\n"
     ]
    },
    {
     "name": "stderr",
     "output_type": "stream",
     "text": [
      "Training Epochs: 100%|████████████████████████████████████████████████████████████████████████████████████████████████████████████████████████| 200/200 [00:48<00:00,  4.15it/s]\n"
     ]
    },
    {
     "name": "stdout",
     "output_type": "stream",
     "text": [
      "Fold 5/5\n"
     ]
    },
    {
     "name": "stderr",
     "output_type": "stream",
     "text": [
      "Training Epochs:  20%|████████████████████████▊                                                                                                | 41/200 [00:10<00:42,  3.74it/s]"
     ]
    }
   ],
   "source": [
    "argsDictTune_a = {\n",
    "    # choose dataset form: ADNI(BOLD), HCP(CORR), BOLD+CORR\n",
    "    'dataset' : \"ADNI\",\n",
    "    # data path\n",
    "    'dataset_dir' : \"../../data/ADNI/\", # ========================================= locally changed? =========================================\n",
    "    # choose from: GCNConv, GINConv, SGConv, GeneralConv, GATConv\n",
    "    'edge_dir_prefix' : [\n",
    "        'pearson_correlation/pearson_correlation',\n",
    "        \"cosine_similarity/cosine_similarity\",\n",
    "        \"KNN_Graph/knn_graph_\",\n",
    "        \"Euclidean_Distance/distance_matrix_\",\n",
    "        \"spearman_correlation/spearman_correlation\",\n",
    "        \"kendall_correlation/kendall_correlation\",\n",
    "        \"partial_correlation/partial_correlation\",\n",
    "        \"cross_correlation/cross_correlation\",        \n",
    "        \"pairwise_PC_aHOFC/aHOFC\",\n",
    "        \"pairwise_PC_dHOFC/dHOFC\",\n",
    "        \"pairwise_PC_tHOFC/tHOFC\",\n",
    "        \"correlations_correlation/correlations_correlation\",\n",
    "        \"associated_high_order_fc/associated_high_order_fc\",\n",
    "\n",
    "        \n",
    "        \"mutual_information/mutual_information\",\n",
    "        \"granger_causality/granger_causality\",\n",
    "        #added——————————————————\n",
    "        # \"CityblockDistance/distance_matrix_\",\n",
    "        # \"DTWDistance/DTW_distance_\",\n",
    "        \"EMDDistance/EMDdistance_matrix_\",\n",
    "        \"WaveletCoherence/coherence_matrix_\",\n",
    "        \"coherence_matrix/coherence_matrix\",\n",
    "        # \"combined_correlation/combined_correlation\",\n",
    "        \"lingam/lingam\",\n",
    "        \"generalised_synchronisation_matrix/generalised_synchronisation_matrix\",\n",
    "        \"patels_conditional_dependence_measures_kappa/patels_conditional_dependence_measures_kappa\",\n",
    "        \"patels_conditional_dependence_measures_tau/patels_conditional_dependence_measures_tau\",\n",
    "\n",
    "    ],\n",
    "    'model' : \"GCNConv\" ,\n",
    "    'num_classes' : 2,  # ADNI - binary classification\n",
    "    'weight_decay' : 0.0005,\n",
    "    # 'batch_size' : [16, 32],\n",
    "    'batch_size': 16,\n",
    "    'hidden_mlp' : 64,\n",
    "    'hidden' : 32,\n",
    "    # 'num_layers' : [2, 3, 4],\n",
    "    'num_layers': 3,\n",
    "    'runs' : 1,\n",
    "    # 'lr' : [1e-3, 1e-4, 1e-5],\n",
    "    'lr': 1e-3,\n",
    "    'epochs' : [100, 200],\n",
    "    'edge_percent_to_keep' : [0.2],\n",
    "    'n_splits' : 5,\n",
    "    'seed' : 42,\n",
    "}\n",
    "#print([x['lr'] for x in grid_from_param(argsdict)])\n",
    "args_list_a = Args.tuning_list(argsDictTune_a)\n",
    "fix_seed(args_list_a[0].seed)\n",
    "test_metric_list_a = []\n",
    "for args in args_list_a:\n",
    "    met = bench_from_args(args, verbose=False)\n",
    "    test_metric_list_a.append(met)\n",
    "    print(args.tune_name)\n",
    "    print(met)\n",
    "    with open(\"result.txt\", \"a\") as f:\n",
    "        f.write(f\"{args.tune_name}\\n{met}\\n--------------------------------\\n\")"
   ]
  }
 ],
 "metadata": {
  "kernelspec": {
   "display_name": "brainnet",
   "language": "python",
   "name": "python3"
  },
  "language_info": {
   "codemirror_mode": {
    "name": "ipython",
    "version": 3
   },
   "file_extension": ".py",
   "mimetype": "text/x-python",
   "name": "python",
   "nbconvert_exporter": "python",
   "pygments_lexer": "ipython3",
   "version": "3.12.3"
  }
 },
 "nbformat": 4,
 "nbformat_minor": 4
}
